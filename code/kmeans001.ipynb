{
 "cells": [
  {
   "cell_type": "code",
   "execution_count": 1,
   "metadata": {},
   "outputs": [],
   "source": [
    "from sklearn.preprocessing import scale\n",
    "from sklearn.cluster import DBSCAN\n",
    "from sklearn.cluster import KMeans\n",
    "import matplotlib.pyplot as plt\n",
    "import numpy as np\n",
    "import pandas as pd\n",
    "from sklearn.preprocessing import LabelEncoder\n",
    "from sklearn.decomposition import PCA\n",
    "from sklearn.preprocessing import StandardScaler"
   ]
  },
  {
   "cell_type": "code",
   "execution_count": 2,
   "metadata": {},
   "outputs": [],
   "source": [
    "%matplotlib inline"
   ]
  },
  {
   "cell_type": "code",
   "execution_count": 3,
   "metadata": {},
   "outputs": [],
   "source": [
    "#read csv\n",
    "csvData1 = pd.read_csv(\"./1106/feature_final_label/feature_final/brute_force_feature.csv\",sep=',',warn_bad_lines=False, error_bad_lines=False) #정상\n",
    "csvData2 = pd.read_csv(\"./1106/feature_final_label/feature_final/ddos_feature.csv\",sep=',',warn_bad_lines=False, error_bad_lines=False) #악성\n",
    "csvData3 = pd.read_csv(\"./1106/feature_final_label/feature_final/friday_feature2.csv\",sep=',',warn_bad_lines=False, error_bad_lines=False)\n",
    "csvData4 = pd.read_csv(\"./1106/feature_final_label/feature_final/thursday_feature2.csv\",sep=',',warn_bad_lines=False, error_bad_lines=False)\n",
    "csvData5 = pd.read_csv(\"./1106/feature_final_label/feature_final/thursday_feature3.csv\",sep=',',warn_bad_lines=False, error_bad_lines=False)\n",
    "csvData6 = pd.read_csv(\"./1106/feature_final_label/feature_final/train_set1_feature.csv\",sep=',',warn_bad_lines=False, error_bad_lines=False)\n",
    "# csvData7 = pd.read_csv(\"./1106/feature_final_label/feature_final/train_set2_split1_feature.csv\",sep=',',warn_bad_lines=False, error_bad_lines=False)\n",
    "# csvData8 = pd.read_csv(\"./1106/feature_final_label/feature_final/train_set2_split2_feature.csv\",sep=',',warn_bad_lines=False, error_bad_lines=False)\n",
    "csvData9 = pd.read_csv(\"./1106/feature_final_label/feature_final/wednesday_feature2.csv\",sep=',',warn_bad_lines=False, error_bad_lines=False)\n"
   ]
  },
  {
   "cell_type": "code",
   "execution_count": 4,
   "metadata": {},
   "outputs": [],
   "source": [
    "csvData1=csvData1[['fl_dur', 'tot_fw_pk', 'tot_bw_pk', 'fw_iat_tot',\n",
    "       'fw_iat_avg', 'fw_iat_std', 'fw_iat_max', 'fw_iat_min', 'bw_iat_tot',\n",
    "       'bw_iat_avg', 'bw_iat_std', 'bw_iat_max', 'bw_iat_min01', 'fw_pkt_s',\n",
    "       'bw_pkt_s', 'label']]\n",
    "csvData2=csvData2[['fl_dur', 'tot_fw_pk', 'tot_bw_pk', 'fw_iat_tot',\n",
    "       'fw_iat_avg', 'fw_iat_std', 'fw_iat_max', 'fw_iat_min', 'bw_iat_tot',\n",
    "       'bw_iat_avg', 'bw_iat_std', 'bw_iat_max', 'bw_iat_min01', 'fw_pkt_s',\n",
    "       'bw_pkt_s', 'label']]\n",
    "csvData3=csvData3[['fl_dur', 'tot_fw_pk', 'tot_bw_pk', 'fw_iat_tot',\n",
    "       'fw_iat_avg', 'fw_iat_std', 'fw_iat_max', 'fw_iat_min', 'bw_iat_tot',\n",
    "       'bw_iat_avg', 'bw_iat_std', 'bw_iat_max', 'bw_iat_min01', 'fw_pkt_s',\n",
    "       'bw_pkt_s', 'label']]\n",
    "csvData4=csvData4[['fl_dur', 'tot_fw_pk', 'tot_bw_pk', 'fw_iat_tot',\n",
    "       'fw_iat_avg', 'fw_iat_std', 'fw_iat_max', 'fw_iat_min', 'bw_iat_tot',\n",
    "       'bw_iat_avg', 'bw_iat_std', 'bw_iat_max', 'bw_iat_min01', 'fw_pkt_s',\n",
    "       'bw_pkt_s', 'label']]\n",
    "csvData5=csvData5[['fl_dur', 'tot_fw_pk', 'tot_bw_pk', 'fw_iat_tot',\n",
    "       'fw_iat_avg', 'fw_iat_std', 'fw_iat_max', 'fw_iat_min', 'bw_iat_tot',\n",
    "       'bw_iat_avg', 'bw_iat_std', 'bw_iat_max', 'bw_iat_min01', 'fw_pkt_s',\n",
    "       'bw_pkt_s', 'label']]\n",
    "csvData6=csvData6[['fl_dur', 'tot_fw_pk', 'tot_bw_pk', 'fw_iat_tot',\n",
    "       'fw_iat_avg', 'fw_iat_std', 'fw_iat_max', 'fw_iat_min', 'bw_iat_tot',\n",
    "       'bw_iat_avg', 'bw_iat_std', 'bw_iat_max', 'bw_iat_min01', 'fw_pkt_s',\n",
    "       'bw_pkt_s', 'label']]\n",
    "# csvData7=csvData7[['fl_dur', 'tot_fw_pk', 'tot_bw_pk', 'fw_iat_tot',\n",
    "#        'fw_iat_avg', 'fw_iat_std', 'fw_iat_max', 'fw_iat_min', 'bw_iat_tot',\n",
    "#        'bw_iat_avg', 'bw_iat_std', 'bw_iat_max', 'bw_iat_min01', 'fw_pkt_s',\n",
    "#        'bw_pkt_s', 'label']]\n",
    "# csvData8=csvData8[['fl_dur', 'tot_fw_pk', 'tot_bw_pk', 'fw_iat_tot',\n",
    "#        'fw_iat_avg', 'fw_iat_std', 'fw_iat_max', 'fw_iat_min', 'bw_iat_tot',\n",
    "#        'bw_iat_avg', 'bw_iat_std', 'bw_iat_max', 'bw_iat_min01', 'fw_pkt_s',\n",
    "#        'bw_pkt_s', 'label']]\n",
    "csvData9=csvData9[['fl_dur', 'tot_fw_pk', 'tot_bw_pk', 'fw_iat_tot',\n",
    "       'fw_iat_avg', 'fw_iat_std', 'fw_iat_max', 'fw_iat_min', 'bw_iat_tot',\n",
    "       'bw_iat_avg', 'bw_iat_std', 'bw_iat_max', 'bw_iat_min01', 'fw_pkt_s',\n",
    "       'bw_pkt_s', 'label']]"
   ]
  },
  {
   "cell_type": "code",
   "execution_count": 5,
   "metadata": {},
   "outputs": [],
   "source": [
    "#concat csv\n",
    "csvData = pd.concat([csvData1,csvData2,csvData3,csvData4,csvData5,csvData6,csvData9])\n",
    "dfData= pd.DataFrame(data=csvData)"
   ]
  },
  {
   "cell_type": "code",
   "execution_count": 6,
   "metadata": {},
   "outputs": [
    {
     "data": {
      "text/plain": [
       "(308347, 15)"
      ]
     },
     "execution_count": 6,
     "metadata": {},
     "output_type": "execute_result"
    }
   ],
   "source": [
    "#labels 떼기\n",
    "feature = dfData[ ['fl_dur','tot_fw_pk', 'tot_bw_pk', 'fw_iat_tot','fw_iat_avg', 'fw_iat_std', 'fw_iat_max', 'fw_iat_min', 'bw_iat_tot', 'bw_iat_avg', 'bw_iat_std', 'bw_iat_max', 'bw_iat_min01','fw_pkt_s','bw_pkt_s']]\n",
    "feature.isnull().sum()\n",
    "feature.shape"
   ]
  },
  {
   "cell_type": "code",
   "execution_count": 7,
   "metadata": {},
   "outputs": [
    {
     "data": {
      "text/plain": [
       "(308347, 15)"
      ]
     },
     "execution_count": 7,
     "metadata": {},
     "output_type": "execute_result"
    }
   ],
   "source": [
    "#preprocessing\n",
    "from sklearn.preprocessing import MinMaxScaler\n",
    "\n",
    "scaler = MinMaxScaler(feature_range=(0, 1))\n",
    "scaler.fit_transform(feature)\n",
    "feature = scaler.fit_transform(feature)  #스케일된 dataset\n",
    "feature.shape"
   ]
  },
  {
   "cell_type": "code",
   "execution_count": 8,
   "metadata": {},
   "outputs": [],
   "source": [
    "# k-means\n",
    "\n",
    "kmeans = KMeans(n_clusters=6, init='k-means++', max_iter=300, random_state=0).fit(feature)\n",
    "dfData['cluster']=kmeans.labels_\n"
   ]
  },
  {
   "cell_type": "code",
   "execution_count": 9,
   "metadata": {},
   "outputs": [
    {
     "name": "stdout",
     "output_type": "stream",
     "text": [
      "cluster       0      1      2    3    4     5\n",
      "label                                        \n",
      "0        227692      0      0  220    0     0\n",
      "1             0      0      0    0    0   117\n",
      "4             0     35      0    0    0     0\n",
      "5             0    758      0    0  159  1275\n",
      "6             0      8      0    0    0     0\n",
      "8             0      0     45    0   12  3584\n",
      "9             0  39926  30702    0  377  3437\n"
     ]
    },
    {
     "data": {
      "image/png": "[encoded data removed]",
      "text/plain": [
       "<Figure size 432x288 with 1 Axes>"
      ]
     },
     "metadata": {
      "needs_background": "light"
     },
     "output_type": "display_data"
    }
   ],
   "source": [
    "from sklearn.decomposition import PCA\n",
    "\n",
    "pca= PCA(n_components=2)\n",
    "pca_transformed = pca.fit_transform(feature)\n",
    "\n",
    "dfData['pca_x']=pca_transformed[:, 0]\n",
    "dfData['pca_y']=pca_transformed[:, 1]\n",
    "\n",
    "marker0_ind = dfData[dfData['cluster']==0].index\n",
    "marker1_ind = dfData[dfData['cluster']==1].index\n",
    "\n",
    "plt.scatter(dfData['pca_x'],dfData['pca_y'],s=50,marker='D',c='r')\n",
    "ct = pd.crosstab(dfData['label'],dfData['cluster'])\n",
    "\n",
    "\n",
    "print(ct)\n",
    "# ct.to_csv(\"table.csv\",index=False)\n",
    "\n",
    "\n",
    "plt.xlabel('PCA 1')\n",
    "plt.xlabel('PCA 2')\n",
    "plt.title('2 Cluster Visualization by 2 PCA Components')\n",
    "plt.show()"
   ]
  },
  {
   "cell_type": "code",
   "execution_count": 10,
   "metadata": {},
   "outputs": [
    {
     "data": {
      "text/html": [
       "<div>\n",
       "<style scoped>\n",
       "    .dataframe tbody tr th:only-of-type {\n",
       "        vertical-align: middle;\n",
       "    }\n",
       "\n",
       "    .dataframe tbody tr th {\n",
       "        vertical-align: top;\n",
       "    }\n",
       "\n",
       "    .dataframe thead th {\n",
       "        text-align: right;\n",
       "    }\n",
       "</style>\n",
       "<table border=\"1\" class=\"dataframe\">\n",
       "  <thead>\n",
       "    <tr style=\"text-align: right;\">\n",
       "      <th></th>\n",
       "      <th>SET</th>\n",
       "      <th>fl_dur</th>\n",
       "      <th>tot_fw_pk</th>\n",
       "      <th>tot_bw_pk</th>\n",
       "      <th>fw_iat_tot</th>\n",
       "      <th>fw_iat_avg</th>\n",
       "      <th>fw_iat_std</th>\n",
       "      <th>fw_iat_max</th>\n",
       "      <th>fw_iat_min</th>\n",
       "      <th>bw_iat_tot</th>\n",
       "      <th>bw_iat_avg</th>\n",
       "      <th>bw_iat_std</th>\n",
       "      <th>bw_iat_max</th>\n",
       "      <th>bw_iat_min01</th>\n",
       "      <th>fw_pkt_s</th>\n",
       "      <th>bw_pkt_s</th>\n",
       "    </tr>\n",
       "  </thead>\n",
       "  <tbody>\n",
       "    <tr>\n",
       "      <th>0</th>\n",
       "      <td>203.248.44.111_80 10.89.249.86_25441.csv</td>\n",
       "      <td>0.042053</td>\n",
       "      <td>6</td>\n",
       "      <td>5</td>\n",
       "      <td>0.0</td>\n",
       "      <td>26971.000000</td>\n",
       "      <td>0.000000</td>\n",
       "      <td>0.0</td>\n",
       "      <td>0.0</td>\n",
       "      <td>0.0</td>\n",
       "      <td>26971.000000</td>\n",
       "      <td>0.000000</td>\n",
       "      <td>0.0</td>\n",
       "      <td>0.0</td>\n",
       "      <td>6</td>\n",
       "      <td>5</td>\n",
       "    </tr>\n",
       "    <tr>\n",
       "      <th>1</th>\n",
       "      <td>112.167.109.146_9330 10.89.239.191_80.csv</td>\n",
       "      <td>0.001100</td>\n",
       "      <td>1</td>\n",
       "      <td>1</td>\n",
       "      <td>0.0</td>\n",
       "      <td>26991.000000</td>\n",
       "      <td>-1.000000</td>\n",
       "      <td>-1.0</td>\n",
       "      <td>-1.0</td>\n",
       "      <td>0.0</td>\n",
       "      <td>26991.000000</td>\n",
       "      <td>-1.000000</td>\n",
       "      <td>-1.0</td>\n",
       "      <td>-1.0</td>\n",
       "      <td>1</td>\n",
       "      <td>1</td>\n",
       "    </tr>\n",
       "    <tr>\n",
       "      <th>2</th>\n",
       "      <td>203.248.44.111_80 121.161.26.149_1572.csv</td>\n",
       "      <td>0.059970</td>\n",
       "      <td>18</td>\n",
       "      <td>20</td>\n",
       "      <td>0.0</td>\n",
       "      <td>27002.000000</td>\n",
       "      <td>0.000000</td>\n",
       "      <td>0.0</td>\n",
       "      <td>0.0</td>\n",
       "      <td>0.0</td>\n",
       "      <td>27002.000000</td>\n",
       "      <td>0.000000</td>\n",
       "      <td>0.0</td>\n",
       "      <td>0.0</td>\n",
       "      <td>18</td>\n",
       "      <td>20</td>\n",
       "    </tr>\n",
       "    <tr>\n",
       "      <th>3</th>\n",
       "      <td>121.145.43.173_1202 203.248.44.183_443.csv</td>\n",
       "      <td>60.613845</td>\n",
       "      <td>6</td>\n",
       "      <td>7</td>\n",
       "      <td>0.0</td>\n",
       "      <td>26984.000000</td>\n",
       "      <td>0.000000</td>\n",
       "      <td>0.0</td>\n",
       "      <td>0.0</td>\n",
       "      <td>60.0</td>\n",
       "      <td>26992.571429</td>\n",
       "      <td>22.360680</td>\n",
       "      <td>60.0</td>\n",
       "      <td>0.0</td>\n",
       "      <td>6</td>\n",
       "      <td>6</td>\n",
       "    </tr>\n",
       "    <tr>\n",
       "      <th>4</th>\n",
       "      <td>10.89.237.151_4445 223.39.139.192_59645.csv</td>\n",
       "      <td>10.923239</td>\n",
       "      <td>39</td>\n",
       "      <td>52</td>\n",
       "      <td>11.0</td>\n",
       "      <td>26946.153846</td>\n",
       "      <td>1.449281</td>\n",
       "      <td>9.0</td>\n",
       "      <td>0.0</td>\n",
       "      <td>2.0</td>\n",
       "      <td>26945.596154</td>\n",
       "      <td>0.194108</td>\n",
       "      <td>1.0</td>\n",
       "      <td>0.0</td>\n",
       "      <td>28</td>\n",
       "      <td>34</td>\n",
       "    </tr>\n",
       "  </tbody>\n",
       "</table>\n",
       "</div>"
      ],
      "text/plain": [
       "                                           SET     fl_dur  tot_fw_pk  \\\n",
       "0     203.248.44.111_80 10.89.249.86_25441.csv   0.042053          6   \n",
       "1    112.167.109.146_9330 10.89.239.191_80.csv   0.001100          1   \n",
       "2    203.248.44.111_80 121.161.26.149_1572.csv   0.059970         18   \n",
       "3   121.145.43.173_1202 203.248.44.183_443.csv  60.613845          6   \n",
       "4  10.89.237.151_4445 223.39.139.192_59645.csv  10.923239         39   \n",
       "\n",
       "   tot_bw_pk  fw_iat_tot    fw_iat_avg  fw_iat_std  fw_iat_max  fw_iat_min  \\\n",
       "0          5         0.0  26971.000000    0.000000         0.0         0.0   \n",
       "1          1         0.0  26991.000000   -1.000000        -1.0        -1.0   \n",
       "2         20         0.0  27002.000000    0.000000         0.0         0.0   \n",
       "3          7         0.0  26984.000000    0.000000         0.0         0.0   \n",
       "4         52        11.0  26946.153846    1.449281         9.0         0.0   \n",
       "\n",
       "   bw_iat_tot    bw_iat_avg  bw_iat_std  bw_iat_max  bw_iat_min01  fw_pkt_s  \\\n",
       "0         0.0  26971.000000    0.000000         0.0           0.0         6   \n",
       "1         0.0  26991.000000   -1.000000        -1.0          -1.0         1   \n",
       "2         0.0  27002.000000    0.000000         0.0           0.0        18   \n",
       "3        60.0  26992.571429   22.360680        60.0           0.0         6   \n",
       "4         2.0  26945.596154    0.194108         1.0           0.0        28   \n",
       "\n",
       "   bw_pkt_s  \n",
       "0         5  \n",
       "1         1  \n",
       "2        20  \n",
       "3         6  \n",
       "4        34  "
      ]
     },
     "execution_count": 10,
     "metadata": {},
     "output_type": "execute_result"
    }
   ],
   "source": [
    "test = pd.read_csv(\"./1106/data/test_set2_feature.csv\",sep=',',warn_bad_lines=False, error_bad_lines=False)\n",
    "test.head()"
   ]
  },
  {
   "cell_type": "code",
   "execution_count": 11,
   "metadata": {},
   "outputs": [],
   "source": [
    "test_no_set=test[['fl_dur', 'tot_fw_pk', 'tot_bw_pk', 'fw_iat_tot',\n",
    "       'fw_iat_avg', 'fw_iat_std', 'fw_iat_max', 'fw_iat_min', 'bw_iat_tot',\n",
    "       'bw_iat_avg', 'bw_iat_std', 'bw_iat_max', 'bw_iat_min01', 'fw_pkt_s',\n",
    "       'bw_pkt_s']]"
   ]
  },
  {
   "cell_type": "code",
   "execution_count": 12,
   "metadata": {},
   "outputs": [
    {
     "data": {
      "text/plain": [
       "(303288, 15)"
      ]
     },
     "execution_count": 12,
     "metadata": {},
     "output_type": "execute_result"
    }
   ],
   "source": [
    "#preprocessing\n",
    "from sklearn.preprocessing import MinMaxScaler\n",
    "\n",
    "scaler = MinMaxScaler(feature_range=(0, 1))\n",
    "scaler.fit_transform(test_no_set)\n",
    "feature = scaler.fit_transform(test_no_set)  #스케일된 dataset\n",
    "feature.shape"
   ]
  },
  {
   "cell_type": "code",
   "execution_count": 14,
   "metadata": {},
   "outputs": [
    {
     "data": {
      "text/plain": [
       "1    250733\n",
       "2     52555\n",
       "Name: predict, dtype: int64"
      ]
     },
     "execution_count": 14,
     "metadata": {},
     "output_type": "execute_result"
    }
   ],
   "source": [
    "predict = pd.DataFrame(kmeans.predict(feature))\n",
    "predict.columns=['predict']\n",
    "predict['predict'].value_counts()"
   ]
  },
  {
   "cell_type": "code",
   "execution_count": null,
   "metadata": {},
   "outputs": [],
   "source": []
  }
 ],
 "metadata": {
  "kernelspec": {
   "display_name": "Python 3",
   "language": "python",
   "name": "python3"
  },
  "language_info": {
   "codemirror_mode": {
    "name": "ipython",
    "version": 3
   },
   "file_extension": ".py",
   "mimetype": "text/x-python",
   "name": "python",
   "nbconvert_exporter": "python",
   "pygments_lexer": "ipython3",
   "version": "3.6.9"
  }
 },
 "nbformat": 4,
 "nbformat_minor": 2
}
