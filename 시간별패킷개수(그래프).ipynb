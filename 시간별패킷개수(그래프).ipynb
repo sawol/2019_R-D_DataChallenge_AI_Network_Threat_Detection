{
 "cells": [
  {
   "cell_type": "code",
   "execution_count": 2,
   "metadata": {},
   "outputs": [],
   "source": [
    "import csv\n",
    "import pandas as pd"
   ]
  },
  {
   "cell_type": "code",
   "execution_count": 3,
   "metadata": {},
   "outputs": [
    {
     "name": "stderr",
     "output_type": "stream",
     "text": [
      "C:\\Users\\KJH\\Anaconda3\\envs\\py36\\lib\\site-packages\\IPython\\core\\interactiveshell.py:3058: DtypeWarning: Columns (12,13,14,15,16,21) have mixed types. Specify dtype option on import or set low_memory=False.\n",
      "  interactivity=interactivity, compiler=compiler, result=result)\n"
     ]
    }
   ],
   "source": [
    "set1 = pd.read_csv(\"D:\\본선데이터셋\\B_test2_one_way.csv\",sep=',',warn_bad_lines=False, error_bad_lines=False)"
   ]
  },
  {
   "cell_type": "code",
   "execution_count": null,
   "metadata": {},
   "outputs": [],
   "source": [
    "set_src = set1[set1[\"ip.src\"] == \"172.16.0.1\"]"
   ]
  },
  {
   "cell_type": "code",
   "execution_count": null,
   "metadata": {},
   "outputs": [],
   "source": [
    "set_port = set_src[set_src[\"ip.dst\"] == \"192.168.10.50\"]"
   ]
  },
  {
   "cell_type": "code",
   "execution_count": null,
   "metadata": {},
   "outputs": [],
   "source": [
    "set_port.to_csv(\"test.csv\")"
   ]
  },
  {
   "cell_type": "code",
   "execution_count": null,
   "metadata": {},
   "outputs": [],
   "source": [
    "set_port1=set_port[set_port[\"_ws.col.Protocol\"] == \"TCP\"]\n",
    "set_port1"
   ]
  },
  {
   "cell_type": "code",
   "execution_count": null,
   "metadata": {
    "scrolled": true
   },
   "outputs": [],
   "source": [
    "len(set(set_port1[\"tcp.srcport\"]))"
   ]
  },
  {
   "cell_type": "code",
   "execution_count": null,
   "metadata": {},
   "outputs": [],
   "source": [
    "set_port[\"tcp.srcport\"].value_counts"
   ]
  },
  {
   "cell_type": "code",
   "execution_count": null,
   "metadata": {},
   "outputs": [],
   "source": [
    "a = set(set_port[\"tcp.srcport\"])\n",
    "a"
   ]
  },
  {
   "cell_type": "code",
   "execution_count": null,
   "metadata": {},
   "outputs": [],
   "source": [
    "a.to_csv(\"port.csv\")"
   ]
  },
  {
   "cell_type": "code",
   "execution_count": null,
   "metadata": {},
   "outputs": [],
   "source": [
    "data = pd.read_csv(\"./test/172.16.0.1 192.168.10.50.csv\",sep=',',warn_bad_lines=False, error_bad_lines=False)"
   ]
  },
  {
   "cell_type": "code",
   "execution_count": null,
   "metadata": {},
   "outputs": [],
   "source": [
    "data"
   ]
  },
  {
   "cell_type": "code",
   "execution_count": null,
   "metadata": {},
   "outputs": [],
   "source": [
    "data[\"_ws.col.UTCtime\"] = pd.to_timedelta(data[\"_ws.col.UTCtime\"]).dt.total_seconds()"
   ]
  },
  {
   "cell_type": "code",
   "execution_count": null,
   "metadata": {
    "scrolled": true
   },
   "outputs": [],
   "source": [
    "data"
   ]
  },
  {
   "cell_type": "code",
   "execution_count": null,
   "metadata": {},
   "outputs": [],
   "source": [
    "len(set(data[\"tcp.srcport\"]))"
   ]
  },
  {
   "cell_type": "code",
   "execution_count": null,
   "metadata": {},
   "outputs": [],
   "source": [
    "# load data from folders\n",
    "import os\n",
    "pwd = os.getcwd()\n",
    "print(\"pwd : \", pwd)\n",
    "\n",
    "# 폴더명을 변경해줘야 함\n",
    "# folder_name = \"/test1\"\n",
    "folder_name = \"/test\"\n",
    "folder_path = pwd + folder_name\n",
    "\n",
    "folder_path, folder_dirs, folder_files = next(os.walk(folder_path))\n",
    "print(\"\\nfolder_path : \" ,folder_path, \"\\nfolder_dirs : \",folder_dirs, \"\\nfolder_files : \",len(folder_files))\n",
    "\n",
    "print(\"START\")\n",
    "# start = time.time()\n",
    "\n",
    "\n",
    "result = []\n",
    "# ts = time.time()\n",
    "for i in range(len(folder_files)):\n",
    "    if i % 100 == 0:\n",
    "        print((i / 100 * 100) , \"   /   \",len(folder_files), \" DONE\")\n",
    "#         print(time.time() - ts)\n",
    "    temp = pd.read_csv(folder_path + \"/\" + folder_files[i])\n",
    "    temp[\"_ws.col.UTCtime\"] = pd.to_timedelta(temp[\"_ws.col.UTCtime\"]).dt.total_seconds()\n",
    "    a =len(set(temp[\"tcp.srcport\"]))\n",
    "    result.append(a)\n",
    "print(result)\n",
    "result.to_csv(\"srcportnum.csv\")"
   ]
  },
  {
   "cell_type": "code",
   "execution_count": null,
   "metadata": {},
   "outputs": [],
   "source": [
    "a = pd.DataFrame(result)"
   ]
  },
  {
   "cell_type": "code",
   "execution_count": null,
   "metadata": {},
   "outputs": [],
   "source": [
    "a.to_csv(\"result.csv\")"
   ]
  },
  {
   "cell_type": "code",
   "execution_count": null,
   "metadata": {},
   "outputs": [],
   "source": [
    "data = data[data[\"_ws.col.Protocol\"]==\"TCP\"]\n",
    "a =data[\"tcp.srcport\"]"
   ]
  },
  {
   "cell_type": "code",
   "execution_count": null,
   "metadata": {},
   "outputs": [],
   "source": [
    "b = a.value_counts()\n",
    "c = pd.DataFrame(b)"
   ]
  },
  {
   "cell_type": "code",
   "execution_count": null,
   "metadata": {},
   "outputs": [],
   "source": [
    "d = c[c[\"tcp.srcport\"]==4]"
   ]
  },
  {
   "cell_type": "code",
   "execution_count": null,
   "metadata": {},
   "outputs": [],
   "source": [
    "f = pd.DataFrame(d)"
   ]
  },
  {
   "cell_type": "code",
   "execution_count": null,
   "metadata": {},
   "outputs": [],
   "source": [
    "f"
   ]
  },
  {
   "cell_type": "code",
   "execution_count": null,
   "metadata": {},
   "outputs": [],
   "source": [
    "f.to_csv(\"test01.csv\")"
   ]
  },
  {
   "cell_type": "code",
   "execution_count": null,
   "metadata": {},
   "outputs": [],
   "source": [
    "data1 = pd.read_csv(\"./test/172.16.0.1 192.168.10.50.csv\",sep=',',warn_bad_lines=False, error_bad_lines=False)"
   ]
  },
  {
   "cell_type": "code",
   "execution_count": null,
   "metadata": {},
   "outputs": [],
   "source": [
    "data2 = pd.read_csv(\"network_track_1st.csv\",sep=',',warn_bad_lines=False, error_bad_lines=False)"
   ]
  },
  {
   "cell_type": "code",
   "execution_count": null,
   "metadata": {},
   "outputs": [],
   "source": [
    "brute = pd.merge(data1, data2, how='outer')"
   ]
  },
  {
   "cell_type": "code",
   "execution_count": null,
   "metadata": {},
   "outputs": [],
   "source": []
  },
  {
   "cell_type": "code",
   "execution_count": null,
   "metadata": {},
   "outputs": [],
   "source": [
    "brute"
   ]
  },
  {
   "cell_type": "code",
   "execution_count": null,
   "metadata": {},
   "outputs": [],
   "source": [
    "brute.to_csv(\"brute.csv\")"
   ]
  },
  {
   "cell_type": "code",
   "execution_count": null,
   "metadata": {},
   "outputs": [],
   "source": [
    "set1 = pd.read_csv(\"test1_1st.csv\",sep=',',warn_bad_lines=False, error_bad_lines=False)"
   ]
  },
  {
   "cell_type": "code",
   "execution_count": null,
   "metadata": {},
   "outputs": [],
   "source": [
    "a = set1[set1[\"_ws.col.Protocol\"] == \"TCP\"]"
   ]
  },
  {
   "cell_type": "code",
   "execution_count": null,
   "metadata": {},
   "outputs": [],
   "source": [
    "a.to_csv(\"tcp_test.csv\")"
   ]
  },
  {
   "cell_type": "code",
   "execution_count": null,
   "metadata": {},
   "outputs": [],
   "source": [
    "tcpdata = pd.read_csv(\"tcp_test.csv\",sep=',',warn_bad_lines=False, error_bad_lines=False)"
   ]
  },
  {
   "cell_type": "code",
   "execution_count": null,
   "metadata": {},
   "outputs": [],
   "source": [
    "portcount = tcpdata[\"tcp.srcport\"]"
   ]
  },
  {
   "cell_type": "code",
   "execution_count": null,
   "metadata": {},
   "outputs": [],
   "source": [
    "portcount.value_counts()"
   ]
  },
  {
   "cell_type": "code",
   "execution_count": null,
   "metadata": {},
   "outputs": [],
   "source": [
    "grouped = tcpdata['tcp.srcport'].groupby(tcpdata['tcp.dstport']).count()"
   ]
  },
  {
   "cell_type": "code",
   "execution_count": null,
   "metadata": {},
   "outputs": [],
   "source": [
    "grouped"
   ]
  },
  {
   "cell_type": "code",
   "execution_count": null,
   "metadata": {},
   "outputs": [],
   "source": [
    "b = set1[set1[\"_ws.col.Protocol\"] == \"HTTP\"]"
   ]
  },
  {
   "cell_type": "code",
   "execution_count": null,
   "metadata": {},
   "outputs": [],
   "source": [
    "c = b[b[\"tcp.dstport\"] == 80]"
   ]
  },
  {
   "cell_type": "code",
   "execution_count": null,
   "metadata": {},
   "outputs": [],
   "source": [
    "d = c[c[\"ip.src\"] == \"172.16.0.1\"]"
   ]
  },
  {
   "cell_type": "code",
   "execution_count": null,
   "metadata": {},
   "outputs": [],
   "source": [
    "d"
   ]
  },
  {
   "cell_type": "code",
   "execution_count": null,
   "metadata": {},
   "outputs": [],
   "source": [
    "d[\"tcp.srcport\"]"
   ]
  },
  {
   "cell_type": "code",
   "execution_count": null,
   "metadata": {},
   "outputs": [],
   "source": [
    "stream1 = set1[(set1['ip.src'] ==  \"172.16.0.1\") & (set1['ip.dst'] ==  \"192.168.10.50\")]\n",
    "stream2 = set1[(set1['ip.src'] ==  \"192.168.10.50\") & (set1['ip.dst'] ==  \"172.16.0.1\")]"
   ]
  },
  {
   "cell_type": "code",
   "execution_count": null,
   "metadata": {},
   "outputs": [],
   "source": [
    "stream1"
   ]
  },
  {
   "cell_type": "code",
   "execution_count": null,
   "metadata": {},
   "outputs": [],
   "source": [
    "stream = pd.concat([stream1, stream2]).sort_index()"
   ]
  },
  {
   "cell_type": "code",
   "execution_count": null,
   "metadata": {},
   "outputs": [],
   "source": [
    "stream"
   ]
  },
  {
   "cell_type": "code",
   "execution_count": null,
   "metadata": {},
   "outputs": [],
   "source": [
    "stream.to_csv(\"./split1/brute.csv\")\n"
   ]
  },
  {
   "cell_type": "markdown",
   "metadata": {},
   "source": [
    "# 1초당 패킷개수 그림으로 그려주기"
   ]
  },
  {
   "cell_type": "code",
   "execution_count": 25,
   "metadata": {},
   "outputs": [],
   "source": [
    "import os\n",
    "import time\n",
    "import math\n",
    "import pickle\n",
    "import pandas as pd\n",
    "import numpy as np\n",
    "from collections import Counter\n",
    "import matplotlib.pyplot as plt"
   ]
  },
  {
   "cell_type": "code",
   "execution_count": 113,
   "metadata": {
    "scrolled": false
   },
   "outputs": [],
   "source": [
    "data = pd.read_csv(r\"E:\\test2_1st_filter.csv\",sep=',',warn_bad_lines=False, error_bad_lines=False)"
   ]
  },
  {
   "cell_type": "code",
   "execution_count": 165,
   "metadata": {
    "scrolled": true
   },
   "outputs": [
    {
     "data": {
      "text/html": [
       "<div>\n",
       "<style scoped>\n",
       "    .dataframe tbody tr th:only-of-type {\n",
       "        vertical-align: middle;\n",
       "    }\n",
       "\n",
       "    .dataframe tbody tr th {\n",
       "        vertical-align: top;\n",
       "    }\n",
       "\n",
       "    .dataframe thead th {\n",
       "        text-align: right;\n",
       "    }\n",
       "</style>\n",
       "<table border=\"1\" class=\"dataframe\">\n",
       "  <thead>\n",
       "    <tr style=\"text-align: right;\">\n",
       "      <th></th>\n",
       "      <th>_ws.col.UTCtime</th>\n",
       "      <th>_ws.col.Protocol</th>\n",
       "      <th>ip.src</th>\n",
       "      <th>ip.dst</th>\n",
       "      <th>tcp.srcport</th>\n",
       "      <th>tcp.dstport</th>\n",
       "      <th>tcp.len</th>\n",
       "      <th>tcp.seq</th>\n",
       "      <th>tcp.ack</th>\n",
       "      <th>udp.srcport</th>\n",
       "      <th>...</th>\n",
       "      <th>http.request.uri</th>\n",
       "      <th>http.user_agent</th>\n",
       "      <th>http.connection</th>\n",
       "      <th>http.host</th>\n",
       "      <th>http.response.code</th>\n",
       "      <th>http.server</th>\n",
       "      <th>http.content_type</th>\n",
       "      <th>http.content_length</th>\n",
       "      <th>http.cache_control</th>\n",
       "      <th>seconds</th>\n",
       "    </tr>\n",
       "  </thead>\n",
       "  <tbody>\n",
       "  </tbody>\n",
       "</table>\n",
       "<p>0 rows × 23 columns</p>\n",
       "</div>"
      ],
      "text/plain": [
       "Empty DataFrame\n",
       "Columns: [_ws.col.UTCtime, _ws.col.Protocol, ip.src, ip.dst, tcp.srcport, tcp.dstport, tcp.len, tcp.seq, tcp.ack, udp.srcport, udp.dstport, udp.length, http.request.method, http.request.uri, http.user_agent, http.connection, http.host, http.response.code, http.server, http.content_type, http.content_length, http.cache_control, seconds]\n",
       "Index: []\n",
       "\n",
       "[0 rows x 23 columns]"
      ]
     },
     "execution_count": 165,
     "metadata": {},
     "output_type": "execute_result"
    }
   ],
   "source": [
    "data[data['ip.src']==\"13.58.225.34\"]"
   ]
  },
  {
   "cell_type": "code",
   "execution_count": 168,
   "metadata": {},
   "outputs": [],
   "source": [
    "a = data[data['_ws.col.Protocol']==\"FTP\"]"
   ]
  },
  {
   "cell_type": "code",
   "execution_count": 171,
   "metadata": {},
   "outputs": [
    {
     "data": {
      "text/html": [
       "<div>\n",
       "<style scoped>\n",
       "    .dataframe tbody tr th:only-of-type {\n",
       "        vertical-align: middle;\n",
       "    }\n",
       "\n",
       "    .dataframe tbody tr th {\n",
       "        vertical-align: top;\n",
       "    }\n",
       "\n",
       "    .dataframe thead th {\n",
       "        text-align: right;\n",
       "    }\n",
       "</style>\n",
       "<table border=\"1\" class=\"dataframe\">\n",
       "  <thead>\n",
       "    <tr style=\"text-align: right;\">\n",
       "      <th></th>\n",
       "      <th>_ws.col.UTCtime</th>\n",
       "      <th>_ws.col.Protocol</th>\n",
       "      <th>ip.src</th>\n",
       "      <th>ip.dst</th>\n",
       "      <th>tcp.srcport</th>\n",
       "      <th>tcp.dstport</th>\n",
       "      <th>tcp.len</th>\n",
       "      <th>tcp.seq</th>\n",
       "      <th>tcp.ack</th>\n",
       "      <th>udp.srcport</th>\n",
       "      <th>...</th>\n",
       "      <th>http.request.uri</th>\n",
       "      <th>http.user_agent</th>\n",
       "      <th>http.connection</th>\n",
       "      <th>http.host</th>\n",
       "      <th>http.response.code</th>\n",
       "      <th>http.server</th>\n",
       "      <th>http.content_type</th>\n",
       "      <th>http.content_length</th>\n",
       "      <th>http.cache_control</th>\n",
       "      <th>seconds</th>\n",
       "    </tr>\n",
       "  </thead>\n",
       "  <tbody>\n",
       "    <tr>\n",
       "      <th>108384</th>\n",
       "      <td>12:12:18.961007</td>\n",
       "      <td>FTP</td>\n",
       "      <td>185.170.48.239</td>\n",
       "      <td>192.168.10.51</td>\n",
       "      <td>21.0</td>\n",
       "      <td>44460.0</td>\n",
       "      <td>185.0</td>\n",
       "      <td>1.0</td>\n",
       "      <td>1.0</td>\n",
       "      <td>NaN</td>\n",
       "      <td>...</td>\n",
       "      <td>NaN</td>\n",
       "      <td>NaN</td>\n",
       "      <td>NaN</td>\n",
       "      <td>NaN</td>\n",
       "      <td>NaN</td>\n",
       "      <td>NaN</td>\n",
       "      <td>NaN</td>\n",
       "      <td>NaN</td>\n",
       "      <td>NaN</td>\n",
       "      <td>43938.961007</td>\n",
       "    </tr>\n",
       "    <tr>\n",
       "      <th>108386</th>\n",
       "      <td>12:12:19.083831</td>\n",
       "      <td>FTP</td>\n",
       "      <td>185.170.48.239</td>\n",
       "      <td>192.168.10.51</td>\n",
       "      <td>21.0</td>\n",
       "      <td>44460.0</td>\n",
       "      <td>34.0</td>\n",
       "      <td>186.0</td>\n",
       "      <td>17.0</td>\n",
       "      <td>NaN</td>\n",
       "      <td>...</td>\n",
       "      <td>NaN</td>\n",
       "      <td>NaN</td>\n",
       "      <td>NaN</td>\n",
       "      <td>NaN</td>\n",
       "      <td>NaN</td>\n",
       "      <td>NaN</td>\n",
       "      <td>NaN</td>\n",
       "      <td>NaN</td>\n",
       "      <td>NaN</td>\n",
       "      <td>43939.083831</td>\n",
       "    </tr>\n",
       "    <tr>\n",
       "      <th>108387</th>\n",
       "      <td>12:12:19.209281</td>\n",
       "      <td>FTP</td>\n",
       "      <td>185.170.48.239</td>\n",
       "      <td>192.168.10.51</td>\n",
       "      <td>21.0</td>\n",
       "      <td>44460.0</td>\n",
       "      <td>23.0</td>\n",
       "      <td>220.0</td>\n",
       "      <td>57.0</td>\n",
       "      <td>NaN</td>\n",
       "      <td>...</td>\n",
       "      <td>NaN</td>\n",
       "      <td>NaN</td>\n",
       "      <td>NaN</td>\n",
       "      <td>NaN</td>\n",
       "      <td>NaN</td>\n",
       "      <td>NaN</td>\n",
       "      <td>NaN</td>\n",
       "      <td>NaN</td>\n",
       "      <td>NaN</td>\n",
       "      <td>43939.209281</td>\n",
       "    </tr>\n",
       "    <tr>\n",
       "      <th>108388</th>\n",
       "      <td>12:12:19.331819</td>\n",
       "      <td>FTP</td>\n",
       "      <td>185.170.48.239</td>\n",
       "      <td>192.168.10.51</td>\n",
       "      <td>21.0</td>\n",
       "      <td>44460.0</td>\n",
       "      <td>31.0</td>\n",
       "      <td>243.0</td>\n",
       "      <td>65.0</td>\n",
       "      <td>NaN</td>\n",
       "      <td>...</td>\n",
       "      <td>NaN</td>\n",
       "      <td>NaN</td>\n",
       "      <td>NaN</td>\n",
       "      <td>NaN</td>\n",
       "      <td>NaN</td>\n",
       "      <td>NaN</td>\n",
       "      <td>NaN</td>\n",
       "      <td>NaN</td>\n",
       "      <td>NaN</td>\n",
       "      <td>43939.331819</td>\n",
       "    </tr>\n",
       "    <tr>\n",
       "      <th>108389</th>\n",
       "      <td>12:12:19.454547</td>\n",
       "      <td>FTP</td>\n",
       "      <td>185.170.48.239</td>\n",
       "      <td>192.168.10.51</td>\n",
       "      <td>21.0</td>\n",
       "      <td>44460.0</td>\n",
       "      <td>30.0</td>\n",
       "      <td>274.0</td>\n",
       "      <td>97.0</td>\n",
       "      <td>NaN</td>\n",
       "      <td>...</td>\n",
       "      <td>NaN</td>\n",
       "      <td>NaN</td>\n",
       "      <td>NaN</td>\n",
       "      <td>NaN</td>\n",
       "      <td>NaN</td>\n",
       "      <td>NaN</td>\n",
       "      <td>NaN</td>\n",
       "      <td>NaN</td>\n",
       "      <td>NaN</td>\n",
       "      <td>43939.454547</td>\n",
       "    </tr>\n",
       "    <tr>\n",
       "      <th>...</th>\n",
       "      <td>...</td>\n",
       "      <td>...</td>\n",
       "      <td>...</td>\n",
       "      <td>...</td>\n",
       "      <td>...</td>\n",
       "      <td>...</td>\n",
       "      <td>...</td>\n",
       "      <td>...</td>\n",
       "      <td>...</td>\n",
       "      <td>...</td>\n",
       "      <td>...</td>\n",
       "      <td>...</td>\n",
       "      <td>...</td>\n",
       "      <td>...</td>\n",
       "      <td>...</td>\n",
       "      <td>...</td>\n",
       "      <td>...</td>\n",
       "      <td>...</td>\n",
       "      <td>...</td>\n",
       "      <td>...</td>\n",
       "      <td>...</td>\n",
       "    </tr>\n",
       "    <tr>\n",
       "      <th>108560</th>\n",
       "      <td>12:12:45.860673</td>\n",
       "      <td>FTP</td>\n",
       "      <td>185.170.48.239</td>\n",
       "      <td>192.168.10.51</td>\n",
       "      <td>21.0</td>\n",
       "      <td>44460.0</td>\n",
       "      <td>26.0</td>\n",
       "      <td>6752.0</td>\n",
       "      <td>6557.0</td>\n",
       "      <td>NaN</td>\n",
       "      <td>...</td>\n",
       "      <td>NaN</td>\n",
       "      <td>NaN</td>\n",
       "      <td>NaN</td>\n",
       "      <td>NaN</td>\n",
       "      <td>NaN</td>\n",
       "      <td>NaN</td>\n",
       "      <td>NaN</td>\n",
       "      <td>NaN</td>\n",
       "      <td>NaN</td>\n",
       "      <td>43965.860673</td>\n",
       "    </tr>\n",
       "    <tr>\n",
       "      <th>108561</th>\n",
       "      <td>12:12:45.983383</td>\n",
       "      <td>FTP</td>\n",
       "      <td>185.170.48.239</td>\n",
       "      <td>192.168.10.51</td>\n",
       "      <td>21.0</td>\n",
       "      <td>44460.0</td>\n",
       "      <td>30.0</td>\n",
       "      <td>6778.0</td>\n",
       "      <td>6605.0</td>\n",
       "      <td>NaN</td>\n",
       "      <td>...</td>\n",
       "      <td>NaN</td>\n",
       "      <td>NaN</td>\n",
       "      <td>NaN</td>\n",
       "      <td>NaN</td>\n",
       "      <td>NaN</td>\n",
       "      <td>NaN</td>\n",
       "      <td>NaN</td>\n",
       "      <td>NaN</td>\n",
       "      <td>NaN</td>\n",
       "      <td>43965.983383</td>\n",
       "    </tr>\n",
       "    <tr>\n",
       "      <th>108562</th>\n",
       "      <td>12:12:46.105865</td>\n",
       "      <td>FTP</td>\n",
       "      <td>185.170.48.239</td>\n",
       "      <td>192.168.10.51</td>\n",
       "      <td>21.0</td>\n",
       "      <td>44460.0</td>\n",
       "      <td>43.0</td>\n",
       "      <td>6808.0</td>\n",
       "      <td>6653.0</td>\n",
       "      <td>NaN</td>\n",
       "      <td>...</td>\n",
       "      <td>NaN</td>\n",
       "      <td>NaN</td>\n",
       "      <td>NaN</td>\n",
       "      <td>NaN</td>\n",
       "      <td>NaN</td>\n",
       "      <td>NaN</td>\n",
       "      <td>NaN</td>\n",
       "      <td>NaN</td>\n",
       "      <td>NaN</td>\n",
       "      <td>43966.105865</td>\n",
       "    </tr>\n",
       "    <tr>\n",
       "      <th>108563</th>\n",
       "      <td>12:12:46.228961</td>\n",
       "      <td>FTP</td>\n",
       "      <td>185.170.48.239</td>\n",
       "      <td>192.168.10.51</td>\n",
       "      <td>21.0</td>\n",
       "      <td>44460.0</td>\n",
       "      <td>52.0</td>\n",
       "      <td>6851.0</td>\n",
       "      <td>6659.0</td>\n",
       "      <td>NaN</td>\n",
       "      <td>...</td>\n",
       "      <td>NaN</td>\n",
       "      <td>NaN</td>\n",
       "      <td>NaN</td>\n",
       "      <td>NaN</td>\n",
       "      <td>NaN</td>\n",
       "      <td>NaN</td>\n",
       "      <td>NaN</td>\n",
       "      <td>NaN</td>\n",
       "      <td>NaN</td>\n",
       "      <td>43966.228961</td>\n",
       "    </tr>\n",
       "    <tr>\n",
       "      <th>108564</th>\n",
       "      <td>12:12:46.473455</td>\n",
       "      <td>FTP</td>\n",
       "      <td>185.170.48.239</td>\n",
       "      <td>192.168.10.51</td>\n",
       "      <td>21.0</td>\n",
       "      <td>44460.0</td>\n",
       "      <td>26.0</td>\n",
       "      <td>6903.0</td>\n",
       "      <td>6707.0</td>\n",
       "      <td>NaN</td>\n",
       "      <td>...</td>\n",
       "      <td>NaN</td>\n",
       "      <td>NaN</td>\n",
       "      <td>NaN</td>\n",
       "      <td>NaN</td>\n",
       "      <td>NaN</td>\n",
       "      <td>NaN</td>\n",
       "      <td>NaN</td>\n",
       "      <td>NaN</td>\n",
       "      <td>NaN</td>\n",
       "      <td>43966.473455</td>\n",
       "    </tr>\n",
       "  </tbody>\n",
       "</table>\n",
       "<p>180 rows × 23 columns</p>\n",
       "</div>"
      ],
      "text/plain": [
       "        _ws.col.UTCtime _ws.col.Protocol          ip.src         ip.dst  \\\n",
       "108384  12:12:18.961007              FTP  185.170.48.239  192.168.10.51   \n",
       "108386  12:12:19.083831              FTP  185.170.48.239  192.168.10.51   \n",
       "108387  12:12:19.209281              FTP  185.170.48.239  192.168.10.51   \n",
       "108388  12:12:19.331819              FTP  185.170.48.239  192.168.10.51   \n",
       "108389  12:12:19.454547              FTP  185.170.48.239  192.168.10.51   \n",
       "...                 ...              ...             ...            ...   \n",
       "108560  12:12:45.860673              FTP  185.170.48.239  192.168.10.51   \n",
       "108561  12:12:45.983383              FTP  185.170.48.239  192.168.10.51   \n",
       "108562  12:12:46.105865              FTP  185.170.48.239  192.168.10.51   \n",
       "108563  12:12:46.228961              FTP  185.170.48.239  192.168.10.51   \n",
       "108564  12:12:46.473455              FTP  185.170.48.239  192.168.10.51   \n",
       "\n",
       "        tcp.srcport  tcp.dstport  tcp.len  tcp.seq  tcp.ack  udp.srcport  ...  \\\n",
       "108384         21.0      44460.0    185.0      1.0      1.0          NaN  ...   \n",
       "108386         21.0      44460.0     34.0    186.0     17.0          NaN  ...   \n",
       "108387         21.0      44460.0     23.0    220.0     57.0          NaN  ...   \n",
       "108388         21.0      44460.0     31.0    243.0     65.0          NaN  ...   \n",
       "108389         21.0      44460.0     30.0    274.0     97.0          NaN  ...   \n",
       "...             ...          ...      ...      ...      ...          ...  ...   \n",
       "108560         21.0      44460.0     26.0   6752.0   6557.0          NaN  ...   \n",
       "108561         21.0      44460.0     30.0   6778.0   6605.0          NaN  ...   \n",
       "108562         21.0      44460.0     43.0   6808.0   6653.0          NaN  ...   \n",
       "108563         21.0      44460.0     52.0   6851.0   6659.0          NaN  ...   \n",
       "108564         21.0      44460.0     26.0   6903.0   6707.0          NaN  ...   \n",
       "\n",
       "        http.request.uri  http.user_agent http.connection http.host  \\\n",
       "108384               NaN              NaN             NaN       NaN   \n",
       "108386               NaN              NaN             NaN       NaN   \n",
       "108387               NaN              NaN             NaN       NaN   \n",
       "108388               NaN              NaN             NaN       NaN   \n",
       "108389               NaN              NaN             NaN       NaN   \n",
       "...                  ...              ...             ...       ...   \n",
       "108560               NaN              NaN             NaN       NaN   \n",
       "108561               NaN              NaN             NaN       NaN   \n",
       "108562               NaN              NaN             NaN       NaN   \n",
       "108563               NaN              NaN             NaN       NaN   \n",
       "108564               NaN              NaN             NaN       NaN   \n",
       "\n",
       "       http.response.code http.server http.content_type  http.content_length  \\\n",
       "108384                NaN         NaN               NaN                  NaN   \n",
       "108386                NaN         NaN               NaN                  NaN   \n",
       "108387                NaN         NaN               NaN                  NaN   \n",
       "108388                NaN         NaN               NaN                  NaN   \n",
       "108389                NaN         NaN               NaN                  NaN   \n",
       "...                   ...         ...               ...                  ...   \n",
       "108560                NaN         NaN               NaN                  NaN   \n",
       "108561                NaN         NaN               NaN                  NaN   \n",
       "108562                NaN         NaN               NaN                  NaN   \n",
       "108563                NaN         NaN               NaN                  NaN   \n",
       "108564                NaN         NaN               NaN                  NaN   \n",
       "\n",
       "       http.cache_control       seconds  \n",
       "108384                NaN  43938.961007  \n",
       "108386                NaN  43939.083831  \n",
       "108387                NaN  43939.209281  \n",
       "108388                NaN  43939.331819  \n",
       "108389                NaN  43939.454547  \n",
       "...                   ...           ...  \n",
       "108560                NaN  43965.860673  \n",
       "108561                NaN  43965.983383  \n",
       "108562                NaN  43966.105865  \n",
       "108563                NaN  43966.228961  \n",
       "108564                NaN  43966.473455  \n",
       "\n",
       "[180 rows x 23 columns]"
      ]
     },
     "execution_count": 171,
     "metadata": {},
     "output_type": "execute_result"
    }
   ],
   "source": [
    "a"
   ]
  },
  {
   "cell_type": "code",
   "execution_count": 170,
   "metadata": {},
   "outputs": [
    {
     "data": {
      "text/plain": [
       "21.0    180\n",
       "Name: tcp.srcport, dtype: int64"
      ]
     },
     "execution_count": 170,
     "metadata": {},
     "output_type": "execute_result"
    }
   ],
   "source": [
    "a[\"tcp.srcport\"].value_counts()"
   ]
  },
  {
   "cell_type": "code",
   "execution_count": null,
   "metadata": {},
   "outputs": [],
   "source": []
  },
  {
   "cell_type": "code",
   "execution_count": null,
   "metadata": {},
   "outputs": [],
   "source": []
  },
  {
   "cell_type": "code",
   "execution_count": 149,
   "metadata": {},
   "outputs": [],
   "source": [
    "data[\"seconds\"] = pd.to_timedelta(data[\"_ws.col.UTCtime\"]).dt.total_seconds()\n"
   ]
  },
  {
   "cell_type": "code",
   "execution_count": 150,
   "metadata": {},
   "outputs": [],
   "source": [
    "heart = data[(data['tcp.srcport'] != 21) & (data['tcp.srcport'] != 22) & (data['tcp.srcport'] != 80)& (data['tcp.srcport'] != 443)]\n",
    "heart.to_csv(\"heartbleed.csv\", index = False)"
   ]
  },
  {
   "cell_type": "code",
   "execution_count": 151,
   "metadata": {},
   "outputs": [
    {
     "data": {
      "text/html": [
       "<div>\n",
       "<style scoped>\n",
       "    .dataframe tbody tr th:only-of-type {\n",
       "        vertical-align: middle;\n",
       "    }\n",
       "\n",
       "    .dataframe tbody tr th {\n",
       "        vertical-align: top;\n",
       "    }\n",
       "\n",
       "    .dataframe thead th {\n",
       "        text-align: right;\n",
       "    }\n",
       "</style>\n",
       "<table border=\"1\" class=\"dataframe\">\n",
       "  <thead>\n",
       "    <tr style=\"text-align: right;\">\n",
       "      <th></th>\n",
       "      <th>_ws.col.UTCtime</th>\n",
       "      <th>_ws.col.Protocol</th>\n",
       "      <th>ip.src</th>\n",
       "      <th>ip.dst</th>\n",
       "      <th>tcp.srcport</th>\n",
       "      <th>tcp.dstport</th>\n",
       "      <th>tcp.len</th>\n",
       "      <th>tcp.seq</th>\n",
       "      <th>tcp.ack</th>\n",
       "      <th>udp.srcport</th>\n",
       "      <th>...</th>\n",
       "      <th>http.request.uri</th>\n",
       "      <th>http.user_agent</th>\n",
       "      <th>http.connection</th>\n",
       "      <th>http.host</th>\n",
       "      <th>http.response.code</th>\n",
       "      <th>http.server</th>\n",
       "      <th>http.content_type</th>\n",
       "      <th>http.content_length</th>\n",
       "      <th>http.cache_control</th>\n",
       "      <th>seconds</th>\n",
       "    </tr>\n",
       "  </thead>\n",
       "  <tbody>\n",
       "    <tr>\n",
       "      <th>265</th>\n",
       "      <td>12:02:32.550213</td>\n",
       "      <td>TCP</td>\n",
       "      <td>173.194.66.108</td>\n",
       "      <td>192.168.10.9</td>\n",
       "      <td>465.0</td>\n",
       "      <td>1065.0</td>\n",
       "      <td>0.0</td>\n",
       "      <td>0.0</td>\n",
       "      <td>1.0</td>\n",
       "      <td>NaN</td>\n",
       "      <td>...</td>\n",
       "      <td>NaN</td>\n",
       "      <td>NaN</td>\n",
       "      <td>NaN</td>\n",
       "      <td>NaN</td>\n",
       "      <td>NaN</td>\n",
       "      <td>NaN</td>\n",
       "      <td>NaN</td>\n",
       "      <td>NaN</td>\n",
       "      <td>NaN</td>\n",
       "      <td>43352.550213</td>\n",
       "    </tr>\n",
       "    <tr>\n",
       "      <th>266</th>\n",
       "      <td>12:02:34.910283</td>\n",
       "      <td>TCP</td>\n",
       "      <td>173.194.66.108</td>\n",
       "      <td>192.168.10.9</td>\n",
       "      <td>465.0</td>\n",
       "      <td>1065.0</td>\n",
       "      <td>0.0</td>\n",
       "      <td>1.0</td>\n",
       "      <td>136.0</td>\n",
       "      <td>NaN</td>\n",
       "      <td>...</td>\n",
       "      <td>NaN</td>\n",
       "      <td>NaN</td>\n",
       "      <td>NaN</td>\n",
       "      <td>NaN</td>\n",
       "      <td>NaN</td>\n",
       "      <td>NaN</td>\n",
       "      <td>NaN</td>\n",
       "      <td>NaN</td>\n",
       "      <td>NaN</td>\n",
       "      <td>43354.910283</td>\n",
       "    </tr>\n",
       "    <tr>\n",
       "      <th>267</th>\n",
       "      <td>12:02:34.911700</td>\n",
       "      <td>TLSv1</td>\n",
       "      <td>173.194.66.108</td>\n",
       "      <td>192.168.10.9</td>\n",
       "      <td>465.0</td>\n",
       "      <td>1065.0</td>\n",
       "      <td>1430.0</td>\n",
       "      <td>1.0</td>\n",
       "      <td>136.0</td>\n",
       "      <td>NaN</td>\n",
       "      <td>...</td>\n",
       "      <td>NaN</td>\n",
       "      <td>NaN</td>\n",
       "      <td>NaN</td>\n",
       "      <td>NaN</td>\n",
       "      <td>NaN</td>\n",
       "      <td>NaN</td>\n",
       "      <td>NaN</td>\n",
       "      <td>NaN</td>\n",
       "      <td>NaN</td>\n",
       "      <td>43354.911700</td>\n",
       "    </tr>\n",
       "    <tr>\n",
       "      <th>268</th>\n",
       "      <td>12:02:34.911748</td>\n",
       "      <td>TCP</td>\n",
       "      <td>173.194.66.108</td>\n",
       "      <td>192.168.10.9</td>\n",
       "      <td>465.0</td>\n",
       "      <td>1065.0</td>\n",
       "      <td>1430.0</td>\n",
       "      <td>1431.0</td>\n",
       "      <td>136.0</td>\n",
       "      <td>NaN</td>\n",
       "      <td>...</td>\n",
       "      <td>NaN</td>\n",
       "      <td>NaN</td>\n",
       "      <td>NaN</td>\n",
       "      <td>NaN</td>\n",
       "      <td>NaN</td>\n",
       "      <td>NaN</td>\n",
       "      <td>NaN</td>\n",
       "      <td>NaN</td>\n",
       "      <td>NaN</td>\n",
       "      <td>43354.911748</td>\n",
       "    </tr>\n",
       "    <tr>\n",
       "      <th>269</th>\n",
       "      <td>12:02:34.911912</td>\n",
       "      <td>TLSv1</td>\n",
       "      <td>173.194.66.108</td>\n",
       "      <td>192.168.10.9</td>\n",
       "      <td>465.0</td>\n",
       "      <td>1065.0</td>\n",
       "      <td>719.0</td>\n",
       "      <td>2861.0</td>\n",
       "      <td>136.0</td>\n",
       "      <td>NaN</td>\n",
       "      <td>...</td>\n",
       "      <td>NaN</td>\n",
       "      <td>NaN</td>\n",
       "      <td>NaN</td>\n",
       "      <td>NaN</td>\n",
       "      <td>NaN</td>\n",
       "      <td>NaN</td>\n",
       "      <td>NaN</td>\n",
       "      <td>NaN</td>\n",
       "      <td>NaN</td>\n",
       "      <td>43354.911912</td>\n",
       "    </tr>\n",
       "    <tr>\n",
       "      <th>...</th>\n",
       "      <td>...</td>\n",
       "      <td>...</td>\n",
       "      <td>...</td>\n",
       "      <td>...</td>\n",
       "      <td>...</td>\n",
       "      <td>...</td>\n",
       "      <td>...</td>\n",
       "      <td>...</td>\n",
       "      <td>...</td>\n",
       "      <td>...</td>\n",
       "      <td>...</td>\n",
       "      <td>...</td>\n",
       "      <td>...</td>\n",
       "      <td>...</td>\n",
       "      <td>...</td>\n",
       "      <td>...</td>\n",
       "      <td>...</td>\n",
       "      <td>...</td>\n",
       "      <td>...</td>\n",
       "      <td>...</td>\n",
       "      <td>...</td>\n",
       "    </tr>\n",
       "    <tr>\n",
       "      <th>3029042</th>\n",
       "      <td>16:29:38.237347</td>\n",
       "      <td>TLSv1</td>\n",
       "      <td>173.194.204.109</td>\n",
       "      <td>192.168.10.5</td>\n",
       "      <td>465.0</td>\n",
       "      <td>52840.0</td>\n",
       "      <td>85.0</td>\n",
       "      <td>4351.0</td>\n",
       "      <td>1305.0</td>\n",
       "      <td>NaN</td>\n",
       "      <td>...</td>\n",
       "      <td>NaN</td>\n",
       "      <td>NaN</td>\n",
       "      <td>NaN</td>\n",
       "      <td>NaN</td>\n",
       "      <td>NaN</td>\n",
       "      <td>NaN</td>\n",
       "      <td>NaN</td>\n",
       "      <td>NaN</td>\n",
       "      <td>NaN</td>\n",
       "      <td>59378.237347</td>\n",
       "    </tr>\n",
       "    <tr>\n",
       "      <th>3029043</th>\n",
       "      <td>16:29:38.286726</td>\n",
       "      <td>TCP</td>\n",
       "      <td>173.194.204.109</td>\n",
       "      <td>192.168.10.5</td>\n",
       "      <td>465.0</td>\n",
       "      <td>52840.0</td>\n",
       "      <td>0.0</td>\n",
       "      <td>4436.0</td>\n",
       "      <td>1379.0</td>\n",
       "      <td>NaN</td>\n",
       "      <td>...</td>\n",
       "      <td>NaN</td>\n",
       "      <td>NaN</td>\n",
       "      <td>NaN</td>\n",
       "      <td>NaN</td>\n",
       "      <td>NaN</td>\n",
       "      <td>NaN</td>\n",
       "      <td>NaN</td>\n",
       "      <td>NaN</td>\n",
       "      <td>NaN</td>\n",
       "      <td>59378.286726</td>\n",
       "    </tr>\n",
       "    <tr>\n",
       "      <th>3029044</th>\n",
       "      <td>16:29:38.287278</td>\n",
       "      <td>TLSv1</td>\n",
       "      <td>173.194.204.109</td>\n",
       "      <td>192.168.10.5</td>\n",
       "      <td>465.0</td>\n",
       "      <td>52840.0</td>\n",
       "      <td>85.0</td>\n",
       "      <td>4436.0</td>\n",
       "      <td>1379.0</td>\n",
       "      <td>NaN</td>\n",
       "      <td>...</td>\n",
       "      <td>NaN</td>\n",
       "      <td>NaN</td>\n",
       "      <td>NaN</td>\n",
       "      <td>NaN</td>\n",
       "      <td>NaN</td>\n",
       "      <td>NaN</td>\n",
       "      <td>NaN</td>\n",
       "      <td>NaN</td>\n",
       "      <td>NaN</td>\n",
       "      <td>59378.287278</td>\n",
       "    </tr>\n",
       "    <tr>\n",
       "      <th>3029045</th>\n",
       "      <td>16:29:38.287281</td>\n",
       "      <td>TCP</td>\n",
       "      <td>173.194.204.109</td>\n",
       "      <td>192.168.10.5</td>\n",
       "      <td>465.0</td>\n",
       "      <td>52840.0</td>\n",
       "      <td>0.0</td>\n",
       "      <td>4521.0</td>\n",
       "      <td>1379.0</td>\n",
       "      <td>NaN</td>\n",
       "      <td>...</td>\n",
       "      <td>NaN</td>\n",
       "      <td>NaN</td>\n",
       "      <td>NaN</td>\n",
       "      <td>NaN</td>\n",
       "      <td>NaN</td>\n",
       "      <td>NaN</td>\n",
       "      <td>NaN</td>\n",
       "      <td>NaN</td>\n",
       "      <td>NaN</td>\n",
       "      <td>59378.287281</td>\n",
       "    </tr>\n",
       "    <tr>\n",
       "      <th>3029046</th>\n",
       "      <td>16:29:38.336701</td>\n",
       "      <td>TCP</td>\n",
       "      <td>173.194.204.109</td>\n",
       "      <td>192.168.10.5</td>\n",
       "      <td>465.0</td>\n",
       "      <td>52840.0</td>\n",
       "      <td>0.0</td>\n",
       "      <td>4522.0</td>\n",
       "      <td>0.0</td>\n",
       "      <td>NaN</td>\n",
       "      <td>...</td>\n",
       "      <td>NaN</td>\n",
       "      <td>NaN</td>\n",
       "      <td>NaN</td>\n",
       "      <td>NaN</td>\n",
       "      <td>NaN</td>\n",
       "      <td>NaN</td>\n",
       "      <td>NaN</td>\n",
       "      <td>NaN</td>\n",
       "      <td>NaN</td>\n",
       "      <td>59378.336701</td>\n",
       "    </tr>\n",
       "  </tbody>\n",
       "</table>\n",
       "<p>14150 rows × 23 columns</p>\n",
       "</div>"
      ],
      "text/plain": [
       "         _ws.col.UTCtime _ws.col.Protocol           ip.src        ip.dst  \\\n",
       "265      12:02:32.550213              TCP   173.194.66.108  192.168.10.9   \n",
       "266      12:02:34.910283              TCP   173.194.66.108  192.168.10.9   \n",
       "267      12:02:34.911700            TLSv1   173.194.66.108  192.168.10.9   \n",
       "268      12:02:34.911748              TCP   173.194.66.108  192.168.10.9   \n",
       "269      12:02:34.911912            TLSv1   173.194.66.108  192.168.10.9   \n",
       "...                  ...              ...              ...           ...   \n",
       "3029042  16:29:38.237347            TLSv1  173.194.204.109  192.168.10.5   \n",
       "3029043  16:29:38.286726              TCP  173.194.204.109  192.168.10.5   \n",
       "3029044  16:29:38.287278            TLSv1  173.194.204.109  192.168.10.5   \n",
       "3029045  16:29:38.287281              TCP  173.194.204.109  192.168.10.5   \n",
       "3029046  16:29:38.336701              TCP  173.194.204.109  192.168.10.5   \n",
       "\n",
       "         tcp.srcport  tcp.dstport  tcp.len  tcp.seq  tcp.ack  udp.srcport  \\\n",
       "265            465.0       1065.0      0.0      0.0      1.0          NaN   \n",
       "266            465.0       1065.0      0.0      1.0    136.0          NaN   \n",
       "267            465.0       1065.0   1430.0      1.0    136.0          NaN   \n",
       "268            465.0       1065.0   1430.0   1431.0    136.0          NaN   \n",
       "269            465.0       1065.0    719.0   2861.0    136.0          NaN   \n",
       "...              ...          ...      ...      ...      ...          ...   \n",
       "3029042        465.0      52840.0     85.0   4351.0   1305.0          NaN   \n",
       "3029043        465.0      52840.0      0.0   4436.0   1379.0          NaN   \n",
       "3029044        465.0      52840.0     85.0   4436.0   1379.0          NaN   \n",
       "3029045        465.0      52840.0      0.0   4521.0   1379.0          NaN   \n",
       "3029046        465.0      52840.0      0.0   4522.0      0.0          NaN   \n",
       "\n",
       "         ...  http.request.uri  http.user_agent http.connection http.host  \\\n",
       "265      ...               NaN              NaN             NaN       NaN   \n",
       "266      ...               NaN              NaN             NaN       NaN   \n",
       "267      ...               NaN              NaN             NaN       NaN   \n",
       "268      ...               NaN              NaN             NaN       NaN   \n",
       "269      ...               NaN              NaN             NaN       NaN   \n",
       "...      ...               ...              ...             ...       ...   \n",
       "3029042  ...               NaN              NaN             NaN       NaN   \n",
       "3029043  ...               NaN              NaN             NaN       NaN   \n",
       "3029044  ...               NaN              NaN             NaN       NaN   \n",
       "3029045  ...               NaN              NaN             NaN       NaN   \n",
       "3029046  ...               NaN              NaN             NaN       NaN   \n",
       "\n",
       "        http.response.code http.server http.content_type  http.content_length  \\\n",
       "265                    NaN         NaN               NaN                  NaN   \n",
       "266                    NaN         NaN               NaN                  NaN   \n",
       "267                    NaN         NaN               NaN                  NaN   \n",
       "268                    NaN         NaN               NaN                  NaN   \n",
       "269                    NaN         NaN               NaN                  NaN   \n",
       "...                    ...         ...               ...                  ...   \n",
       "3029042                NaN         NaN               NaN                  NaN   \n",
       "3029043                NaN         NaN               NaN                  NaN   \n",
       "3029044                NaN         NaN               NaN                  NaN   \n",
       "3029045                NaN         NaN               NaN                  NaN   \n",
       "3029046                NaN         NaN               NaN                  NaN   \n",
       "\n",
       "        http.cache_control       seconds  \n",
       "265                    NaN  43352.550213  \n",
       "266                    NaN  43354.910283  \n",
       "267                    NaN  43354.911700  \n",
       "268                    NaN  43354.911748  \n",
       "269                    NaN  43354.911912  \n",
       "...                    ...           ...  \n",
       "3029042                NaN  59378.237347  \n",
       "3029043                NaN  59378.286726  \n",
       "3029044                NaN  59378.287278  \n",
       "3029045                NaN  59378.287281  \n",
       "3029046                NaN  59378.336701  \n",
       "\n",
       "[14150 rows x 23 columns]"
      ]
     },
     "execution_count": 151,
     "metadata": {},
     "output_type": "execute_result"
    }
   ],
   "source": [
    "heart"
   ]
  },
  {
   "cell_type": "code",
   "execution_count": 120,
   "metadata": {
    "scrolled": true
   },
   "outputs": [
    {
     "data": {
      "text/plain": [
       "205.174.165.73     6910\n",
       "34.197.173.181     1103\n",
       "23.21.34.180        988\n",
       "173.194.66.109      569\n",
       "74.125.22.108       394\n",
       "74.125.22.109       361\n",
       "209.85.201.108      338\n",
       "209.85.201.109      250\n",
       "173.194.206.108     248\n",
       "173.194.206.109     248\n",
       "209.85.144.108      219\n",
       "74.125.29.108       200\n",
       "209.85.144.109      197\n",
       "173.194.68.108      174\n",
       "173.194.68.109      173\n",
       "173.194.208.108     151\n",
       "173.194.205.108     149\n",
       "173.194.66.108      149\n",
       "173.194.208.109     126\n",
       "74.125.29.109       123\n",
       "74.125.192.108      122\n",
       "173.194.175.109     100\n",
       "209.85.232.109       99\n",
       "209.85.232.108       99\n",
       "173.194.205.109      99\n",
       "185.170.48.239       88\n",
       "172.16.0.1           77\n",
       "173.194.204.108      76\n",
       "173.194.204.109      75\n",
       "173.194.175.108      75\n",
       "173.194.207.108      50\n",
       "74.125.192.109       25\n",
       "173.194.207.109      25\n",
       "52.6.13.28           21\n",
       "52.8.53.244          14\n",
       "136.243.148.161      13\n",
       "52.7.235.158         11\n",
       "77.238.121.220       11\n",
       "Name: ip.src, dtype: int64"
      ]
     },
     "execution_count": 120,
     "metadata": {},
     "output_type": "execute_result"
    }
   ],
   "source": [
    "heart['ip.src'].value_counts()"
   ]
  },
  {
   "cell_type": "code",
   "execution_count": 142,
   "metadata": {},
   "outputs": [
    {
     "data": {
      "text/plain": [
       "50379.0    1103\n",
       "50380.0     988\n",
       "4069.0       86\n",
       "4087.0       85\n",
       "4273.0       82\n",
       "           ... \n",
       "58780.0       2\n",
       "50512.0       2\n",
       "41212.0       2\n",
       "35513.0       2\n",
       "56002.0       2\n",
       "Name: tcp.dstport, Length: 1539, dtype: int64"
      ]
     },
     "execution_count": 142,
     "metadata": {},
     "output_type": "execute_result"
    }
   ],
   "source": [
    "heart['tcp.dstport'].value_counts()"
   ]
  },
  {
   "cell_type": "code",
   "execution_count": 152,
   "metadata": {
    "scrolled": true
   },
   "outputs": [],
   "source": [
    "c = heart[heart['ip.src']==\"173.194.66.109\"]"
   ]
  },
  {
   "cell_type": "code",
   "execution_count": 153,
   "metadata": {},
   "outputs": [
    {
     "data": {
      "text/html": [
       "<div>\n",
       "<style scoped>\n",
       "    .dataframe tbody tr th:only-of-type {\n",
       "        vertical-align: middle;\n",
       "    }\n",
       "\n",
       "    .dataframe tbody tr th {\n",
       "        vertical-align: top;\n",
       "    }\n",
       "\n",
       "    .dataframe thead th {\n",
       "        text-align: right;\n",
       "    }\n",
       "</style>\n",
       "<table border=\"1\" class=\"dataframe\">\n",
       "  <thead>\n",
       "    <tr style=\"text-align: right;\">\n",
       "      <th></th>\n",
       "      <th>_ws.col.UTCtime</th>\n",
       "      <th>_ws.col.Protocol</th>\n",
       "      <th>ip.src</th>\n",
       "      <th>ip.dst</th>\n",
       "      <th>tcp.srcport</th>\n",
       "      <th>tcp.dstport</th>\n",
       "      <th>tcp.len</th>\n",
       "      <th>tcp.seq</th>\n",
       "      <th>tcp.ack</th>\n",
       "      <th>udp.srcport</th>\n",
       "      <th>...</th>\n",
       "      <th>http.request.uri</th>\n",
       "      <th>http.user_agent</th>\n",
       "      <th>http.connection</th>\n",
       "      <th>http.host</th>\n",
       "      <th>http.response.code</th>\n",
       "      <th>http.server</th>\n",
       "      <th>http.content_type</th>\n",
       "      <th>http.content_length</th>\n",
       "      <th>http.cache_control</th>\n",
       "      <th>seconds</th>\n",
       "    </tr>\n",
       "  </thead>\n",
       "  <tbody>\n",
       "    <tr>\n",
       "      <th>9885</th>\n",
       "      <td>12:04:10.577905</td>\n",
       "      <td>TCP</td>\n",
       "      <td>173.194.66.109</td>\n",
       "      <td>192.168.10.25</td>\n",
       "      <td>465.0</td>\n",
       "      <td>49169.0</td>\n",
       "      <td>0.0</td>\n",
       "      <td>0.0</td>\n",
       "      <td>1.0</td>\n",
       "      <td>NaN</td>\n",
       "      <td>...</td>\n",
       "      <td>NaN</td>\n",
       "      <td>NaN</td>\n",
       "      <td>NaN</td>\n",
       "      <td>NaN</td>\n",
       "      <td>NaN</td>\n",
       "      <td>NaN</td>\n",
       "      <td>NaN</td>\n",
       "      <td>NaN</td>\n",
       "      <td>NaN</td>\n",
       "      <td>43450.577905</td>\n",
       "    </tr>\n",
       "    <tr>\n",
       "      <th>9886</th>\n",
       "      <td>12:04:12.110274</td>\n",
       "      <td>TCP</td>\n",
       "      <td>173.194.66.109</td>\n",
       "      <td>192.168.10.25</td>\n",
       "      <td>465.0</td>\n",
       "      <td>49169.0</td>\n",
       "      <td>0.0</td>\n",
       "      <td>1.0</td>\n",
       "      <td>87.0</td>\n",
       "      <td>NaN</td>\n",
       "      <td>...</td>\n",
       "      <td>NaN</td>\n",
       "      <td>NaN</td>\n",
       "      <td>NaN</td>\n",
       "      <td>NaN</td>\n",
       "      <td>NaN</td>\n",
       "      <td>NaN</td>\n",
       "      <td>NaN</td>\n",
       "      <td>NaN</td>\n",
       "      <td>NaN</td>\n",
       "      <td>43452.110274</td>\n",
       "    </tr>\n",
       "    <tr>\n",
       "      <th>9887</th>\n",
       "      <td>12:04:12.110830</td>\n",
       "      <td>TLSv1</td>\n",
       "      <td>173.194.66.109</td>\n",
       "      <td>192.168.10.25</td>\n",
       "      <td>465.0</td>\n",
       "      <td>49169.0</td>\n",
       "      <td>1418.0</td>\n",
       "      <td>1.0</td>\n",
       "      <td>87.0</td>\n",
       "      <td>NaN</td>\n",
       "      <td>...</td>\n",
       "      <td>NaN</td>\n",
       "      <td>NaN</td>\n",
       "      <td>NaN</td>\n",
       "      <td>NaN</td>\n",
       "      <td>NaN</td>\n",
       "      <td>NaN</td>\n",
       "      <td>NaN</td>\n",
       "      <td>NaN</td>\n",
       "      <td>NaN</td>\n",
       "      <td>43452.110830</td>\n",
       "    </tr>\n",
       "    <tr>\n",
       "      <th>9888</th>\n",
       "      <td>12:04:12.111054</td>\n",
       "      <td>TCP</td>\n",
       "      <td>173.194.66.109</td>\n",
       "      <td>192.168.10.25</td>\n",
       "      <td>465.0</td>\n",
       "      <td>49169.0</td>\n",
       "      <td>1418.0</td>\n",
       "      <td>1419.0</td>\n",
       "      <td>87.0</td>\n",
       "      <td>NaN</td>\n",
       "      <td>...</td>\n",
       "      <td>NaN</td>\n",
       "      <td>NaN</td>\n",
       "      <td>NaN</td>\n",
       "      <td>NaN</td>\n",
       "      <td>NaN</td>\n",
       "      <td>NaN</td>\n",
       "      <td>NaN</td>\n",
       "      <td>NaN</td>\n",
       "      <td>NaN</td>\n",
       "      <td>43452.111054</td>\n",
       "    </tr>\n",
       "    <tr>\n",
       "      <th>9889</th>\n",
       "      <td>12:04:12.111103</td>\n",
       "      <td>TLSv1</td>\n",
       "      <td>173.194.66.109</td>\n",
       "      <td>192.168.10.25</td>\n",
       "      <td>465.0</td>\n",
       "      <td>49169.0</td>\n",
       "      <td>401.0</td>\n",
       "      <td>2837.0</td>\n",
       "      <td>87.0</td>\n",
       "      <td>NaN</td>\n",
       "      <td>...</td>\n",
       "      <td>NaN</td>\n",
       "      <td>NaN</td>\n",
       "      <td>NaN</td>\n",
       "      <td>NaN</td>\n",
       "      <td>NaN</td>\n",
       "      <td>NaN</td>\n",
       "      <td>NaN</td>\n",
       "      <td>NaN</td>\n",
       "      <td>NaN</td>\n",
       "      <td>43452.111103</td>\n",
       "    </tr>\n",
       "    <tr>\n",
       "      <th>...</th>\n",
       "      <td>...</td>\n",
       "      <td>...</td>\n",
       "      <td>...</td>\n",
       "      <td>...</td>\n",
       "      <td>...</td>\n",
       "      <td>...</td>\n",
       "      <td>...</td>\n",
       "      <td>...</td>\n",
       "      <td>...</td>\n",
       "      <td>...</td>\n",
       "      <td>...</td>\n",
       "      <td>...</td>\n",
       "      <td>...</td>\n",
       "      <td>...</td>\n",
       "      <td>...</td>\n",
       "      <td>...</td>\n",
       "      <td>...</td>\n",
       "      <td>...</td>\n",
       "      <td>...</td>\n",
       "      <td>...</td>\n",
       "      <td>...</td>\n",
       "    </tr>\n",
       "    <tr>\n",
       "      <th>2997353</th>\n",
       "      <td>16:21:20.796584</td>\n",
       "      <td>TLSv1</td>\n",
       "      <td>173.194.66.109</td>\n",
       "      <td>192.168.10.25</td>\n",
       "      <td>465.0</td>\n",
       "      <td>52414.0</td>\n",
       "      <td>85.0</td>\n",
       "      <td>858.0</td>\n",
       "      <td>922.0</td>\n",
       "      <td>NaN</td>\n",
       "      <td>...</td>\n",
       "      <td>NaN</td>\n",
       "      <td>NaN</td>\n",
       "      <td>NaN</td>\n",
       "      <td>NaN</td>\n",
       "      <td>NaN</td>\n",
       "      <td>NaN</td>\n",
       "      <td>NaN</td>\n",
       "      <td>NaN</td>\n",
       "      <td>NaN</td>\n",
       "      <td>58880.796584</td>\n",
       "    </tr>\n",
       "    <tr>\n",
       "      <th>2997354</th>\n",
       "      <td>16:21:20.846059</td>\n",
       "      <td>TCP</td>\n",
       "      <td>173.194.66.109</td>\n",
       "      <td>192.168.10.25</td>\n",
       "      <td>465.0</td>\n",
       "      <td>52414.0</td>\n",
       "      <td>0.0</td>\n",
       "      <td>943.0</td>\n",
       "      <td>959.0</td>\n",
       "      <td>NaN</td>\n",
       "      <td>...</td>\n",
       "      <td>NaN</td>\n",
       "      <td>NaN</td>\n",
       "      <td>NaN</td>\n",
       "      <td>NaN</td>\n",
       "      <td>NaN</td>\n",
       "      <td>NaN</td>\n",
       "      <td>NaN</td>\n",
       "      <td>NaN</td>\n",
       "      <td>NaN</td>\n",
       "      <td>58880.846059</td>\n",
       "    </tr>\n",
       "    <tr>\n",
       "      <th>2997355</th>\n",
       "      <td>16:21:20.846516</td>\n",
       "      <td>TLSv1</td>\n",
       "      <td>173.194.66.109</td>\n",
       "      <td>192.168.10.25</td>\n",
       "      <td>465.0</td>\n",
       "      <td>52414.0</td>\n",
       "      <td>85.0</td>\n",
       "      <td>943.0</td>\n",
       "      <td>959.0</td>\n",
       "      <td>NaN</td>\n",
       "      <td>...</td>\n",
       "      <td>NaN</td>\n",
       "      <td>NaN</td>\n",
       "      <td>NaN</td>\n",
       "      <td>NaN</td>\n",
       "      <td>NaN</td>\n",
       "      <td>NaN</td>\n",
       "      <td>NaN</td>\n",
       "      <td>NaN</td>\n",
       "      <td>NaN</td>\n",
       "      <td>58880.846516</td>\n",
       "    </tr>\n",
       "    <tr>\n",
       "      <th>2997356</th>\n",
       "      <td>16:21:20.846519</td>\n",
       "      <td>TCP</td>\n",
       "      <td>173.194.66.109</td>\n",
       "      <td>192.168.10.25</td>\n",
       "      <td>465.0</td>\n",
       "      <td>52414.0</td>\n",
       "      <td>0.0</td>\n",
       "      <td>1028.0</td>\n",
       "      <td>959.0</td>\n",
       "      <td>NaN</td>\n",
       "      <td>...</td>\n",
       "      <td>NaN</td>\n",
       "      <td>NaN</td>\n",
       "      <td>NaN</td>\n",
       "      <td>NaN</td>\n",
       "      <td>NaN</td>\n",
       "      <td>NaN</td>\n",
       "      <td>NaN</td>\n",
       "      <td>NaN</td>\n",
       "      <td>NaN</td>\n",
       "      <td>58880.846519</td>\n",
       "    </tr>\n",
       "    <tr>\n",
       "      <th>2997357</th>\n",
       "      <td>16:21:20.895743</td>\n",
       "      <td>TCP</td>\n",
       "      <td>173.194.66.109</td>\n",
       "      <td>192.168.10.25</td>\n",
       "      <td>465.0</td>\n",
       "      <td>52414.0</td>\n",
       "      <td>0.0</td>\n",
       "      <td>1029.0</td>\n",
       "      <td>0.0</td>\n",
       "      <td>NaN</td>\n",
       "      <td>...</td>\n",
       "      <td>NaN</td>\n",
       "      <td>NaN</td>\n",
       "      <td>NaN</td>\n",
       "      <td>NaN</td>\n",
       "      <td>NaN</td>\n",
       "      <td>NaN</td>\n",
       "      <td>NaN</td>\n",
       "      <td>NaN</td>\n",
       "      <td>NaN</td>\n",
       "      <td>58880.895743</td>\n",
       "    </tr>\n",
       "  </tbody>\n",
       "</table>\n",
       "<p>569 rows × 23 columns</p>\n",
       "</div>"
      ],
      "text/plain": [
       "         _ws.col.UTCtime _ws.col.Protocol          ip.src         ip.dst  \\\n",
       "9885     12:04:10.577905              TCP  173.194.66.109  192.168.10.25   \n",
       "9886     12:04:12.110274              TCP  173.194.66.109  192.168.10.25   \n",
       "9887     12:04:12.110830            TLSv1  173.194.66.109  192.168.10.25   \n",
       "9888     12:04:12.111054              TCP  173.194.66.109  192.168.10.25   \n",
       "9889     12:04:12.111103            TLSv1  173.194.66.109  192.168.10.25   \n",
       "...                  ...              ...             ...            ...   \n",
       "2997353  16:21:20.796584            TLSv1  173.194.66.109  192.168.10.25   \n",
       "2997354  16:21:20.846059              TCP  173.194.66.109  192.168.10.25   \n",
       "2997355  16:21:20.846516            TLSv1  173.194.66.109  192.168.10.25   \n",
       "2997356  16:21:20.846519              TCP  173.194.66.109  192.168.10.25   \n",
       "2997357  16:21:20.895743              TCP  173.194.66.109  192.168.10.25   \n",
       "\n",
       "         tcp.srcport  tcp.dstport  tcp.len  tcp.seq  tcp.ack  udp.srcport  \\\n",
       "9885           465.0      49169.0      0.0      0.0      1.0          NaN   \n",
       "9886           465.0      49169.0      0.0      1.0     87.0          NaN   \n",
       "9887           465.0      49169.0   1418.0      1.0     87.0          NaN   \n",
       "9888           465.0      49169.0   1418.0   1419.0     87.0          NaN   \n",
       "9889           465.0      49169.0    401.0   2837.0     87.0          NaN   \n",
       "...              ...          ...      ...      ...      ...          ...   \n",
       "2997353        465.0      52414.0     85.0    858.0    922.0          NaN   \n",
       "2997354        465.0      52414.0      0.0    943.0    959.0          NaN   \n",
       "2997355        465.0      52414.0     85.0    943.0    959.0          NaN   \n",
       "2997356        465.0      52414.0      0.0   1028.0    959.0          NaN   \n",
       "2997357        465.0      52414.0      0.0   1029.0      0.0          NaN   \n",
       "\n",
       "         ...  http.request.uri  http.user_agent http.connection http.host  \\\n",
       "9885     ...               NaN              NaN             NaN       NaN   \n",
       "9886     ...               NaN              NaN             NaN       NaN   \n",
       "9887     ...               NaN              NaN             NaN       NaN   \n",
       "9888     ...               NaN              NaN             NaN       NaN   \n",
       "9889     ...               NaN              NaN             NaN       NaN   \n",
       "...      ...               ...              ...             ...       ...   \n",
       "2997353  ...               NaN              NaN             NaN       NaN   \n",
       "2997354  ...               NaN              NaN             NaN       NaN   \n",
       "2997355  ...               NaN              NaN             NaN       NaN   \n",
       "2997356  ...               NaN              NaN             NaN       NaN   \n",
       "2997357  ...               NaN              NaN             NaN       NaN   \n",
       "\n",
       "        http.response.code http.server http.content_type  http.content_length  \\\n",
       "9885                   NaN         NaN               NaN                  NaN   \n",
       "9886                   NaN         NaN               NaN                  NaN   \n",
       "9887                   NaN         NaN               NaN                  NaN   \n",
       "9888                   NaN         NaN               NaN                  NaN   \n",
       "9889                   NaN         NaN               NaN                  NaN   \n",
       "...                    ...         ...               ...                  ...   \n",
       "2997353                NaN         NaN               NaN                  NaN   \n",
       "2997354                NaN         NaN               NaN                  NaN   \n",
       "2997355                NaN         NaN               NaN                  NaN   \n",
       "2997356                NaN         NaN               NaN                  NaN   \n",
       "2997357                NaN         NaN               NaN                  NaN   \n",
       "\n",
       "        http.cache_control       seconds  \n",
       "9885                   NaN  43450.577905  \n",
       "9886                   NaN  43452.110274  \n",
       "9887                   NaN  43452.110830  \n",
       "9888                   NaN  43452.111054  \n",
       "9889                   NaN  43452.111103  \n",
       "...                    ...           ...  \n",
       "2997353                NaN  58880.796584  \n",
       "2997354                NaN  58880.846059  \n",
       "2997355                NaN  58880.846516  \n",
       "2997356                NaN  58880.846519  \n",
       "2997357                NaN  58880.895743  \n",
       "\n",
       "[569 rows x 23 columns]"
      ]
     },
     "execution_count": 153,
     "metadata": {},
     "output_type": "execute_result"
    }
   ],
   "source": [
    "c"
   ]
  },
  {
   "cell_type": "code",
   "execution_count": 147,
   "metadata": {},
   "outputs": [
    {
     "data": {
      "text/plain": [
       "173.194.66.109    569\n",
       "Name: ip.src, dtype: int64"
      ]
     },
     "execution_count": 147,
     "metadata": {},
     "output_type": "execute_result"
    }
   ],
   "source": [
    "c['ip.src'].value_counts()"
   ]
  },
  {
   "cell_type": "code",
   "execution_count": 148,
   "metadata": {},
   "outputs": [
    {
     "data": {
      "text/plain": [
       "192.168.10.25    445\n",
       "192.168.10.5      26\n",
       "192.168.10.17     25\n",
       "192.168.10.15     25\n",
       "192.168.10.14     24\n",
       "192.168.10.8      24\n",
       "Name: ip.dst, dtype: int64"
      ]
     },
     "execution_count": 148,
     "metadata": {},
     "output_type": "execute_result"
    }
   ],
   "source": [
    "c['ip.dst'].value_counts()"
   ]
  },
  {
   "cell_type": "code",
   "execution_count": null,
   "metadata": {},
   "outputs": [],
   "source": []
  },
  {
   "cell_type": "code",
   "execution_count": null,
   "metadata": {},
   "outputs": [],
   "source": []
  },
  {
   "cell_type": "code",
   "execution_count": null,
   "metadata": {},
   "outputs": [],
   "source": []
  },
  {
   "cell_type": "code",
   "execution_count": null,
   "metadata": {},
   "outputs": [],
   "source": []
  },
  {
   "cell_type": "code",
   "execution_count": null,
   "metadata": {},
   "outputs": [],
   "source": []
  },
  {
   "cell_type": "code",
   "execution_count": null,
   "metadata": {},
   "outputs": [],
   "source": []
  },
  {
   "cell_type": "code",
   "execution_count": null,
   "metadata": {},
   "outputs": [],
   "source": []
  },
  {
   "cell_type": "code",
   "execution_count": 161,
   "metadata": {
    "scrolled": true
   },
   "outputs": [],
   "source": [
    "time = heart[(heart['seconds']>45730) & (heart['seconds']<47200)]"
   ]
  },
  {
   "cell_type": "code",
   "execution_count": 162,
   "metadata": {},
   "outputs": [
    {
     "data": {
      "text/html": [
       "<div>\n",
       "<style scoped>\n",
       "    .dataframe tbody tr th:only-of-type {\n",
       "        vertical-align: middle;\n",
       "    }\n",
       "\n",
       "    .dataframe tbody tr th {\n",
       "        vertical-align: top;\n",
       "    }\n",
       "\n",
       "    .dataframe thead th {\n",
       "        text-align: right;\n",
       "    }\n",
       "</style>\n",
       "<table border=\"1\" class=\"dataframe\">\n",
       "  <thead>\n",
       "    <tr style=\"text-align: right;\">\n",
       "      <th></th>\n",
       "      <th>_ws.col.UTCtime</th>\n",
       "      <th>_ws.col.Protocol</th>\n",
       "      <th>ip.src</th>\n",
       "      <th>ip.dst</th>\n",
       "      <th>tcp.srcport</th>\n",
       "      <th>tcp.dstport</th>\n",
       "      <th>tcp.len</th>\n",
       "      <th>tcp.seq</th>\n",
       "      <th>tcp.ack</th>\n",
       "      <th>udp.srcport</th>\n",
       "      <th>...</th>\n",
       "      <th>http.request.uri</th>\n",
       "      <th>http.user_agent</th>\n",
       "      <th>http.connection</th>\n",
       "      <th>http.host</th>\n",
       "      <th>http.response.code</th>\n",
       "      <th>http.server</th>\n",
       "      <th>http.content_type</th>\n",
       "      <th>http.content_length</th>\n",
       "      <th>http.cache_control</th>\n",
       "      <th>seconds</th>\n",
       "    </tr>\n",
       "  </thead>\n",
       "  <tbody>\n",
       "    <tr>\n",
       "      <th>1963061</th>\n",
       "      <td>12:42:15.003514</td>\n",
       "      <td>TCP</td>\n",
       "      <td>34.197.173.181</td>\n",
       "      <td>192.168.10.15</td>\n",
       "      <td>8051.0</td>\n",
       "      <td>50379.0</td>\n",
       "      <td>0.0</td>\n",
       "      <td>0.0</td>\n",
       "      <td>1.0</td>\n",
       "      <td>NaN</td>\n",
       "      <td>...</td>\n",
       "      <td>NaN</td>\n",
       "      <td>NaN</td>\n",
       "      <td>NaN</td>\n",
       "      <td>NaN</td>\n",
       "      <td>NaN</td>\n",
       "      <td>NaN</td>\n",
       "      <td>NaN</td>\n",
       "      <td>NaN</td>\n",
       "      <td>NaN</td>\n",
       "      <td>45735.003514</td>\n",
       "    </tr>\n",
       "    <tr>\n",
       "      <th>1963062</th>\n",
       "      <td>12:42:15.054150</td>\n",
       "      <td>TCP</td>\n",
       "      <td>34.197.173.181</td>\n",
       "      <td>192.168.10.15</td>\n",
       "      <td>8051.0</td>\n",
       "      <td>50379.0</td>\n",
       "      <td>0.0</td>\n",
       "      <td>1.0</td>\n",
       "      <td>197.0</td>\n",
       "      <td>NaN</td>\n",
       "      <td>...</td>\n",
       "      <td>NaN</td>\n",
       "      <td>NaN</td>\n",
       "      <td>NaN</td>\n",
       "      <td>NaN</td>\n",
       "      <td>NaN</td>\n",
       "      <td>NaN</td>\n",
       "      <td>NaN</td>\n",
       "      <td>NaN</td>\n",
       "      <td>NaN</td>\n",
       "      <td>45735.054150</td>\n",
       "    </tr>\n",
       "    <tr>\n",
       "      <th>1963063</th>\n",
       "      <td>12:42:15.056260</td>\n",
       "      <td>TLSv1.2</td>\n",
       "      <td>34.197.173.181</td>\n",
       "      <td>192.168.10.15</td>\n",
       "      <td>8051.0</td>\n",
       "      <td>50379.0</td>\n",
       "      <td>1460.0</td>\n",
       "      <td>1.0</td>\n",
       "      <td>197.0</td>\n",
       "      <td>NaN</td>\n",
       "      <td>...</td>\n",
       "      <td>NaN</td>\n",
       "      <td>NaN</td>\n",
       "      <td>NaN</td>\n",
       "      <td>NaN</td>\n",
       "      <td>NaN</td>\n",
       "      <td>NaN</td>\n",
       "      <td>NaN</td>\n",
       "      <td>NaN</td>\n",
       "      <td>NaN</td>\n",
       "      <td>45735.056260</td>\n",
       "    </tr>\n",
       "    <tr>\n",
       "      <th>1963064</th>\n",
       "      <td>12:42:15.056474</td>\n",
       "      <td>TLSv1.2</td>\n",
       "      <td>34.197.173.181</td>\n",
       "      <td>192.168.10.15</td>\n",
       "      <td>8051.0</td>\n",
       "      <td>50379.0</td>\n",
       "      <td>1420.0</td>\n",
       "      <td>1461.0</td>\n",
       "      <td>197.0</td>\n",
       "      <td>NaN</td>\n",
       "      <td>...</td>\n",
       "      <td>NaN</td>\n",
       "      <td>NaN</td>\n",
       "      <td>NaN</td>\n",
       "      <td>NaN</td>\n",
       "      <td>NaN</td>\n",
       "      <td>NaN</td>\n",
       "      <td>NaN</td>\n",
       "      <td>NaN</td>\n",
       "      <td>NaN</td>\n",
       "      <td>45735.056474</td>\n",
       "    </tr>\n",
       "    <tr>\n",
       "      <th>1963065</th>\n",
       "      <td>12:42:15.117584</td>\n",
       "      <td>TLSv1.2</td>\n",
       "      <td>34.197.173.181</td>\n",
       "      <td>192.168.10.15</td>\n",
       "      <td>8051.0</td>\n",
       "      <td>50379.0</td>\n",
       "      <td>258.0</td>\n",
       "      <td>2881.0</td>\n",
       "      <td>290.0</td>\n",
       "      <td>NaN</td>\n",
       "      <td>...</td>\n",
       "      <td>NaN</td>\n",
       "      <td>NaN</td>\n",
       "      <td>NaN</td>\n",
       "      <td>NaN</td>\n",
       "      <td>NaN</td>\n",
       "      <td>NaN</td>\n",
       "      <td>NaN</td>\n",
       "      <td>NaN</td>\n",
       "      <td>NaN</td>\n",
       "      <td>45735.117584</td>\n",
       "    </tr>\n",
       "    <tr>\n",
       "      <th>...</th>\n",
       "      <td>...</td>\n",
       "      <td>...</td>\n",
       "      <td>...</td>\n",
       "      <td>...</td>\n",
       "      <td>...</td>\n",
       "      <td>...</td>\n",
       "      <td>...</td>\n",
       "      <td>...</td>\n",
       "      <td>...</td>\n",
       "      <td>...</td>\n",
       "      <td>...</td>\n",
       "      <td>...</td>\n",
       "      <td>...</td>\n",
       "      <td>...</td>\n",
       "      <td>...</td>\n",
       "      <td>...</td>\n",
       "      <td>...</td>\n",
       "      <td>...</td>\n",
       "      <td>...</td>\n",
       "      <td>...</td>\n",
       "      <td>...</td>\n",
       "    </tr>\n",
       "    <tr>\n",
       "      <th>2151948</th>\n",
       "      <td>13:06:25.666177</td>\n",
       "      <td>TCP</td>\n",
       "      <td>205.174.165.73</td>\n",
       "      <td>192.168.10.9</td>\n",
       "      <td>8080.0</td>\n",
       "      <td>1991.0</td>\n",
       "      <td>0.0</td>\n",
       "      <td>129.0</td>\n",
       "      <td>196.0</td>\n",
       "      <td>NaN</td>\n",
       "      <td>...</td>\n",
       "      <td>NaN</td>\n",
       "      <td>NaN</td>\n",
       "      <td>NaN</td>\n",
       "      <td>NaN</td>\n",
       "      <td>NaN</td>\n",
       "      <td>NaN</td>\n",
       "      <td>NaN</td>\n",
       "      <td>NaN</td>\n",
       "      <td>NaN</td>\n",
       "      <td>47185.666177</td>\n",
       "    </tr>\n",
       "    <tr>\n",
       "      <th>2152245</th>\n",
       "      <td>13:06:35.669536</td>\n",
       "      <td>TCP</td>\n",
       "      <td>205.174.165.73</td>\n",
       "      <td>192.168.10.9</td>\n",
       "      <td>8080.0</td>\n",
       "      <td>1993.0</td>\n",
       "      <td>0.0</td>\n",
       "      <td>0.0</td>\n",
       "      <td>1.0</td>\n",
       "      <td>NaN</td>\n",
       "      <td>...</td>\n",
       "      <td>NaN</td>\n",
       "      <td>NaN</td>\n",
       "      <td>NaN</td>\n",
       "      <td>NaN</td>\n",
       "      <td>NaN</td>\n",
       "      <td>NaN</td>\n",
       "      <td>NaN</td>\n",
       "      <td>NaN</td>\n",
       "      <td>NaN</td>\n",
       "      <td>47195.669536</td>\n",
       "    </tr>\n",
       "    <tr>\n",
       "      <th>2152246</th>\n",
       "      <td>13:06:35.670226</td>\n",
       "      <td>TCP</td>\n",
       "      <td>205.174.165.73</td>\n",
       "      <td>192.168.10.9</td>\n",
       "      <td>8080.0</td>\n",
       "      <td>1993.0</td>\n",
       "      <td>0.0</td>\n",
       "      <td>1.0</td>\n",
       "      <td>195.0</td>\n",
       "      <td>NaN</td>\n",
       "      <td>...</td>\n",
       "      <td>NaN</td>\n",
       "      <td>NaN</td>\n",
       "      <td>NaN</td>\n",
       "      <td>NaN</td>\n",
       "      <td>NaN</td>\n",
       "      <td>NaN</td>\n",
       "      <td>NaN</td>\n",
       "      <td>NaN</td>\n",
       "      <td>NaN</td>\n",
       "      <td>47195.670226</td>\n",
       "    </tr>\n",
       "    <tr>\n",
       "      <th>2152247</th>\n",
       "      <td>13:06:35.748275</td>\n",
       "      <td>HTTP</td>\n",
       "      <td>205.174.165.73</td>\n",
       "      <td>192.168.10.9</td>\n",
       "      <td>8080.0</td>\n",
       "      <td>1993.0</td>\n",
       "      <td>128.0</td>\n",
       "      <td>1.0</td>\n",
       "      <td>195.0</td>\n",
       "      <td>NaN</td>\n",
       "      <td>...</td>\n",
       "      <td>NaN</td>\n",
       "      <td>NaN</td>\n",
       "      <td>NaN</td>\n",
       "      <td>NaN</td>\n",
       "      <td>200.0</td>\n",
       "      <td>Ares</td>\n",
       "      <td>text/html;charset=utf-8</td>\n",
       "      <td>0.0</td>\n",
       "      <td>NaN</td>\n",
       "      <td>47195.748275</td>\n",
       "    </tr>\n",
       "    <tr>\n",
       "      <th>2152248</th>\n",
       "      <td>13:06:35.750142</td>\n",
       "      <td>TCP</td>\n",
       "      <td>205.174.165.73</td>\n",
       "      <td>192.168.10.9</td>\n",
       "      <td>8080.0</td>\n",
       "      <td>1993.0</td>\n",
       "      <td>0.0</td>\n",
       "      <td>129.0</td>\n",
       "      <td>196.0</td>\n",
       "      <td>NaN</td>\n",
       "      <td>...</td>\n",
       "      <td>NaN</td>\n",
       "      <td>NaN</td>\n",
       "      <td>NaN</td>\n",
       "      <td>NaN</td>\n",
       "      <td>NaN</td>\n",
       "      <td>NaN</td>\n",
       "      <td>NaN</td>\n",
       "      <td>NaN</td>\n",
       "      <td>NaN</td>\n",
       "      <td>47195.750142</td>\n",
       "    </tr>\n",
       "  </tbody>\n",
       "</table>\n",
       "<p>2763 rows × 23 columns</p>\n",
       "</div>"
      ],
      "text/plain": [
       "         _ws.col.UTCtime _ws.col.Protocol          ip.src         ip.dst  \\\n",
       "1963061  12:42:15.003514              TCP  34.197.173.181  192.168.10.15   \n",
       "1963062  12:42:15.054150              TCP  34.197.173.181  192.168.10.15   \n",
       "1963063  12:42:15.056260          TLSv1.2  34.197.173.181  192.168.10.15   \n",
       "1963064  12:42:15.056474          TLSv1.2  34.197.173.181  192.168.10.15   \n",
       "1963065  12:42:15.117584          TLSv1.2  34.197.173.181  192.168.10.15   \n",
       "...                  ...              ...             ...            ...   \n",
       "2151948  13:06:25.666177              TCP  205.174.165.73   192.168.10.9   \n",
       "2152245  13:06:35.669536              TCP  205.174.165.73   192.168.10.9   \n",
       "2152246  13:06:35.670226              TCP  205.174.165.73   192.168.10.9   \n",
       "2152247  13:06:35.748275             HTTP  205.174.165.73   192.168.10.9   \n",
       "2152248  13:06:35.750142              TCP  205.174.165.73   192.168.10.9   \n",
       "\n",
       "         tcp.srcport  tcp.dstport  tcp.len  tcp.seq  tcp.ack  udp.srcport  \\\n",
       "1963061       8051.0      50379.0      0.0      0.0      1.0          NaN   \n",
       "1963062       8051.0      50379.0      0.0      1.0    197.0          NaN   \n",
       "1963063       8051.0      50379.0   1460.0      1.0    197.0          NaN   \n",
       "1963064       8051.0      50379.0   1420.0   1461.0    197.0          NaN   \n",
       "1963065       8051.0      50379.0    258.0   2881.0    290.0          NaN   \n",
       "...              ...          ...      ...      ...      ...          ...   \n",
       "2151948       8080.0       1991.0      0.0    129.0    196.0          NaN   \n",
       "2152245       8080.0       1993.0      0.0      0.0      1.0          NaN   \n",
       "2152246       8080.0       1993.0      0.0      1.0    195.0          NaN   \n",
       "2152247       8080.0       1993.0    128.0      1.0    195.0          NaN   \n",
       "2152248       8080.0       1993.0      0.0    129.0    196.0          NaN   \n",
       "\n",
       "         ...  http.request.uri  http.user_agent http.connection http.host  \\\n",
       "1963061  ...               NaN              NaN             NaN       NaN   \n",
       "1963062  ...               NaN              NaN             NaN       NaN   \n",
       "1963063  ...               NaN              NaN             NaN       NaN   \n",
       "1963064  ...               NaN              NaN             NaN       NaN   \n",
       "1963065  ...               NaN              NaN             NaN       NaN   \n",
       "...      ...               ...              ...             ...       ...   \n",
       "2151948  ...               NaN              NaN             NaN       NaN   \n",
       "2152245  ...               NaN              NaN             NaN       NaN   \n",
       "2152246  ...               NaN              NaN             NaN       NaN   \n",
       "2152247  ...               NaN              NaN             NaN       NaN   \n",
       "2152248  ...               NaN              NaN             NaN       NaN   \n",
       "\n",
       "        http.response.code http.server        http.content_type  \\\n",
       "1963061                NaN         NaN                      NaN   \n",
       "1963062                NaN         NaN                      NaN   \n",
       "1963063                NaN         NaN                      NaN   \n",
       "1963064                NaN         NaN                      NaN   \n",
       "1963065                NaN         NaN                      NaN   \n",
       "...                    ...         ...                      ...   \n",
       "2151948                NaN         NaN                      NaN   \n",
       "2152245                NaN         NaN                      NaN   \n",
       "2152246                NaN         NaN                      NaN   \n",
       "2152247              200.0        Ares  text/html;charset=utf-8   \n",
       "2152248                NaN         NaN                      NaN   \n",
       "\n",
       "         http.content_length http.cache_control       seconds  \n",
       "1963061                  NaN                NaN  45735.003514  \n",
       "1963062                  NaN                NaN  45735.054150  \n",
       "1963063                  NaN                NaN  45735.056260  \n",
       "1963064                  NaN                NaN  45735.056474  \n",
       "1963065                  NaN                NaN  45735.117584  \n",
       "...                      ...                ...           ...  \n",
       "2151948                  NaN                NaN  47185.666177  \n",
       "2152245                  NaN                NaN  47195.669536  \n",
       "2152246                  NaN                NaN  47195.670226  \n",
       "2152247                  0.0                NaN  47195.748275  \n",
       "2152248                  NaN                NaN  47195.750142  \n",
       "\n",
       "[2763 rows x 23 columns]"
      ]
     },
     "execution_count": 162,
     "metadata": {},
     "output_type": "execute_result"
    }
   ],
   "source": [
    "time"
   ]
  },
  {
   "cell_type": "code",
   "execution_count": 163,
   "metadata": {},
   "outputs": [
    {
     "data": {
      "text/plain": [
       "34.197.173.181     1103\n",
       "23.21.34.180        988\n",
       "209.85.144.109      147\n",
       "209.85.144.108      144\n",
       "205.174.165.73       65\n",
       "74.125.22.108        50\n",
       "173.194.206.108      50\n",
       "173.194.206.109      48\n",
       "173.194.66.109       44\n",
       "173.194.175.109      25\n",
       "173.194.204.109      25\n",
       "173.194.204.108      25\n",
       "173.194.175.108      25\n",
       "74.125.22.109        24\n",
       "Name: ip.src, dtype: int64"
      ]
     },
     "execution_count": 163,
     "metadata": {},
     "output_type": "execute_result"
    }
   ],
   "source": [
    "time['ip.src'].value_counts()"
   ]
  },
  {
   "cell_type": "code",
   "execution_count": null,
   "metadata": {},
   "outputs": [],
   "source": []
  },
  {
   "cell_type": "code",
   "execution_count": null,
   "metadata": {},
   "outputs": [],
   "source": []
  },
  {
   "cell_type": "code",
   "execution_count": null,
   "metadata": {},
   "outputs": [],
   "source": []
  },
  {
   "cell_type": "code",
   "execution_count": 154,
   "metadata": {},
   "outputs": [],
   "source": [
    "a = heart[heart['tcp.dstport']==50380.0]"
   ]
  },
  {
   "cell_type": "code",
   "execution_count": 155,
   "metadata": {},
   "outputs": [
    {
     "data": {
      "text/html": [
       "<div>\n",
       "<style scoped>\n",
       "    .dataframe tbody tr th:only-of-type {\n",
       "        vertical-align: middle;\n",
       "    }\n",
       "\n",
       "    .dataframe tbody tr th {\n",
       "        vertical-align: top;\n",
       "    }\n",
       "\n",
       "    .dataframe thead th {\n",
       "        text-align: right;\n",
       "    }\n",
       "</style>\n",
       "<table border=\"1\" class=\"dataframe\">\n",
       "  <thead>\n",
       "    <tr style=\"text-align: right;\">\n",
       "      <th></th>\n",
       "      <th>_ws.col.UTCtime</th>\n",
       "      <th>_ws.col.Protocol</th>\n",
       "      <th>ip.src</th>\n",
       "      <th>ip.dst</th>\n",
       "      <th>tcp.srcport</th>\n",
       "      <th>tcp.dstport</th>\n",
       "      <th>tcp.len</th>\n",
       "      <th>tcp.seq</th>\n",
       "      <th>tcp.ack</th>\n",
       "      <th>udp.srcport</th>\n",
       "      <th>...</th>\n",
       "      <th>http.request.uri</th>\n",
       "      <th>http.user_agent</th>\n",
       "      <th>http.connection</th>\n",
       "      <th>http.host</th>\n",
       "      <th>http.response.code</th>\n",
       "      <th>http.server</th>\n",
       "      <th>http.content_type</th>\n",
       "      <th>http.content_length</th>\n",
       "      <th>http.cache_control</th>\n",
       "      <th>seconds</th>\n",
       "    </tr>\n",
       "  </thead>\n",
       "  <tbody>\n",
       "    <tr>\n",
       "      <th>1964164</th>\n",
       "      <td>12:42:15.014236</td>\n",
       "      <td>TCP</td>\n",
       "      <td>23.21.34.180</td>\n",
       "      <td>192.168.10.15</td>\n",
       "      <td>8053.0</td>\n",
       "      <td>50380.0</td>\n",
       "      <td>0.0</td>\n",
       "      <td>0.0</td>\n",
       "      <td>1.0</td>\n",
       "      <td>NaN</td>\n",
       "      <td>...</td>\n",
       "      <td>NaN</td>\n",
       "      <td>NaN</td>\n",
       "      <td>NaN</td>\n",
       "      <td>NaN</td>\n",
       "      <td>NaN</td>\n",
       "      <td>NaN</td>\n",
       "      <td>NaN</td>\n",
       "      <td>NaN</td>\n",
       "      <td>NaN</td>\n",
       "      <td>45735.014236</td>\n",
       "    </tr>\n",
       "    <tr>\n",
       "      <th>1964165</th>\n",
       "      <td>12:42:15.065662</td>\n",
       "      <td>TCP</td>\n",
       "      <td>23.21.34.180</td>\n",
       "      <td>192.168.10.15</td>\n",
       "      <td>8053.0</td>\n",
       "      <td>50380.0</td>\n",
       "      <td>0.0</td>\n",
       "      <td>1.0</td>\n",
       "      <td>192.0</td>\n",
       "      <td>NaN</td>\n",
       "      <td>...</td>\n",
       "      <td>NaN</td>\n",
       "      <td>NaN</td>\n",
       "      <td>NaN</td>\n",
       "      <td>NaN</td>\n",
       "      <td>NaN</td>\n",
       "      <td>NaN</td>\n",
       "      <td>NaN</td>\n",
       "      <td>NaN</td>\n",
       "      <td>NaN</td>\n",
       "      <td>45735.065662</td>\n",
       "    </tr>\n",
       "    <tr>\n",
       "      <th>1964166</th>\n",
       "      <td>12:42:15.067984</td>\n",
       "      <td>TLSv1.2</td>\n",
       "      <td>23.21.34.180</td>\n",
       "      <td>192.168.10.15</td>\n",
       "      <td>8053.0</td>\n",
       "      <td>50380.0</td>\n",
       "      <td>1460.0</td>\n",
       "      <td>1.0</td>\n",
       "      <td>192.0</td>\n",
       "      <td>NaN</td>\n",
       "      <td>...</td>\n",
       "      <td>NaN</td>\n",
       "      <td>NaN</td>\n",
       "      <td>NaN</td>\n",
       "      <td>NaN</td>\n",
       "      <td>NaN</td>\n",
       "      <td>NaN</td>\n",
       "      <td>NaN</td>\n",
       "      <td>NaN</td>\n",
       "      <td>NaN</td>\n",
       "      <td>45735.067984</td>\n",
       "    </tr>\n",
       "    <tr>\n",
       "      <th>1964167</th>\n",
       "      <td>12:42:15.068204</td>\n",
       "      <td>TLSv1.2</td>\n",
       "      <td>23.21.34.180</td>\n",
       "      <td>192.168.10.15</td>\n",
       "      <td>8053.0</td>\n",
       "      <td>50380.0</td>\n",
       "      <td>1460.0</td>\n",
       "      <td>1461.0</td>\n",
       "      <td>192.0</td>\n",
       "      <td>NaN</td>\n",
       "      <td>...</td>\n",
       "      <td>NaN</td>\n",
       "      <td>NaN</td>\n",
       "      <td>NaN</td>\n",
       "      <td>NaN</td>\n",
       "      <td>NaN</td>\n",
       "      <td>NaN</td>\n",
       "      <td>NaN</td>\n",
       "      <td>NaN</td>\n",
       "      <td>NaN</td>\n",
       "      <td>45735.068204</td>\n",
       "    </tr>\n",
       "    <tr>\n",
       "      <th>1964168</th>\n",
       "      <td>12:42:15.068206</td>\n",
       "      <td>TLSv1.2</td>\n",
       "      <td>23.21.34.180</td>\n",
       "      <td>192.168.10.15</td>\n",
       "      <td>8053.0</td>\n",
       "      <td>50380.0</td>\n",
       "      <td>1.0</td>\n",
       "      <td>2921.0</td>\n",
       "      <td>192.0</td>\n",
       "      <td>NaN</td>\n",
       "      <td>...</td>\n",
       "      <td>NaN</td>\n",
       "      <td>NaN</td>\n",
       "      <td>NaN</td>\n",
       "      <td>NaN</td>\n",
       "      <td>NaN</td>\n",
       "      <td>NaN</td>\n",
       "      <td>NaN</td>\n",
       "      <td>NaN</td>\n",
       "      <td>NaN</td>\n",
       "      <td>45735.068206</td>\n",
       "    </tr>\n",
       "    <tr>\n",
       "      <th>...</th>\n",
       "      <td>...</td>\n",
       "      <td>...</td>\n",
       "      <td>...</td>\n",
       "      <td>...</td>\n",
       "      <td>...</td>\n",
       "      <td>...</td>\n",
       "      <td>...</td>\n",
       "      <td>...</td>\n",
       "      <td>...</td>\n",
       "      <td>...</td>\n",
       "      <td>...</td>\n",
       "      <td>...</td>\n",
       "      <td>...</td>\n",
       "      <td>...</td>\n",
       "      <td>...</td>\n",
       "      <td>...</td>\n",
       "      <td>...</td>\n",
       "      <td>...</td>\n",
       "      <td>...</td>\n",
       "      <td>...</td>\n",
       "      <td>...</td>\n",
       "    </tr>\n",
       "    <tr>\n",
       "      <th>1965147</th>\n",
       "      <td>13:06:23.309067</td>\n",
       "      <td>TCP</td>\n",
       "      <td>23.21.34.180</td>\n",
       "      <td>192.168.10.15</td>\n",
       "      <td>8053.0</td>\n",
       "      <td>50380.0</td>\n",
       "      <td>0.0</td>\n",
       "      <td>13118.0</td>\n",
       "      <td>80106.0</td>\n",
       "      <td>NaN</td>\n",
       "      <td>...</td>\n",
       "      <td>NaN</td>\n",
       "      <td>NaN</td>\n",
       "      <td>NaN</td>\n",
       "      <td>NaN</td>\n",
       "      <td>NaN</td>\n",
       "      <td>NaN</td>\n",
       "      <td>NaN</td>\n",
       "      <td>NaN</td>\n",
       "      <td>NaN</td>\n",
       "      <td>47183.309067</td>\n",
       "    </tr>\n",
       "    <tr>\n",
       "      <th>1965148</th>\n",
       "      <td>13:06:27.904754</td>\n",
       "      <td>TCP</td>\n",
       "      <td>23.21.34.180</td>\n",
       "      <td>192.168.10.15</td>\n",
       "      <td>8053.0</td>\n",
       "      <td>50380.0</td>\n",
       "      <td>0.0</td>\n",
       "      <td>13118.0</td>\n",
       "      <td>80238.0</td>\n",
       "      <td>NaN</td>\n",
       "      <td>...</td>\n",
       "      <td>NaN</td>\n",
       "      <td>NaN</td>\n",
       "      <td>NaN</td>\n",
       "      <td>NaN</td>\n",
       "      <td>NaN</td>\n",
       "      <td>NaN</td>\n",
       "      <td>NaN</td>\n",
       "      <td>NaN</td>\n",
       "      <td>NaN</td>\n",
       "      <td>47187.904754</td>\n",
       "    </tr>\n",
       "    <tr>\n",
       "      <th>1965149</th>\n",
       "      <td>13:06:28.021010</td>\n",
       "      <td>TLSv1.2</td>\n",
       "      <td>23.21.34.180</td>\n",
       "      <td>192.168.10.15</td>\n",
       "      <td>8053.0</td>\n",
       "      <td>50380.0</td>\n",
       "      <td>33.0</td>\n",
       "      <td>13118.0</td>\n",
       "      <td>80238.0</td>\n",
       "      <td>NaN</td>\n",
       "      <td>...</td>\n",
       "      <td>NaN</td>\n",
       "      <td>NaN</td>\n",
       "      <td>NaN</td>\n",
       "      <td>NaN</td>\n",
       "      <td>NaN</td>\n",
       "      <td>NaN</td>\n",
       "      <td>NaN</td>\n",
       "      <td>NaN</td>\n",
       "      <td>NaN</td>\n",
       "      <td>47188.021010</td>\n",
       "    </tr>\n",
       "    <tr>\n",
       "      <th>1965150</th>\n",
       "      <td>13:06:32.907796</td>\n",
       "      <td>TCP</td>\n",
       "      <td>23.21.34.180</td>\n",
       "      <td>192.168.10.15</td>\n",
       "      <td>8053.0</td>\n",
       "      <td>50380.0</td>\n",
       "      <td>0.0</td>\n",
       "      <td>13151.0</td>\n",
       "      <td>80275.0</td>\n",
       "      <td>NaN</td>\n",
       "      <td>...</td>\n",
       "      <td>NaN</td>\n",
       "      <td>NaN</td>\n",
       "      <td>NaN</td>\n",
       "      <td>NaN</td>\n",
       "      <td>NaN</td>\n",
       "      <td>NaN</td>\n",
       "      <td>NaN</td>\n",
       "      <td>NaN</td>\n",
       "      <td>NaN</td>\n",
       "      <td>47192.907796</td>\n",
       "    </tr>\n",
       "    <tr>\n",
       "      <th>1965151</th>\n",
       "      <td>13:06:33.095609</td>\n",
       "      <td>TLSv1.2</td>\n",
       "      <td>23.21.34.180</td>\n",
       "      <td>192.168.10.15</td>\n",
       "      <td>8053.0</td>\n",
       "      <td>50380.0</td>\n",
       "      <td>33.0</td>\n",
       "      <td>13151.0</td>\n",
       "      <td>80275.0</td>\n",
       "      <td>NaN</td>\n",
       "      <td>...</td>\n",
       "      <td>NaN</td>\n",
       "      <td>NaN</td>\n",
       "      <td>NaN</td>\n",
       "      <td>NaN</td>\n",
       "      <td>NaN</td>\n",
       "      <td>NaN</td>\n",
       "      <td>NaN</td>\n",
       "      <td>NaN</td>\n",
       "      <td>NaN</td>\n",
       "      <td>47193.095609</td>\n",
       "    </tr>\n",
       "  </tbody>\n",
       "</table>\n",
       "<p>988 rows × 23 columns</p>\n",
       "</div>"
      ],
      "text/plain": [
       "         _ws.col.UTCtime _ws.col.Protocol        ip.src         ip.dst  \\\n",
       "1964164  12:42:15.014236              TCP  23.21.34.180  192.168.10.15   \n",
       "1964165  12:42:15.065662              TCP  23.21.34.180  192.168.10.15   \n",
       "1964166  12:42:15.067984          TLSv1.2  23.21.34.180  192.168.10.15   \n",
       "1964167  12:42:15.068204          TLSv1.2  23.21.34.180  192.168.10.15   \n",
       "1964168  12:42:15.068206          TLSv1.2  23.21.34.180  192.168.10.15   \n",
       "...                  ...              ...           ...            ...   \n",
       "1965147  13:06:23.309067              TCP  23.21.34.180  192.168.10.15   \n",
       "1965148  13:06:27.904754              TCP  23.21.34.180  192.168.10.15   \n",
       "1965149  13:06:28.021010          TLSv1.2  23.21.34.180  192.168.10.15   \n",
       "1965150  13:06:32.907796              TCP  23.21.34.180  192.168.10.15   \n",
       "1965151  13:06:33.095609          TLSv1.2  23.21.34.180  192.168.10.15   \n",
       "\n",
       "         tcp.srcport  tcp.dstport  tcp.len  tcp.seq  tcp.ack  udp.srcport  \\\n",
       "1964164       8053.0      50380.0      0.0      0.0      1.0          NaN   \n",
       "1964165       8053.0      50380.0      0.0      1.0    192.0          NaN   \n",
       "1964166       8053.0      50380.0   1460.0      1.0    192.0          NaN   \n",
       "1964167       8053.0      50380.0   1460.0   1461.0    192.0          NaN   \n",
       "1964168       8053.0      50380.0      1.0   2921.0    192.0          NaN   \n",
       "...              ...          ...      ...      ...      ...          ...   \n",
       "1965147       8053.0      50380.0      0.0  13118.0  80106.0          NaN   \n",
       "1965148       8053.0      50380.0      0.0  13118.0  80238.0          NaN   \n",
       "1965149       8053.0      50380.0     33.0  13118.0  80238.0          NaN   \n",
       "1965150       8053.0      50380.0      0.0  13151.0  80275.0          NaN   \n",
       "1965151       8053.0      50380.0     33.0  13151.0  80275.0          NaN   \n",
       "\n",
       "         ...  http.request.uri  http.user_agent http.connection http.host  \\\n",
       "1964164  ...               NaN              NaN             NaN       NaN   \n",
       "1964165  ...               NaN              NaN             NaN       NaN   \n",
       "1964166  ...               NaN              NaN             NaN       NaN   \n",
       "1964167  ...               NaN              NaN             NaN       NaN   \n",
       "1964168  ...               NaN              NaN             NaN       NaN   \n",
       "...      ...               ...              ...             ...       ...   \n",
       "1965147  ...               NaN              NaN             NaN       NaN   \n",
       "1965148  ...               NaN              NaN             NaN       NaN   \n",
       "1965149  ...               NaN              NaN             NaN       NaN   \n",
       "1965150  ...               NaN              NaN             NaN       NaN   \n",
       "1965151  ...               NaN              NaN             NaN       NaN   \n",
       "\n",
       "        http.response.code http.server http.content_type  http.content_length  \\\n",
       "1964164                NaN         NaN               NaN                  NaN   \n",
       "1964165                NaN         NaN               NaN                  NaN   \n",
       "1964166                NaN         NaN               NaN                  NaN   \n",
       "1964167                NaN         NaN               NaN                  NaN   \n",
       "1964168                NaN         NaN               NaN                  NaN   \n",
       "...                    ...         ...               ...                  ...   \n",
       "1965147                NaN         NaN               NaN                  NaN   \n",
       "1965148                NaN         NaN               NaN                  NaN   \n",
       "1965149                NaN         NaN               NaN                  NaN   \n",
       "1965150                NaN         NaN               NaN                  NaN   \n",
       "1965151                NaN         NaN               NaN                  NaN   \n",
       "\n",
       "        http.cache_control       seconds  \n",
       "1964164                NaN  45735.014236  \n",
       "1964165                NaN  45735.065662  \n",
       "1964166                NaN  45735.067984  \n",
       "1964167                NaN  45735.068204  \n",
       "1964168                NaN  45735.068206  \n",
       "...                    ...           ...  \n",
       "1965147                NaN  47183.309067  \n",
       "1965148                NaN  47187.904754  \n",
       "1965149                NaN  47188.021010  \n",
       "1965150                NaN  47192.907796  \n",
       "1965151                NaN  47193.095609  \n",
       "\n",
       "[988 rows x 23 columns]"
      ]
     },
     "execution_count": 155,
     "metadata": {},
     "output_type": "execute_result"
    }
   ],
   "source": [
    "a"
   ]
  },
  {
   "cell_type": "code",
   "execution_count": 138,
   "metadata": {},
   "outputs": [
    {
     "data": {
      "text/plain": [
       "8053.0    988\n",
       "Name: tcp.srcport, dtype: int64"
      ]
     },
     "execution_count": 138,
     "metadata": {},
     "output_type": "execute_result"
    }
   ],
   "source": [
    "a['tcp.srcport'].value_counts()"
   ]
  },
  {
   "cell_type": "code",
   "execution_count": 139,
   "metadata": {},
   "outputs": [
    {
     "data": {
      "text/plain": [
       "23.21.34.180    988\n",
       "Name: ip.src, dtype: int64"
      ]
     },
     "execution_count": 139,
     "metadata": {},
     "output_type": "execute_result"
    }
   ],
   "source": [
    "a['ip.src'].value_counts()"
   ]
  },
  {
   "cell_type": "code",
   "execution_count": 140,
   "metadata": {},
   "outputs": [
    {
     "data": {
      "text/plain": [
       "192.168.10.15    988\n",
       "Name: ip.dst, dtype: int64"
      ]
     },
     "execution_count": 140,
     "metadata": {},
     "output_type": "execute_result"
    }
   ],
   "source": [
    "a['ip.dst'].value_counts()"
   ]
  },
  {
   "cell_type": "code",
   "execution_count": null,
   "metadata": {},
   "outputs": [],
   "source": []
  },
  {
   "cell_type": "code",
   "execution_count": 122,
   "metadata": {},
   "outputs": [],
   "source": [
    "a = heart[heart['ip.src'] == \"34.197.173.181\"]"
   ]
  },
  {
   "cell_type": "code",
   "execution_count": 130,
   "metadata": {},
   "outputs": [],
   "source": [
    "a.to_csv(\"34197173181.csv\", index = False)"
   ]
  },
  {
   "cell_type": "code",
   "execution_count": 126,
   "metadata": {},
   "outputs": [
    {
     "data": {
      "text/plain": [
       "192.168.10.15    1103\n",
       "Name: ip.dst, dtype: int64"
      ]
     },
     "execution_count": 126,
     "metadata": {},
     "output_type": "execute_result"
    }
   ],
   "source": [
    "a['ip.dst'].value_counts()"
   ]
  },
  {
   "cell_type": "code",
   "execution_count": 127,
   "metadata": {},
   "outputs": [
    {
     "data": {
      "text/plain": [
       "8051.0    1103\n",
       "Name: tcp.srcport, dtype: int64"
      ]
     },
     "execution_count": 127,
     "metadata": {},
     "output_type": "execute_result"
    }
   ],
   "source": [
    "a['tcp.srcport'].value_counts()"
   ]
  },
  {
   "cell_type": "code",
   "execution_count": 128,
   "metadata": {},
   "outputs": [
    {
     "data": {
      "text/plain": [
       "50379.0    1103\n",
       "Name: tcp.dstport, dtype: int64"
      ]
     },
     "execution_count": 128,
     "metadata": {},
     "output_type": "execute_result"
    }
   ],
   "source": [
    "a['tcp.dstport'].value_counts()"
   ]
  },
  {
   "cell_type": "code",
   "execution_count": 129,
   "metadata": {},
   "outputs": [
    {
     "data": {
      "text/plain": [
       "0.0       699\n",
       "31.0      251\n",
       "804.0      74\n",
       "33.0       74\n",
       "1460.0      1\n",
       "185.0       1\n",
       "1420.0      1\n",
       "258.0       1\n",
       "60.0        1\n",
       "Name: tcp.len, dtype: int64"
      ]
     },
     "execution_count": 129,
     "metadata": {},
     "output_type": "execute_result"
    }
   ],
   "source": [
    "a['tcp.len'].value_counts()"
   ]
  },
  {
   "cell_type": "code",
   "execution_count": 104,
   "metadata": {
    "scrolled": false
   },
   "outputs": [
    {
     "name": "stderr",
     "output_type": "stream",
     "text": [
      "C:\\Users\\KJH\\Anaconda3\\envs\\py36\\lib\\site-packages\\IPython\\core\\interactiveshell.py:3058: DtypeWarning: Columns (12,13,14,15,16,17,18,21) have mixed types. Specify dtype option on import or set low_memory=False.\n",
      "  interactivity=interactivity, compiler=compiler, result=result)\n"
     ]
    }
   ],
   "source": [
    "cic = pd.read_csv(r\"E:\\rnddata\\(최종)one_way\\CIC17_Thursday_one_way.csv\",sep=',',warn_bad_lines=False, error_bad_lines=False)"
   ]
  },
  {
   "cell_type": "code",
   "execution_count": 105,
   "metadata": {},
   "outputs": [],
   "source": [
    "y = data[['_ws.col.Protocol','ip.src', 'ip.dst', 'tcp.srcport', 'tcp.dstport', 'tcp.len']]"
   ]
  },
  {
   "cell_type": "code",
   "execution_count": 106,
   "metadata": {},
   "outputs": [],
   "source": [
    "n = cic[['_ws.col.Protocol','ip.src', 'ip.dst', 'tcp.srcport', 'tcp.dstport', 'tcp.len']]"
   ]
  },
  {
   "cell_type": "code",
   "execution_count": 107,
   "metadata": {},
   "outputs": [],
   "source": [
    "merge1 = y.merge(e, on=['_ws.col.Protocol','ip.src', 'ip.dst', 'tcp.srcport', 'tcp.dstport', 'tcp.len'], how = 'outer', suffixes=['','_'], indicator=True )"
   ]
  },
  {
   "cell_type": "code",
   "execution_count": 108,
   "metadata": {},
   "outputs": [
    {
     "data": {
      "text/html": [
       "<div>\n",
       "<style scoped>\n",
       "    .dataframe tbody tr th:only-of-type {\n",
       "        vertical-align: middle;\n",
       "    }\n",
       "\n",
       "    .dataframe tbody tr th {\n",
       "        vertical-align: top;\n",
       "    }\n",
       "\n",
       "    .dataframe thead th {\n",
       "        text-align: right;\n",
       "    }\n",
       "</style>\n",
       "<table border=\"1\" class=\"dataframe\">\n",
       "  <thead>\n",
       "    <tr style=\"text-align: right;\">\n",
       "      <th></th>\n",
       "      <th>_ws.col.Protocol</th>\n",
       "      <th>ip.src</th>\n",
       "      <th>ip.dst</th>\n",
       "      <th>tcp.srcport</th>\n",
       "      <th>tcp.dstport</th>\n",
       "      <th>tcp.len</th>\n",
       "      <th>_merge</th>\n",
       "    </tr>\n",
       "  </thead>\n",
       "  <tbody>\n",
       "    <tr>\n",
       "      <th>0</th>\n",
       "      <td>TCP</td>\n",
       "      <td>134.170.115.55</td>\n",
       "      <td>192.168.10.5</td>\n",
       "      <td>443.0</td>\n",
       "      <td>49176.0</td>\n",
       "      <td>0.0</td>\n",
       "      <td>left_only</td>\n",
       "    </tr>\n",
       "    <tr>\n",
       "      <th>1</th>\n",
       "      <td>TCP</td>\n",
       "      <td>134.170.115.55</td>\n",
       "      <td>192.168.10.5</td>\n",
       "      <td>443.0</td>\n",
       "      <td>49176.0</td>\n",
       "      <td>0.0</td>\n",
       "      <td>left_only</td>\n",
       "    </tr>\n",
       "    <tr>\n",
       "      <th>2</th>\n",
       "      <td>TCP</td>\n",
       "      <td>134.170.115.55</td>\n",
       "      <td>192.168.10.5</td>\n",
       "      <td>443.0</td>\n",
       "      <td>49176.0</td>\n",
       "      <td>0.0</td>\n",
       "      <td>left_only</td>\n",
       "    </tr>\n",
       "    <tr>\n",
       "      <th>3</th>\n",
       "      <td>TCP</td>\n",
       "      <td>134.170.115.55</td>\n",
       "      <td>192.168.10.5</td>\n",
       "      <td>443.0</td>\n",
       "      <td>49176.0</td>\n",
       "      <td>0.0</td>\n",
       "      <td>left_only</td>\n",
       "    </tr>\n",
       "    <tr>\n",
       "      <th>4</th>\n",
       "      <td>TCP</td>\n",
       "      <td>131.253.61.80</td>\n",
       "      <td>192.168.10.14</td>\n",
       "      <td>80.0</td>\n",
       "      <td>49433.0</td>\n",
       "      <td>0.0</td>\n",
       "      <td>left_only</td>\n",
       "    </tr>\n",
       "    <tr>\n",
       "      <th>...</th>\n",
       "      <td>...</td>\n",
       "      <td>...</td>\n",
       "      <td>...</td>\n",
       "      <td>...</td>\n",
       "      <td>...</td>\n",
       "      <td>...</td>\n",
       "      <td>...</td>\n",
       "    </tr>\n",
       "    <tr>\n",
       "      <th>3077766</th>\n",
       "      <td>TCP</td>\n",
       "      <td>205.174.165.73</td>\n",
       "      <td>192.168.10.9</td>\n",
       "      <td>8080.0</td>\n",
       "      <td>9654.0</td>\n",
       "      <td>0.0</td>\n",
       "      <td>right_only</td>\n",
       "    </tr>\n",
       "    <tr>\n",
       "      <th>3077767</th>\n",
       "      <td>TCP</td>\n",
       "      <td>205.174.165.73</td>\n",
       "      <td>192.168.10.9</td>\n",
       "      <td>8080.0</td>\n",
       "      <td>9654.0</td>\n",
       "      <td>0.0</td>\n",
       "      <td>right_only</td>\n",
       "    </tr>\n",
       "    <tr>\n",
       "      <th>3077768</th>\n",
       "      <td>TCP</td>\n",
       "      <td>205.174.165.73</td>\n",
       "      <td>192.168.10.9</td>\n",
       "      <td>8080.0</td>\n",
       "      <td>9665.0</td>\n",
       "      <td>0.0</td>\n",
       "      <td>right_only</td>\n",
       "    </tr>\n",
       "    <tr>\n",
       "      <th>3077769</th>\n",
       "      <td>TCP</td>\n",
       "      <td>205.174.165.73</td>\n",
       "      <td>192.168.10.9</td>\n",
       "      <td>8080.0</td>\n",
       "      <td>9665.0</td>\n",
       "      <td>0.0</td>\n",
       "      <td>right_only</td>\n",
       "    </tr>\n",
       "    <tr>\n",
       "      <th>3077770</th>\n",
       "      <td>TCP</td>\n",
       "      <td>205.174.165.73</td>\n",
       "      <td>192.168.10.9</td>\n",
       "      <td>8080.0</td>\n",
       "      <td>9665.0</td>\n",
       "      <td>0.0</td>\n",
       "      <td>right_only</td>\n",
       "    </tr>\n",
       "  </tbody>\n",
       "</table>\n",
       "<p>3077771 rows × 7 columns</p>\n",
       "</div>"
      ],
      "text/plain": [
       "        _ws.col.Protocol          ip.src         ip.dst  tcp.srcport  \\\n",
       "0                    TCP  134.170.115.55   192.168.10.5        443.0   \n",
       "1                    TCP  134.170.115.55   192.168.10.5        443.0   \n",
       "2                    TCP  134.170.115.55   192.168.10.5        443.0   \n",
       "3                    TCP  134.170.115.55   192.168.10.5        443.0   \n",
       "4                    TCP   131.253.61.80  192.168.10.14         80.0   \n",
       "...                  ...             ...            ...          ...   \n",
       "3077766              TCP  205.174.165.73   192.168.10.9       8080.0   \n",
       "3077767              TCP  205.174.165.73   192.168.10.9       8080.0   \n",
       "3077768              TCP  205.174.165.73   192.168.10.9       8080.0   \n",
       "3077769              TCP  205.174.165.73   192.168.10.9       8080.0   \n",
       "3077770              TCP  205.174.165.73   192.168.10.9       8080.0   \n",
       "\n",
       "         tcp.dstport  tcp.len      _merge  \n",
       "0            49176.0      0.0   left_only  \n",
       "1            49176.0      0.0   left_only  \n",
       "2            49176.0      0.0   left_only  \n",
       "3            49176.0      0.0   left_only  \n",
       "4            49433.0      0.0   left_only  \n",
       "...              ...      ...         ...  \n",
       "3077766       9654.0      0.0  right_only  \n",
       "3077767       9654.0      0.0  right_only  \n",
       "3077768       9665.0      0.0  right_only  \n",
       "3077769       9665.0      0.0  right_only  \n",
       "3077770       9665.0      0.0  right_only  \n",
       "\n",
       "[3077771 rows x 7 columns]"
      ]
     },
     "execution_count": 108,
     "metadata": {},
     "output_type": "execute_result"
    }
   ],
   "source": [
    "merge1"
   ]
  },
  {
   "cell_type": "code",
   "execution_count": 109,
   "metadata": {},
   "outputs": [
    {
     "data": {
      "text/plain": [
       "left_only     3032094\n",
       "both            45380\n",
       "right_only        297\n",
       "Name: _merge, dtype: int64"
      ]
     },
     "execution_count": 109,
     "metadata": {},
     "output_type": "execute_result"
    }
   ],
   "source": [
    "merge1['_merge'].value_counts()"
   ]
  },
  {
   "cell_type": "code",
   "execution_count": null,
   "metadata": {},
   "outputs": [],
   "source": []
  },
  {
   "cell_type": "code",
   "execution_count": 87,
   "metadata": {},
   "outputs": [],
   "source": [
    "a = cic[(cic['ip.src'] == '205.174.165.73') & (cic['ip.dst'] == '192.168.10.9')]"
   ]
  },
  {
   "cell_type": "code",
   "execution_count": null,
   "metadata": {},
   "outputs": [],
   "source": []
  },
  {
   "cell_type": "code",
   "execution_count": null,
   "metadata": {},
   "outputs": [],
   "source": []
  },
  {
   "cell_type": "code",
   "execution_count": null,
   "metadata": {},
   "outputs": [],
   "source": []
  },
  {
   "cell_type": "code",
   "execution_count": null,
   "metadata": {},
   "outputs": [],
   "source": []
  },
  {
   "cell_type": "code",
   "execution_count": null,
   "metadata": {},
   "outputs": [],
   "source": []
  },
  {
   "cell_type": "code",
   "execution_count": null,
   "metadata": {},
   "outputs": [],
   "source": []
  },
  {
   "cell_type": "code",
   "execution_count": null,
   "metadata": {},
   "outputs": [],
   "source": []
  },
  {
   "cell_type": "code",
   "execution_count": null,
   "metadata": {},
   "outputs": [],
   "source": []
  },
  {
   "cell_type": "code",
   "execution_count": null,
   "metadata": {},
   "outputs": [],
   "source": []
  },
  {
   "cell_type": "code",
   "execution_count": 88,
   "metadata": {},
   "outputs": [
    {
     "data": {
      "text/html": [
       "<div>\n",
       "<style scoped>\n",
       "    .dataframe tbody tr th:only-of-type {\n",
       "        vertical-align: middle;\n",
       "    }\n",
       "\n",
       "    .dataframe tbody tr th {\n",
       "        vertical-align: top;\n",
       "    }\n",
       "\n",
       "    .dataframe thead th {\n",
       "        text-align: right;\n",
       "    }\n",
       "</style>\n",
       "<table border=\"1\" class=\"dataframe\">\n",
       "  <thead>\n",
       "    <tr style=\"text-align: right;\">\n",
       "      <th></th>\n",
       "      <th>_ws.col.Time</th>\n",
       "      <th>_ws.col.Protocol</th>\n",
       "      <th>ip.src</th>\n",
       "      <th>ip.dst</th>\n",
       "      <th>tcp.srcport</th>\n",
       "      <th>tcp.dstport</th>\n",
       "      <th>tcp.len</th>\n",
       "      <th>tcp.seq</th>\n",
       "      <th>tcp.ack</th>\n",
       "      <th>udp.srcport</th>\n",
       "      <th>...</th>\n",
       "      <th>http.request.method</th>\n",
       "      <th>http.request.uri</th>\n",
       "      <th>http.user_agent</th>\n",
       "      <th>http.connection</th>\n",
       "      <th>http.host</th>\n",
       "      <th>http.response.code</th>\n",
       "      <th>http.server</th>\n",
       "      <th>http.content_type</th>\n",
       "      <th>http.content_length</th>\n",
       "      <th>http.cache_control</th>\n",
       "    </tr>\n",
       "  </thead>\n",
       "  <tbody>\n",
       "    <tr>\n",
       "      <th>2117500</th>\n",
       "      <td>13:04:13.991397</td>\n",
       "      <td>TCP</td>\n",
       "      <td>205.174.165.73</td>\n",
       "      <td>192.168.10.9</td>\n",
       "      <td>8080.0</td>\n",
       "      <td>1841.0</td>\n",
       "      <td>0.0</td>\n",
       "      <td>0.0</td>\n",
       "      <td>1.0</td>\n",
       "      <td>NaN</td>\n",
       "      <td>...</td>\n",
       "      <td>NaN</td>\n",
       "      <td>NaN</td>\n",
       "      <td>NaN</td>\n",
       "      <td>NaN</td>\n",
       "      <td>NaN</td>\n",
       "      <td>NaN</td>\n",
       "      <td>NaN</td>\n",
       "      <td>NaN</td>\n",
       "      <td>NaN</td>\n",
       "      <td>NaN</td>\n",
       "    </tr>\n",
       "    <tr>\n",
       "      <th>2117501</th>\n",
       "      <td>13:04:13.993057</td>\n",
       "      <td>TCP</td>\n",
       "      <td>205.174.165.73</td>\n",
       "      <td>192.168.10.9</td>\n",
       "      <td>8080.0</td>\n",
       "      <td>1841.0</td>\n",
       "      <td>0.0</td>\n",
       "      <td>1.0</td>\n",
       "      <td>195.0</td>\n",
       "      <td>NaN</td>\n",
       "      <td>...</td>\n",
       "      <td>NaN</td>\n",
       "      <td>NaN</td>\n",
       "      <td>NaN</td>\n",
       "      <td>NaN</td>\n",
       "      <td>NaN</td>\n",
       "      <td>NaN</td>\n",
       "      <td>NaN</td>\n",
       "      <td>NaN</td>\n",
       "      <td>NaN</td>\n",
       "      <td>NaN</td>\n",
       "    </tr>\n",
       "    <tr>\n",
       "      <th>2117506</th>\n",
       "      <td>13:04:14.124180</td>\n",
       "      <td>HTTP</td>\n",
       "      <td>205.174.165.73</td>\n",
       "      <td>192.168.10.9</td>\n",
       "      <td>8080.0</td>\n",
       "      <td>1841.0</td>\n",
       "      <td>128.0</td>\n",
       "      <td>1.0</td>\n",
       "      <td>195.0</td>\n",
       "      <td>NaN</td>\n",
       "      <td>...</td>\n",
       "      <td>NaN</td>\n",
       "      <td>NaN</td>\n",
       "      <td>NaN</td>\n",
       "      <td>NaN</td>\n",
       "      <td>NaN</td>\n",
       "      <td>200.0</td>\n",
       "      <td>Ares</td>\n",
       "      <td>text/html;charset=utf-8</td>\n",
       "      <td>0</td>\n",
       "      <td>NaN</td>\n",
       "    </tr>\n",
       "    <tr>\n",
       "      <th>2117507</th>\n",
       "      <td>13:04:14.125929</td>\n",
       "      <td>TCP</td>\n",
       "      <td>205.174.165.73</td>\n",
       "      <td>192.168.10.9</td>\n",
       "      <td>8080.0</td>\n",
       "      <td>1841.0</td>\n",
       "      <td>0.0</td>\n",
       "      <td>129.0</td>\n",
       "      <td>196.0</td>\n",
       "      <td>NaN</td>\n",
       "      <td>...</td>\n",
       "      <td>NaN</td>\n",
       "      <td>NaN</td>\n",
       "      <td>NaN</td>\n",
       "      <td>NaN</td>\n",
       "      <td>NaN</td>\n",
       "      <td>NaN</td>\n",
       "      <td>NaN</td>\n",
       "      <td>NaN</td>\n",
       "      <td>NaN</td>\n",
       "      <td>NaN</td>\n",
       "    </tr>\n",
       "    <tr>\n",
       "      <th>2118619</th>\n",
       "      <td>13:04:24.131760</td>\n",
       "      <td>TCP</td>\n",
       "      <td>205.174.165.73</td>\n",
       "      <td>192.168.10.9</td>\n",
       "      <td>8080.0</td>\n",
       "      <td>1845.0</td>\n",
       "      <td>0.0</td>\n",
       "      <td>0.0</td>\n",
       "      <td>1.0</td>\n",
       "      <td>NaN</td>\n",
       "      <td>...</td>\n",
       "      <td>NaN</td>\n",
       "      <td>NaN</td>\n",
       "      <td>NaN</td>\n",
       "      <td>NaN</td>\n",
       "      <td>NaN</td>\n",
       "      <td>NaN</td>\n",
       "      <td>NaN</td>\n",
       "      <td>NaN</td>\n",
       "      <td>NaN</td>\n",
       "      <td>NaN</td>\n",
       "    </tr>\n",
       "    <tr>\n",
       "      <th>...</th>\n",
       "      <td>...</td>\n",
       "      <td>...</td>\n",
       "      <td>...</td>\n",
       "      <td>...</td>\n",
       "      <td>...</td>\n",
       "      <td>...</td>\n",
       "      <td>...</td>\n",
       "      <td>...</td>\n",
       "      <td>...</td>\n",
       "      <td>...</td>\n",
       "      <td>...</td>\n",
       "      <td>...</td>\n",
       "      <td>...</td>\n",
       "      <td>...</td>\n",
       "      <td>...</td>\n",
       "      <td>...</td>\n",
       "      <td>...</td>\n",
       "      <td>...</td>\n",
       "      <td>...</td>\n",
       "      <td>...</td>\n",
       "      <td>...</td>\n",
       "    </tr>\n",
       "    <tr>\n",
       "      <th>4692045</th>\n",
       "      <td>19:13:13.000103</td>\n",
       "      <td>TCP</td>\n",
       "      <td>205.174.165.73</td>\n",
       "      <td>192.168.10.9</td>\n",
       "      <td>8080.0</td>\n",
       "      <td>9654.0</td>\n",
       "      <td>0.0</td>\n",
       "      <td>1.0</td>\n",
       "      <td>1.0</td>\n",
       "      <td>NaN</td>\n",
       "      <td>...</td>\n",
       "      <td>NaN</td>\n",
       "      <td>NaN</td>\n",
       "      <td>NaN</td>\n",
       "      <td>NaN</td>\n",
       "      <td>NaN</td>\n",
       "      <td>NaN</td>\n",
       "      <td>NaN</td>\n",
       "      <td>NaN</td>\n",
       "      <td>NaN</td>\n",
       "      <td>NaN</td>\n",
       "    </tr>\n",
       "    <tr>\n",
       "      <th>4692213</th>\n",
       "      <td>19:13:13.499901</td>\n",
       "      <td>TCP</td>\n",
       "      <td>205.174.165.73</td>\n",
       "      <td>192.168.10.9</td>\n",
       "      <td>8080.0</td>\n",
       "      <td>9654.0</td>\n",
       "      <td>0.0</td>\n",
       "      <td>1.0</td>\n",
       "      <td>1.0</td>\n",
       "      <td>NaN</td>\n",
       "      <td>...</td>\n",
       "      <td>NaN</td>\n",
       "      <td>NaN</td>\n",
       "      <td>NaN</td>\n",
       "      <td>NaN</td>\n",
       "      <td>NaN</td>\n",
       "      <td>NaN</td>\n",
       "      <td>NaN</td>\n",
       "      <td>NaN</td>\n",
       "      <td>NaN</td>\n",
       "      <td>NaN</td>\n",
       "    </tr>\n",
       "    <tr>\n",
       "      <th>4771375</th>\n",
       "      <td>19:14:53.518747</td>\n",
       "      <td>TCP</td>\n",
       "      <td>205.174.165.73</td>\n",
       "      <td>192.168.10.9</td>\n",
       "      <td>8080.0</td>\n",
       "      <td>9665.0</td>\n",
       "      <td>0.0</td>\n",
       "      <td>1.0</td>\n",
       "      <td>1.0</td>\n",
       "      <td>NaN</td>\n",
       "      <td>...</td>\n",
       "      <td>NaN</td>\n",
       "      <td>NaN</td>\n",
       "      <td>NaN</td>\n",
       "      <td>NaN</td>\n",
       "      <td>NaN</td>\n",
       "      <td>NaN</td>\n",
       "      <td>NaN</td>\n",
       "      <td>NaN</td>\n",
       "      <td>NaN</td>\n",
       "      <td>NaN</td>\n",
       "    </tr>\n",
       "    <tr>\n",
       "      <th>4771396</th>\n",
       "      <td>19:14:54.028509</td>\n",
       "      <td>TCP</td>\n",
       "      <td>205.174.165.73</td>\n",
       "      <td>192.168.10.9</td>\n",
       "      <td>8080.0</td>\n",
       "      <td>9665.0</td>\n",
       "      <td>0.0</td>\n",
       "      <td>1.0</td>\n",
       "      <td>1.0</td>\n",
       "      <td>NaN</td>\n",
       "      <td>...</td>\n",
       "      <td>NaN</td>\n",
       "      <td>NaN</td>\n",
       "      <td>NaN</td>\n",
       "      <td>NaN</td>\n",
       "      <td>NaN</td>\n",
       "      <td>NaN</td>\n",
       "      <td>NaN</td>\n",
       "      <td>NaN</td>\n",
       "      <td>NaN</td>\n",
       "      <td>NaN</td>\n",
       "    </tr>\n",
       "    <tr>\n",
       "      <th>4771492</th>\n",
       "      <td>19:14:54.527716</td>\n",
       "      <td>TCP</td>\n",
       "      <td>205.174.165.73</td>\n",
       "      <td>192.168.10.9</td>\n",
       "      <td>8080.0</td>\n",
       "      <td>9665.0</td>\n",
       "      <td>0.0</td>\n",
       "      <td>1.0</td>\n",
       "      <td>1.0</td>\n",
       "      <td>NaN</td>\n",
       "      <td>...</td>\n",
       "      <td>NaN</td>\n",
       "      <td>NaN</td>\n",
       "      <td>NaN</td>\n",
       "      <td>NaN</td>\n",
       "      <td>NaN</td>\n",
       "      <td>NaN</td>\n",
       "      <td>NaN</td>\n",
       "      <td>NaN</td>\n",
       "      <td>NaN</td>\n",
       "      <td>NaN</td>\n",
       "    </tr>\n",
       "  </tbody>\n",
       "</table>\n",
       "<p>1771 rows × 22 columns</p>\n",
       "</div>"
      ],
      "text/plain": [
       "            _ws.col.Time _ws.col.Protocol          ip.src        ip.dst  \\\n",
       "2117500  13:04:13.991397              TCP  205.174.165.73  192.168.10.9   \n",
       "2117501  13:04:13.993057              TCP  205.174.165.73  192.168.10.9   \n",
       "2117506  13:04:14.124180             HTTP  205.174.165.73  192.168.10.9   \n",
       "2117507  13:04:14.125929              TCP  205.174.165.73  192.168.10.9   \n",
       "2118619  13:04:24.131760              TCP  205.174.165.73  192.168.10.9   \n",
       "...                  ...              ...             ...           ...   \n",
       "4692045  19:13:13.000103              TCP  205.174.165.73  192.168.10.9   \n",
       "4692213  19:13:13.499901              TCP  205.174.165.73  192.168.10.9   \n",
       "4771375  19:14:53.518747              TCP  205.174.165.73  192.168.10.9   \n",
       "4771396  19:14:54.028509              TCP  205.174.165.73  192.168.10.9   \n",
       "4771492  19:14:54.527716              TCP  205.174.165.73  192.168.10.9   \n",
       "\n",
       "         tcp.srcport  tcp.dstport  tcp.len  tcp.seq  tcp.ack  udp.srcport  \\\n",
       "2117500       8080.0       1841.0      0.0      0.0      1.0          NaN   \n",
       "2117501       8080.0       1841.0      0.0      1.0    195.0          NaN   \n",
       "2117506       8080.0       1841.0    128.0      1.0    195.0          NaN   \n",
       "2117507       8080.0       1841.0      0.0    129.0    196.0          NaN   \n",
       "2118619       8080.0       1845.0      0.0      0.0      1.0          NaN   \n",
       "...              ...          ...      ...      ...      ...          ...   \n",
       "4692045       8080.0       9654.0      0.0      1.0      1.0          NaN   \n",
       "4692213       8080.0       9654.0      0.0      1.0      1.0          NaN   \n",
       "4771375       8080.0       9665.0      0.0      1.0      1.0          NaN   \n",
       "4771396       8080.0       9665.0      0.0      1.0      1.0          NaN   \n",
       "4771492       8080.0       9665.0      0.0      1.0      1.0          NaN   \n",
       "\n",
       "         ...  http.request.method  http.request.uri http.user_agent  \\\n",
       "2117500  ...                  NaN               NaN             NaN   \n",
       "2117501  ...                  NaN               NaN             NaN   \n",
       "2117506  ...                  NaN               NaN             NaN   \n",
       "2117507  ...                  NaN               NaN             NaN   \n",
       "2118619  ...                  NaN               NaN             NaN   \n",
       "...      ...                  ...               ...             ...   \n",
       "4692045  ...                  NaN               NaN             NaN   \n",
       "4692213  ...                  NaN               NaN             NaN   \n",
       "4771375  ...                  NaN               NaN             NaN   \n",
       "4771396  ...                  NaN               NaN             NaN   \n",
       "4771492  ...                  NaN               NaN             NaN   \n",
       "\n",
       "        http.connection http.host http.response.code http.server  \\\n",
       "2117500             NaN       NaN                NaN         NaN   \n",
       "2117501             NaN       NaN                NaN         NaN   \n",
       "2117506             NaN       NaN              200.0        Ares   \n",
       "2117507             NaN       NaN                NaN         NaN   \n",
       "2118619             NaN       NaN                NaN         NaN   \n",
       "...                 ...       ...                ...         ...   \n",
       "4692045             NaN       NaN                NaN         NaN   \n",
       "4692213             NaN       NaN                NaN         NaN   \n",
       "4771375             NaN       NaN                NaN         NaN   \n",
       "4771396             NaN       NaN                NaN         NaN   \n",
       "4771492             NaN       NaN                NaN         NaN   \n",
       "\n",
       "               http.content_type http.content_length http.cache_control  \n",
       "2117500                      NaN                 NaN                NaN  \n",
       "2117501                      NaN                 NaN                NaN  \n",
       "2117506  text/html;charset=utf-8                   0                NaN  \n",
       "2117507                      NaN                 NaN                NaN  \n",
       "2118619                      NaN                 NaN                NaN  \n",
       "...                          ...                 ...                ...  \n",
       "4692045                      NaN                 NaN                NaN  \n",
       "4692213                      NaN                 NaN                NaN  \n",
       "4771375                      NaN                 NaN                NaN  \n",
       "4771396                      NaN                 NaN                NaN  \n",
       "4771492                      NaN                 NaN                NaN  \n",
       "\n",
       "[1771 rows x 22 columns]"
      ]
     },
     "execution_count": 88,
     "metadata": {},
     "output_type": "execute_result"
    }
   ],
   "source": [
    "a"
   ]
  },
  {
   "cell_type": "code",
   "execution_count": 89,
   "metadata": {},
   "outputs": [],
   "source": [
    "b= a[a['tcp.srcport'] == 8080]"
   ]
  },
  {
   "cell_type": "code",
   "execution_count": 92,
   "metadata": {},
   "outputs": [],
   "source": [
    "b.to_csv(\"friday_answer.csv\", index =False)"
   ]
  },
  {
   "cell_type": "code",
   "execution_count": 95,
   "metadata": {},
   "outputs": [],
   "source": [
    "e = b[['_ws.col.Protocol','ip.src', 'ip.dst', 'tcp.srcport', 'tcp.dstport', 'tcp.len']]"
   ]
  },
  {
   "cell_type": "code",
   "execution_count": 94,
   "metadata": {},
   "outputs": [],
   "source": [
    "y = data[['_ws.col.Protocol','ip.src', 'ip.dst', 'tcp.srcport', 'tcp.dstport', 'tcp.len']]"
   ]
  },
  {
   "cell_type": "code",
   "execution_count": 96,
   "metadata": {},
   "outputs": [],
   "source": [
    "merge1 = y.merge(e, on=['_ws.col.Protocol','ip.src', 'ip.dst', 'tcp.srcport', 'tcp.dstport', 'tcp.len'], how = 'outer', suffixes=['','_'], indicator=True )"
   ]
  },
  {
   "cell_type": "code",
   "execution_count": 100,
   "metadata": {},
   "outputs": [],
   "source": [
    "a = merge1[merge1[\"_merge\"] == \"both\"].drop_duplicates()"
   ]
  },
  {
   "cell_type": "code",
   "execution_count": 102,
   "metadata": {
    "scrolled": true
   },
   "outputs": [
    {
     "data": {
      "text/plain": [
       "left_only     3032094\n",
       "both            45380\n",
       "right_only        297\n",
       "Name: _merge, dtype: int64"
      ]
     },
     "execution_count": 102,
     "metadata": {},
     "output_type": "execute_result"
    }
   ],
   "source": [
    "merge1[\"_merge\"].value_counts()"
   ]
  },
  {
   "cell_type": "code",
   "execution_count": 103,
   "metadata": {},
   "outputs": [
    {
     "data": {
      "text/html": [
       "<div>\n",
       "<style scoped>\n",
       "    .dataframe tbody tr th:only-of-type {\n",
       "        vertical-align: middle;\n",
       "    }\n",
       "\n",
       "    .dataframe tbody tr th {\n",
       "        vertical-align: top;\n",
       "    }\n",
       "\n",
       "    .dataframe thead th {\n",
       "        text-align: right;\n",
       "    }\n",
       "</style>\n",
       "<table border=\"1\" class=\"dataframe\">\n",
       "  <thead>\n",
       "    <tr style=\"text-align: right;\">\n",
       "      <th></th>\n",
       "      <th>_ws.col.Protocol</th>\n",
       "      <th>ip.src</th>\n",
       "      <th>ip.dst</th>\n",
       "      <th>tcp.srcport</th>\n",
       "      <th>tcp.dstport</th>\n",
       "      <th>tcp.len</th>\n",
       "      <th>_merge</th>\n",
       "    </tr>\n",
       "  </thead>\n",
       "  <tbody>\n",
       "    <tr>\n",
       "      <th>2124162</th>\n",
       "      <td>TCP</td>\n",
       "      <td>205.174.165.73</td>\n",
       "      <td>192.168.10.9</td>\n",
       "      <td>8080.0</td>\n",
       "      <td>1841.0</td>\n",
       "      <td>0.0</td>\n",
       "      <td>both</td>\n",
       "    </tr>\n",
       "    <tr>\n",
       "      <th>2124171</th>\n",
       "      <td>HTTP</td>\n",
       "      <td>205.174.165.73</td>\n",
       "      <td>192.168.10.9</td>\n",
       "      <td>8080.0</td>\n",
       "      <td>1841.0</td>\n",
       "      <td>128.0</td>\n",
       "      <td>both</td>\n",
       "    </tr>\n",
       "    <tr>\n",
       "      <th>2124705</th>\n",
       "      <td>TCP</td>\n",
       "      <td>205.174.165.73</td>\n",
       "      <td>192.168.10.9</td>\n",
       "      <td>8080.0</td>\n",
       "      <td>1845.0</td>\n",
       "      <td>0.0</td>\n",
       "      <td>both</td>\n",
       "    </tr>\n",
       "    <tr>\n",
       "      <th>2124714</th>\n",
       "      <td>HTTP</td>\n",
       "      <td>205.174.165.73</td>\n",
       "      <td>192.168.10.9</td>\n",
       "      <td>8080.0</td>\n",
       "      <td>1845.0</td>\n",
       "      <td>128.0</td>\n",
       "      <td>both</td>\n",
       "    </tr>\n",
       "    <tr>\n",
       "      <th>2126191</th>\n",
       "      <td>TCP</td>\n",
       "      <td>205.174.165.73</td>\n",
       "      <td>192.168.10.9</td>\n",
       "      <td>8080.0</td>\n",
       "      <td>1846.0</td>\n",
       "      <td>0.0</td>\n",
       "      <td>both</td>\n",
       "    </tr>\n",
       "    <tr>\n",
       "      <th>...</th>\n",
       "      <td>...</td>\n",
       "      <td>...</td>\n",
       "      <td>...</td>\n",
       "      <td>...</td>\n",
       "      <td>...</td>\n",
       "      <td>...</td>\n",
       "      <td>...</td>\n",
       "    </tr>\n",
       "    <tr>\n",
       "      <th>3046538</th>\n",
       "      <td>TCP</td>\n",
       "      <td>205.174.165.73</td>\n",
       "      <td>192.168.10.9</td>\n",
       "      <td>8080.0</td>\n",
       "      <td>6939.0</td>\n",
       "      <td>0.0</td>\n",
       "      <td>both</td>\n",
       "    </tr>\n",
       "    <tr>\n",
       "      <th>3050899</th>\n",
       "      <td>TCP</td>\n",
       "      <td>205.174.165.73</td>\n",
       "      <td>192.168.10.9</td>\n",
       "      <td>8080.0</td>\n",
       "      <td>6988.0</td>\n",
       "      <td>0.0</td>\n",
       "      <td>both</td>\n",
       "    </tr>\n",
       "    <tr>\n",
       "      <th>3052373</th>\n",
       "      <td>TCP</td>\n",
       "      <td>205.174.165.73</td>\n",
       "      <td>192.168.10.9</td>\n",
       "      <td>8080.0</td>\n",
       "      <td>7008.0</td>\n",
       "      <td>0.0</td>\n",
       "      <td>both</td>\n",
       "    </tr>\n",
       "    <tr>\n",
       "      <th>3065456</th>\n",
       "      <td>TCP</td>\n",
       "      <td>205.174.165.73</td>\n",
       "      <td>192.168.10.9</td>\n",
       "      <td>8080.0</td>\n",
       "      <td>7041.0</td>\n",
       "      <td>0.0</td>\n",
       "      <td>both</td>\n",
       "    </tr>\n",
       "    <tr>\n",
       "      <th>3069263</th>\n",
       "      <td>TCP</td>\n",
       "      <td>205.174.165.73</td>\n",
       "      <td>192.168.10.9</td>\n",
       "      <td>8080.0</td>\n",
       "      <td>7049.0</td>\n",
       "      <td>0.0</td>\n",
       "      <td>both</td>\n",
       "    </tr>\n",
       "  </tbody>\n",
       "</table>\n",
       "<p>405 rows × 7 columns</p>\n",
       "</div>"
      ],
      "text/plain": [
       "        _ws.col.Protocol          ip.src        ip.dst  tcp.srcport  \\\n",
       "2124162              TCP  205.174.165.73  192.168.10.9       8080.0   \n",
       "2124171             HTTP  205.174.165.73  192.168.10.9       8080.0   \n",
       "2124705              TCP  205.174.165.73  192.168.10.9       8080.0   \n",
       "2124714             HTTP  205.174.165.73  192.168.10.9       8080.0   \n",
       "2126191              TCP  205.174.165.73  192.168.10.9       8080.0   \n",
       "...                  ...             ...           ...          ...   \n",
       "3046538              TCP  205.174.165.73  192.168.10.9       8080.0   \n",
       "3050899              TCP  205.174.165.73  192.168.10.9       8080.0   \n",
       "3052373              TCP  205.174.165.73  192.168.10.9       8080.0   \n",
       "3065456              TCP  205.174.165.73  192.168.10.9       8080.0   \n",
       "3069263              TCP  205.174.165.73  192.168.10.9       8080.0   \n",
       "\n",
       "         tcp.dstport  tcp.len _merge  \n",
       "2124162       1841.0      0.0   both  \n",
       "2124171       1841.0    128.0   both  \n",
       "2124705       1845.0      0.0   both  \n",
       "2124714       1845.0    128.0   both  \n",
       "2126191       1846.0      0.0   both  \n",
       "...              ...      ...    ...  \n",
       "3046538       6939.0      0.0   both  \n",
       "3050899       6988.0      0.0   both  \n",
       "3052373       7008.0      0.0   both  \n",
       "3065456       7041.0      0.0   both  \n",
       "3069263       7049.0      0.0   both  \n",
       "\n",
       "[405 rows x 7 columns]"
      ]
     },
     "execution_count": 103,
     "metadata": {},
     "output_type": "execute_result"
    }
   ],
   "source": [
    "a.to_csv(\"\")"
   ]
  },
  {
   "cell_type": "code",
   "execution_count": null,
   "metadata": {},
   "outputs": [],
   "source": []
  },
  {
   "cell_type": "code",
   "execution_count": null,
   "metadata": {},
   "outputs": [],
   "source": []
  },
  {
   "cell_type": "code",
   "execution_count": 91,
   "metadata": {},
   "outputs": [
    {
     "data": {
      "text/plain": [
       "4069.0    86\n",
       "4087.0    85\n",
       "4273.0    82\n",
       "2575.0    79\n",
       "2629.0    78\n",
       "          ..\n",
       "9509.0     3\n",
       "9354.0     3\n",
       "8135.0     3\n",
       "7190.0     3\n",
       "5488.0     3\n",
       "Name: tcp.dstport, Length: 337, dtype: int64"
      ]
     },
     "execution_count": 91,
     "metadata": {},
     "output_type": "execute_result"
    }
   ],
   "source": [
    "b['tcp.dstport'].value_counts()"
   ]
  },
  {
   "cell_type": "code",
   "execution_count": 70,
   "metadata": {
    "scrolled": true
   },
   "outputs": [
    {
     "data": {
      "text/plain": [
       "Index(['_ws.col.UTCtime', '_ws.col.Protocol', 'ip.src', 'ip.dst',\n",
       "       'tcp.srcport', 'tcp.dstport', 'tcp.len', 'tcp.seq', 'tcp.ack',\n",
       "       'udp.srcport', 'udp.dstport', 'udp.length', 'http.request.method',\n",
       "       'http.request.uri', 'http.user_agent', 'http.connection', 'http.host',\n",
       "       'http.response.code', 'http.server', 'http.content_type',\n",
       "       'http.content_length', 'http.cache_control', 'seconds'],\n",
       "      dtype='object')"
      ]
     },
     "execution_count": 70,
     "metadata": {},
     "output_type": "execute_result"
    }
   ],
   "source": [
    "data.columns"
   ]
  },
  {
   "cell_type": "code",
   "execution_count": 67,
   "metadata": {},
   "outputs": [],
   "source": [
    "answer = pd.read_csv(r\"D:\\본선데이터셋\\result_network_1st_leejuhyun_submit1.csv\",sep=',',warn_bad_lines=False, error_bad_lines=False)"
   ]
  },
  {
   "cell_type": "code",
   "execution_count": 71,
   "metadata": {},
   "outputs": [],
   "source": [
    "answer.columns = ['ip.src', 'ip.dst','tcp.srcport', 'tcp.dstport', 'attack_type']"
   ]
  },
  {
   "cell_type": "code",
   "execution_count": 72,
   "metadata": {
    "scrolled": true
   },
   "outputs": [],
   "source": [
    "merge1 = data.merge(answer, on=['ip.src', 'ip.dst', 'tcp.srcport', 'tcp.dstport'], how = 'outer', suffixes=['','_'], indicator=True )"
   ]
  },
  {
   "cell_type": "code",
   "execution_count": 74,
   "metadata": {},
   "outputs": [
    {
     "data": {
      "text/plain": [
       "left_only     3026658\n",
       "both             6910\n",
       "right_only          0\n",
       "Name: _merge, dtype: int64"
      ]
     },
     "execution_count": 74,
     "metadata": {},
     "output_type": "execute_result"
    }
   ],
   "source": [
    "merge1[\"_merge\"].value_counts()"
   ]
  },
  {
   "cell_type": "code",
   "execution_count": 76,
   "metadata": {},
   "outputs": [],
   "source": [
    "merge1[merge1[\"_merge\"] == \"both\"].to_csv(\"answer_stream.csv\", index = False)"
   ]
  },
  {
   "cell_type": "code",
   "execution_count": 66,
   "metadata": {},
   "outputs": [
    {
     "data": {
      "text/html": [
       "<div>\n",
       "<style scoped>\n",
       "    .dataframe tbody tr th:only-of-type {\n",
       "        vertical-align: middle;\n",
       "    }\n",
       "\n",
       "    .dataframe tbody tr th {\n",
       "        vertical-align: top;\n",
       "    }\n",
       "\n",
       "    .dataframe thead th {\n",
       "        text-align: right;\n",
       "    }\n",
       "</style>\n",
       "<table border=\"1\" class=\"dataframe\">\n",
       "  <thead>\n",
       "    <tr style=\"text-align: right;\">\n",
       "      <th></th>\n",
       "      <th>_ws.col.UTCtime</th>\n",
       "      <th>_ws.col.Protocol</th>\n",
       "      <th>ip.src</th>\n",
       "      <th>ip.dst</th>\n",
       "      <th>tcp.srcport</th>\n",
       "      <th>tcp.dstport</th>\n",
       "      <th>tcp.len</th>\n",
       "      <th>tcp.seq</th>\n",
       "      <th>tcp.ack</th>\n",
       "      <th>udp.srcport</th>\n",
       "      <th>...</th>\n",
       "      <th>http.request.uri</th>\n",
       "      <th>http.user_agent</th>\n",
       "      <th>http.connection</th>\n",
       "      <th>http.host</th>\n",
       "      <th>http.response.code</th>\n",
       "      <th>http.server</th>\n",
       "      <th>http.content_type</th>\n",
       "      <th>http.content_length</th>\n",
       "      <th>http.cache_control</th>\n",
       "      <th>seconds</th>\n",
       "    </tr>\n",
       "  </thead>\n",
       "  <tbody>\n",
       "  </tbody>\n",
       "</table>\n",
       "<p>0 rows × 23 columns</p>\n",
       "</div>"
      ],
      "text/plain": [
       "Empty DataFrame\n",
       "Columns: [_ws.col.UTCtime, _ws.col.Protocol, ip.src, ip.dst, tcp.srcport, tcp.dstport, tcp.len, tcp.seq, tcp.ack, udp.srcport, udp.dstport, udp.length, http.request.method, http.request.uri, http.user_agent, http.connection, http.host, http.response.code, http.server, http.content_type, http.content_length, http.cache_control, seconds]\n",
       "Index: []\n",
       "\n",
       "[0 rows x 23 columns]"
      ]
     },
     "execution_count": 66,
     "metadata": {},
     "output_type": "execute_result"
    }
   ],
   "source": [
    "data"
   ]
  },
  {
   "cell_type": "code",
   "execution_count": 32,
   "metadata": {},
   "outputs": [],
   "source": [
    "brute = data[(data['ip.src'] == \"172.16.0.1\") & (data['ip.dst'] == \"192.168.10.50\")]"
   ]
  },
  {
   "cell_type": "code",
   "execution_count": 40,
   "metadata": {},
   "outputs": [],
   "source": [
    "answer = pd.read_csv(r\"E:\\rnddata\\원본\\A_answer_network_train_1st.csv\",sep=',',warn_bad_lines=False, error_bad_lines=False)"
   ]
  },
  {
   "cell_type": "code",
   "execution_count": 43,
   "metadata": {},
   "outputs": [],
   "source": [
    "answer.columns = ['ip.src', 'ip.dst','tcp.srcport', 'tcp.dstport', 'attack type']"
   ]
  },
  {
   "cell_type": "code",
   "execution_count": 45,
   "metadata": {},
   "outputs": [],
   "source": [
    "merge = answer.merge(a, on=['ip.src', 'ip.dst', 'tcp.srcport', 'tcp.dstport'], how = 'outer', suffixes=['','_'], indicator=True )"
   ]
  },
  {
   "cell_type": "code",
   "execution_count": 47,
   "metadata": {
    "scrolled": false
   },
   "outputs": [
    {
     "data": {
      "text/html": [
       "<div>\n",
       "<style scoped>\n",
       "    .dataframe tbody tr th:only-of-type {\n",
       "        vertical-align: middle;\n",
       "    }\n",
       "\n",
       "    .dataframe tbody tr th {\n",
       "        vertical-align: top;\n",
       "    }\n",
       "\n",
       "    .dataframe thead th {\n",
       "        text-align: right;\n",
       "    }\n",
       "</style>\n",
       "<table border=\"1\" class=\"dataframe\">\n",
       "  <thead>\n",
       "    <tr style=\"text-align: right;\">\n",
       "      <th></th>\n",
       "      <th>ip.src</th>\n",
       "      <th>ip.dst</th>\n",
       "      <th>tcp.srcport</th>\n",
       "      <th>tcp.dstport</th>\n",
       "      <th>attack type</th>\n",
       "      <th>_merge</th>\n",
       "    </tr>\n",
       "  </thead>\n",
       "  <tbody>\n",
       "    <tr>\n",
       "      <th>297</th>\n",
       "      <td>172.16.0.1</td>\n",
       "      <td>192.168.10.50</td>\n",
       "      <td>40556</td>\n",
       "      <td>80</td>\n",
       "      <td>brute force</td>\n",
       "      <td>both</td>\n",
       "    </tr>\n",
       "    <tr>\n",
       "      <th>298</th>\n",
       "      <td>172.16.0.1</td>\n",
       "      <td>192.168.10.50</td>\n",
       "      <td>40556</td>\n",
       "      <td>80</td>\n",
       "      <td>brute force</td>\n",
       "      <td>both</td>\n",
       "    </tr>\n",
       "    <tr>\n",
       "      <th>299</th>\n",
       "      <td>172.16.0.1</td>\n",
       "      <td>192.168.10.50</td>\n",
       "      <td>40556</td>\n",
       "      <td>80</td>\n",
       "      <td>brute force</td>\n",
       "      <td>both</td>\n",
       "    </tr>\n",
       "    <tr>\n",
       "      <th>300</th>\n",
       "      <td>172.16.0.1</td>\n",
       "      <td>192.168.10.50</td>\n",
       "      <td>40556</td>\n",
       "      <td>80</td>\n",
       "      <td>brute force</td>\n",
       "      <td>both</td>\n",
       "    </tr>\n",
       "    <tr>\n",
       "      <th>301</th>\n",
       "      <td>172.16.0.1</td>\n",
       "      <td>192.168.10.50</td>\n",
       "      <td>40556</td>\n",
       "      <td>80</td>\n",
       "      <td>brute force</td>\n",
       "      <td>both</td>\n",
       "    </tr>\n",
       "    <tr>\n",
       "      <th>302</th>\n",
       "      <td>172.16.0.1</td>\n",
       "      <td>192.168.10.50</td>\n",
       "      <td>40556</td>\n",
       "      <td>80</td>\n",
       "      <td>brute force</td>\n",
       "      <td>both</td>\n",
       "    </tr>\n",
       "    <tr>\n",
       "      <th>303</th>\n",
       "      <td>172.16.0.1</td>\n",
       "      <td>192.168.10.50</td>\n",
       "      <td>40556</td>\n",
       "      <td>80</td>\n",
       "      <td>brute force</td>\n",
       "      <td>both</td>\n",
       "    </tr>\n",
       "  </tbody>\n",
       "</table>\n",
       "</div>"
      ],
      "text/plain": [
       "         ip.src         ip.dst  tcp.srcport  tcp.dstport  attack type _merge\n",
       "297  172.16.0.1  192.168.10.50        40556           80  brute force   both\n",
       "298  172.16.0.1  192.168.10.50        40556           80  brute force   both\n",
       "299  172.16.0.1  192.168.10.50        40556           80  brute force   both\n",
       "300  172.16.0.1  192.168.10.50        40556           80  brute force   both\n",
       "301  172.16.0.1  192.168.10.50        40556           80  brute force   both\n",
       "302  172.16.0.1  192.168.10.50        40556           80  brute force   both\n",
       "303  172.16.0.1  192.168.10.50        40556           80  brute force   both"
      ]
     },
     "execution_count": 47,
     "metadata": {},
     "output_type": "execute_result"
    }
   ],
   "source": [
    "merge[merge[\"_merge\"] == \"both\"]"
   ]
  },
  {
   "cell_type": "code",
   "execution_count": 58,
   "metadata": {},
   "outputs": [
    {
     "data": {
      "text/plain": [
       "11"
      ]
     },
     "execution_count": 58,
     "metadata": {},
     "output_type": "execute_result"
    }
   ],
   "source": [
    "a = t[['ip.src', 'ip.dst', 'tcp.srcport', 'tcp.dstport']]\n",
    "len(a.drop_duplicates())"
   ]
  },
  {
   "cell_type": "code",
   "execution_count": 52,
   "metadata": {
    "scrolled": true
   },
   "outputs": [],
   "source": [
    "t = brute[brute[\"tcp.dstport\"] == 80]\n",
    "t.to_csv(\"1721601.csv\", index=False)"
   ]
  },
  {
   "cell_type": "code",
   "execution_count": 33,
   "metadata": {
    "scrolled": true
   },
   "outputs": [
    {
     "data": {
      "text/html": [
       "<div>\n",
       "<style scoped>\n",
       "    .dataframe tbody tr th:only-of-type {\n",
       "        vertical-align: middle;\n",
       "    }\n",
       "\n",
       "    .dataframe tbody tr th {\n",
       "        vertical-align: top;\n",
       "    }\n",
       "\n",
       "    .dataframe thead th {\n",
       "        text-align: right;\n",
       "    }\n",
       "</style>\n",
       "<table border=\"1\" class=\"dataframe\">\n",
       "  <thead>\n",
       "    <tr style=\"text-align: right;\">\n",
       "      <th></th>\n",
       "      <th>_ws.col.UTCtime</th>\n",
       "      <th>_ws.col.Protocol</th>\n",
       "      <th>ip.src</th>\n",
       "      <th>ip.dst</th>\n",
       "      <th>tcp.srcport</th>\n",
       "      <th>tcp.dstport</th>\n",
       "      <th>tcp.len</th>\n",
       "      <th>tcp.seq</th>\n",
       "      <th>tcp.ack</th>\n",
       "      <th>udp.srcport</th>\n",
       "      <th>...</th>\n",
       "      <th>http.request.uri</th>\n",
       "      <th>http.user_agent</th>\n",
       "      <th>http.connection</th>\n",
       "      <th>http.host</th>\n",
       "      <th>http.response.code</th>\n",
       "      <th>http.server</th>\n",
       "      <th>http.content_type</th>\n",
       "      <th>http.content_length</th>\n",
       "      <th>http.cache_control</th>\n",
       "      <th>seconds</th>\n",
       "    </tr>\n",
       "  </thead>\n",
       "  <tbody>\n",
       "    <tr>\n",
       "      <th>2826009</th>\n",
       "      <td>14:47:47.186107</td>\n",
       "      <td>TCP</td>\n",
       "      <td>172.16.0.1</td>\n",
       "      <td>192.168.10.50</td>\n",
       "      <td>40490.0</td>\n",
       "      <td>80.0</td>\n",
       "      <td>0.0</td>\n",
       "      <td>0.0</td>\n",
       "      <td>0.0</td>\n",
       "      <td>NaN</td>\n",
       "      <td>...</td>\n",
       "      <td>NaN</td>\n",
       "      <td>NaN</td>\n",
       "      <td>NaN</td>\n",
       "      <td>NaN</td>\n",
       "      <td>NaN</td>\n",
       "      <td>NaN</td>\n",
       "      <td>NaN</td>\n",
       "      <td>NaN</td>\n",
       "      <td>NaN</td>\n",
       "      <td>53270.0</td>\n",
       "    </tr>\n",
       "    <tr>\n",
       "      <th>2826010</th>\n",
       "      <td>14:47:47.187058</td>\n",
       "      <td>TCP</td>\n",
       "      <td>172.16.0.1</td>\n",
       "      <td>192.168.10.50</td>\n",
       "      <td>40490.0</td>\n",
       "      <td>80.0</td>\n",
       "      <td>0.0</td>\n",
       "      <td>1.0</td>\n",
       "      <td>1.0</td>\n",
       "      <td>NaN</td>\n",
       "      <td>...</td>\n",
       "      <td>NaN</td>\n",
       "      <td>NaN</td>\n",
       "      <td>NaN</td>\n",
       "      <td>NaN</td>\n",
       "      <td>NaN</td>\n",
       "      <td>NaN</td>\n",
       "      <td>NaN</td>\n",
       "      <td>NaN</td>\n",
       "      <td>NaN</td>\n",
       "      <td>53270.0</td>\n",
       "    </tr>\n",
       "    <tr>\n",
       "      <th>2826011</th>\n",
       "      <td>14:47:47.187077</td>\n",
       "      <td>HTTP</td>\n",
       "      <td>172.16.0.1</td>\n",
       "      <td>192.168.10.50</td>\n",
       "      <td>40490.0</td>\n",
       "      <td>80.0</td>\n",
       "      <td>347.0</td>\n",
       "      <td>1.0</td>\n",
       "      <td>1.0</td>\n",
       "      <td>NaN</td>\n",
       "      <td>...</td>\n",
       "      <td>/dv/</td>\n",
       "      <td>Mozilla/5.0 (X11; Linux x86_64; rv:45.0) Gecko...</td>\n",
       "      <td>keep-alive</td>\n",
       "      <td>205.174.165.68</td>\n",
       "      <td>NaN</td>\n",
       "      <td>NaN</td>\n",
       "      <td>NaN</td>\n",
       "      <td>NaN</td>\n",
       "      <td>NaN</td>\n",
       "      <td>53270.0</td>\n",
       "    </tr>\n",
       "    <tr>\n",
       "      <th>2826016</th>\n",
       "      <td>14:47:47.323296</td>\n",
       "      <td>TCP</td>\n",
       "      <td>172.16.0.1</td>\n",
       "      <td>192.168.10.50</td>\n",
       "      <td>40490.0</td>\n",
       "      <td>80.0</td>\n",
       "      <td>0.0</td>\n",
       "      <td>348.0</td>\n",
       "      <td>365.0</td>\n",
       "      <td>NaN</td>\n",
       "      <td>...</td>\n",
       "      <td>NaN</td>\n",
       "      <td>NaN</td>\n",
       "      <td>NaN</td>\n",
       "      <td>NaN</td>\n",
       "      <td>NaN</td>\n",
       "      <td>NaN</td>\n",
       "      <td>NaN</td>\n",
       "      <td>NaN</td>\n",
       "      <td>NaN</td>\n",
       "      <td>53270.0</td>\n",
       "    </tr>\n",
       "    <tr>\n",
       "      <th>2826017</th>\n",
       "      <td>14:47:47.324306</td>\n",
       "      <td>HTTP</td>\n",
       "      <td>172.16.0.1</td>\n",
       "      <td>192.168.10.50</td>\n",
       "      <td>40490.0</td>\n",
       "      <td>80.0</td>\n",
       "      <td>356.0</td>\n",
       "      <td>348.0</td>\n",
       "      <td>365.0</td>\n",
       "      <td>NaN</td>\n",
       "      <td>...</td>\n",
       "      <td>/dv/login.php</td>\n",
       "      <td>Mozilla/5.0 (X11; Linux x86_64; rv:45.0) Gecko...</td>\n",
       "      <td>keep-alive</td>\n",
       "      <td>205.174.165.68</td>\n",
       "      <td>NaN</td>\n",
       "      <td>NaN</td>\n",
       "      <td>NaN</td>\n",
       "      <td>NaN</td>\n",
       "      <td>NaN</td>\n",
       "      <td>53270.0</td>\n",
       "    </tr>\n",
       "    <tr>\n",
       "      <th>...</th>\n",
       "      <td>...</td>\n",
       "      <td>...</td>\n",
       "      <td>...</td>\n",
       "      <td>...</td>\n",
       "      <td>...</td>\n",
       "      <td>...</td>\n",
       "      <td>...</td>\n",
       "      <td>...</td>\n",
       "      <td>...</td>\n",
       "      <td>...</td>\n",
       "      <td>...</td>\n",
       "      <td>...</td>\n",
       "      <td>...</td>\n",
       "      <td>...</td>\n",
       "      <td>...</td>\n",
       "      <td>...</td>\n",
       "      <td>...</td>\n",
       "      <td>...</td>\n",
       "      <td>...</td>\n",
       "      <td>...</td>\n",
       "      <td>...</td>\n",
       "    </tr>\n",
       "    <tr>\n",
       "      <th>2961115</th>\n",
       "      <td>16:06:00.744609</td>\n",
       "      <td>HTTP</td>\n",
       "      <td>172.16.0.1</td>\n",
       "      <td>192.168.10.50</td>\n",
       "      <td>40628.0</td>\n",
       "      <td>80.0</td>\n",
       "      <td>347.0</td>\n",
       "      <td>1.0</td>\n",
       "      <td>1.0</td>\n",
       "      <td>NaN</td>\n",
       "      <td>...</td>\n",
       "      <td>/dv/</td>\n",
       "      <td>Mozilla/5.0 (X11; Linux x86_64; rv:45.0) Gecko...</td>\n",
       "      <td>keep-alive</td>\n",
       "      <td>205.174.165.68</td>\n",
       "      <td>NaN</td>\n",
       "      <td>NaN</td>\n",
       "      <td>NaN</td>\n",
       "      <td>NaN</td>\n",
       "      <td>NaN</td>\n",
       "      <td>57960.0</td>\n",
       "    </tr>\n",
       "    <tr>\n",
       "      <th>2961116</th>\n",
       "      <td>16:06:00.746436</td>\n",
       "      <td>TCP</td>\n",
       "      <td>172.16.0.1</td>\n",
       "      <td>192.168.10.50</td>\n",
       "      <td>40628.0</td>\n",
       "      <td>80.0</td>\n",
       "      <td>0.0</td>\n",
       "      <td>348.0</td>\n",
       "      <td>365.0</td>\n",
       "      <td>NaN</td>\n",
       "      <td>...</td>\n",
       "      <td>NaN</td>\n",
       "      <td>NaN</td>\n",
       "      <td>NaN</td>\n",
       "      <td>NaN</td>\n",
       "      <td>NaN</td>\n",
       "      <td>NaN</td>\n",
       "      <td>NaN</td>\n",
       "      <td>NaN</td>\n",
       "      <td>NaN</td>\n",
       "      <td>57960.0</td>\n",
       "    </tr>\n",
       "    <tr>\n",
       "      <th>2961117</th>\n",
       "      <td>16:06:00.758965</td>\n",
       "      <td>HTTP</td>\n",
       "      <td>172.16.0.1</td>\n",
       "      <td>192.168.10.50</td>\n",
       "      <td>40628.0</td>\n",
       "      <td>80.0</td>\n",
       "      <td>356.0</td>\n",
       "      <td>348.0</td>\n",
       "      <td>365.0</td>\n",
       "      <td>NaN</td>\n",
       "      <td>...</td>\n",
       "      <td>/dv/login.php</td>\n",
       "      <td>Mozilla/5.0 (X11; Linux x86_64; rv:45.0) Gecko...</td>\n",
       "      <td>keep-alive</td>\n",
       "      <td>205.174.165.68</td>\n",
       "      <td>NaN</td>\n",
       "      <td>NaN</td>\n",
       "      <td>NaN</td>\n",
       "      <td>NaN</td>\n",
       "      <td>NaN</td>\n",
       "      <td>57960.0</td>\n",
       "    </tr>\n",
       "    <tr>\n",
       "      <th>2961118</th>\n",
       "      <td>16:06:00.801497</td>\n",
       "      <td>TCP</td>\n",
       "      <td>172.16.0.1</td>\n",
       "      <td>192.168.10.50</td>\n",
       "      <td>40628.0</td>\n",
       "      <td>80.0</td>\n",
       "      <td>0.0</td>\n",
       "      <td>704.0</td>\n",
       "      <td>1414.0</td>\n",
       "      <td>NaN</td>\n",
       "      <td>...</td>\n",
       "      <td>NaN</td>\n",
       "      <td>NaN</td>\n",
       "      <td>NaN</td>\n",
       "      <td>NaN</td>\n",
       "      <td>NaN</td>\n",
       "      <td>NaN</td>\n",
       "      <td>NaN</td>\n",
       "      <td>NaN</td>\n",
       "      <td>NaN</td>\n",
       "      <td>57960.0</td>\n",
       "    </tr>\n",
       "    <tr>\n",
       "      <th>2961141</th>\n",
       "      <td>16:06:05.762698</td>\n",
       "      <td>TCP</td>\n",
       "      <td>172.16.0.1</td>\n",
       "      <td>192.168.10.50</td>\n",
       "      <td>40628.0</td>\n",
       "      <td>80.0</td>\n",
       "      <td>0.0</td>\n",
       "      <td>704.0</td>\n",
       "      <td>1415.0</td>\n",
       "      <td>NaN</td>\n",
       "      <td>...</td>\n",
       "      <td>NaN</td>\n",
       "      <td>NaN</td>\n",
       "      <td>NaN</td>\n",
       "      <td>NaN</td>\n",
       "      <td>NaN</td>\n",
       "      <td>NaN</td>\n",
       "      <td>NaN</td>\n",
       "      <td>NaN</td>\n",
       "      <td>NaN</td>\n",
       "      <td>57970.0</td>\n",
       "    </tr>\n",
       "  </tbody>\n",
       "</table>\n",
       "<p>77 rows × 23 columns</p>\n",
       "</div>"
      ],
      "text/plain": [
       "         _ws.col.UTCtime _ws.col.Protocol      ip.src         ip.dst  \\\n",
       "2826009  14:47:47.186107              TCP  172.16.0.1  192.168.10.50   \n",
       "2826010  14:47:47.187058              TCP  172.16.0.1  192.168.10.50   \n",
       "2826011  14:47:47.187077             HTTP  172.16.0.1  192.168.10.50   \n",
       "2826016  14:47:47.323296              TCP  172.16.0.1  192.168.10.50   \n",
       "2826017  14:47:47.324306             HTTP  172.16.0.1  192.168.10.50   \n",
       "...                  ...              ...         ...            ...   \n",
       "2961115  16:06:00.744609             HTTP  172.16.0.1  192.168.10.50   \n",
       "2961116  16:06:00.746436              TCP  172.16.0.1  192.168.10.50   \n",
       "2961117  16:06:00.758965             HTTP  172.16.0.1  192.168.10.50   \n",
       "2961118  16:06:00.801497              TCP  172.16.0.1  192.168.10.50   \n",
       "2961141  16:06:05.762698              TCP  172.16.0.1  192.168.10.50   \n",
       "\n",
       "         tcp.srcport  tcp.dstport  tcp.len  tcp.seq  tcp.ack  udp.srcport  \\\n",
       "2826009      40490.0         80.0      0.0      0.0      0.0          NaN   \n",
       "2826010      40490.0         80.0      0.0      1.0      1.0          NaN   \n",
       "2826011      40490.0         80.0    347.0      1.0      1.0          NaN   \n",
       "2826016      40490.0         80.0      0.0    348.0    365.0          NaN   \n",
       "2826017      40490.0         80.0    356.0    348.0    365.0          NaN   \n",
       "...              ...          ...      ...      ...      ...          ...   \n",
       "2961115      40628.0         80.0    347.0      1.0      1.0          NaN   \n",
       "2961116      40628.0         80.0      0.0    348.0    365.0          NaN   \n",
       "2961117      40628.0         80.0    356.0    348.0    365.0          NaN   \n",
       "2961118      40628.0         80.0      0.0    704.0   1414.0          NaN   \n",
       "2961141      40628.0         80.0      0.0    704.0   1415.0          NaN   \n",
       "\n",
       "         ...  http.request.uri  \\\n",
       "2826009  ...               NaN   \n",
       "2826010  ...               NaN   \n",
       "2826011  ...              /dv/   \n",
       "2826016  ...               NaN   \n",
       "2826017  ...     /dv/login.php   \n",
       "...      ...               ...   \n",
       "2961115  ...              /dv/   \n",
       "2961116  ...               NaN   \n",
       "2961117  ...     /dv/login.php   \n",
       "2961118  ...               NaN   \n",
       "2961141  ...               NaN   \n",
       "\n",
       "                                           http.user_agent http.connection  \\\n",
       "2826009                                                NaN             NaN   \n",
       "2826010                                                NaN             NaN   \n",
       "2826011  Mozilla/5.0 (X11; Linux x86_64; rv:45.0) Gecko...      keep-alive   \n",
       "2826016                                                NaN             NaN   \n",
       "2826017  Mozilla/5.0 (X11; Linux x86_64; rv:45.0) Gecko...      keep-alive   \n",
       "...                                                    ...             ...   \n",
       "2961115  Mozilla/5.0 (X11; Linux x86_64; rv:45.0) Gecko...      keep-alive   \n",
       "2961116                                                NaN             NaN   \n",
       "2961117  Mozilla/5.0 (X11; Linux x86_64; rv:45.0) Gecko...      keep-alive   \n",
       "2961118                                                NaN             NaN   \n",
       "2961141                                                NaN             NaN   \n",
       "\n",
       "              http.host http.response.code http.server http.content_type  \\\n",
       "2826009             NaN                NaN         NaN               NaN   \n",
       "2826010             NaN                NaN         NaN               NaN   \n",
       "2826011  205.174.165.68                NaN         NaN               NaN   \n",
       "2826016             NaN                NaN         NaN               NaN   \n",
       "2826017  205.174.165.68                NaN         NaN               NaN   \n",
       "...                 ...                ...         ...               ...   \n",
       "2961115  205.174.165.68                NaN         NaN               NaN   \n",
       "2961116             NaN                NaN         NaN               NaN   \n",
       "2961117  205.174.165.68                NaN         NaN               NaN   \n",
       "2961118             NaN                NaN         NaN               NaN   \n",
       "2961141             NaN                NaN         NaN               NaN   \n",
       "\n",
       "         http.content_length http.cache_control  seconds  \n",
       "2826009                  NaN                NaN  53270.0  \n",
       "2826010                  NaN                NaN  53270.0  \n",
       "2826011                  NaN                NaN  53270.0  \n",
       "2826016                  NaN                NaN  53270.0  \n",
       "2826017                  NaN                NaN  53270.0  \n",
       "...                      ...                ...      ...  \n",
       "2961115                  NaN                NaN  57960.0  \n",
       "2961116                  NaN                NaN  57960.0  \n",
       "2961117                  NaN                NaN  57960.0  \n",
       "2961118                  NaN                NaN  57960.0  \n",
       "2961141                  NaN                NaN  57970.0  \n",
       "\n",
       "[77 rows x 23 columns]"
      ]
     },
     "execution_count": 33,
     "metadata": {},
     "output_type": "execute_result"
    }
   ],
   "source": [
    "brute"
   ]
  },
  {
   "cell_type": "code",
   "execution_count": 34,
   "metadata": {},
   "outputs": [
    {
     "data": {
      "text/plain": [
       "Index(['_ws.col.UTCtime', '_ws.col.Protocol', 'ip.src', 'ip.dst',\n",
       "       'tcp.srcport', 'tcp.dstport', 'tcp.len', 'tcp.seq', 'tcp.ack',\n",
       "       'udp.srcport', 'udp.dstport', 'udp.length', 'http.request.method',\n",
       "       'http.request.uri', 'http.user_agent', 'http.connection', 'http.host',\n",
       "       'http.response.code', 'http.server', 'http.content_type',\n",
       "       'http.content_length', 'http.cache_control', 'seconds'],\n",
       "      dtype='object')"
      ]
     },
     "execution_count": 34,
     "metadata": {},
     "output_type": "execute_result"
    }
   ],
   "source": [
    "brute.columns"
   ]
  },
  {
   "cell_type": "code",
   "execution_count": 37,
   "metadata": {},
   "outputs": [],
   "source": [
    "a = brute[['ip.src', 'ip.dst','tcp.srcport', 'tcp.dstport']]"
   ]
  },
  {
   "cell_type": "code",
   "execution_count": 38,
   "metadata": {},
   "outputs": [
    {
     "data": {
      "text/html": [
       "<div>\n",
       "<style scoped>\n",
       "    .dataframe tbody tr th:only-of-type {\n",
       "        vertical-align: middle;\n",
       "    }\n",
       "\n",
       "    .dataframe tbody tr th {\n",
       "        vertical-align: top;\n",
       "    }\n",
       "\n",
       "    .dataframe thead th {\n",
       "        text-align: right;\n",
       "    }\n",
       "</style>\n",
       "<table border=\"1\" class=\"dataframe\">\n",
       "  <thead>\n",
       "    <tr style=\"text-align: right;\">\n",
       "      <th></th>\n",
       "      <th>ip.src</th>\n",
       "      <th>ip.dst</th>\n",
       "      <th>tcp.srcport</th>\n",
       "      <th>tcp.dstport</th>\n",
       "    </tr>\n",
       "  </thead>\n",
       "  <tbody>\n",
       "    <tr>\n",
       "      <th>2826009</th>\n",
       "      <td>172.16.0.1</td>\n",
       "      <td>192.168.10.50</td>\n",
       "      <td>40490.0</td>\n",
       "      <td>80.0</td>\n",
       "    </tr>\n",
       "    <tr>\n",
       "      <th>2826010</th>\n",
       "      <td>172.16.0.1</td>\n",
       "      <td>192.168.10.50</td>\n",
       "      <td>40490.0</td>\n",
       "      <td>80.0</td>\n",
       "    </tr>\n",
       "    <tr>\n",
       "      <th>2826011</th>\n",
       "      <td>172.16.0.1</td>\n",
       "      <td>192.168.10.50</td>\n",
       "      <td>40490.0</td>\n",
       "      <td>80.0</td>\n",
       "    </tr>\n",
       "    <tr>\n",
       "      <th>2826016</th>\n",
       "      <td>172.16.0.1</td>\n",
       "      <td>192.168.10.50</td>\n",
       "      <td>40490.0</td>\n",
       "      <td>80.0</td>\n",
       "    </tr>\n",
       "    <tr>\n",
       "      <th>2826017</th>\n",
       "      <td>172.16.0.1</td>\n",
       "      <td>192.168.10.50</td>\n",
       "      <td>40490.0</td>\n",
       "      <td>80.0</td>\n",
       "    </tr>\n",
       "    <tr>\n",
       "      <th>...</th>\n",
       "      <td>...</td>\n",
       "      <td>...</td>\n",
       "      <td>...</td>\n",
       "      <td>...</td>\n",
       "    </tr>\n",
       "    <tr>\n",
       "      <th>2961115</th>\n",
       "      <td>172.16.0.1</td>\n",
       "      <td>192.168.10.50</td>\n",
       "      <td>40628.0</td>\n",
       "      <td>80.0</td>\n",
       "    </tr>\n",
       "    <tr>\n",
       "      <th>2961116</th>\n",
       "      <td>172.16.0.1</td>\n",
       "      <td>192.168.10.50</td>\n",
       "      <td>40628.0</td>\n",
       "      <td>80.0</td>\n",
       "    </tr>\n",
       "    <tr>\n",
       "      <th>2961117</th>\n",
       "      <td>172.16.0.1</td>\n",
       "      <td>192.168.10.50</td>\n",
       "      <td>40628.0</td>\n",
       "      <td>80.0</td>\n",
       "    </tr>\n",
       "    <tr>\n",
       "      <th>2961118</th>\n",
       "      <td>172.16.0.1</td>\n",
       "      <td>192.168.10.50</td>\n",
       "      <td>40628.0</td>\n",
       "      <td>80.0</td>\n",
       "    </tr>\n",
       "    <tr>\n",
       "      <th>2961141</th>\n",
       "      <td>172.16.0.1</td>\n",
       "      <td>192.168.10.50</td>\n",
       "      <td>40628.0</td>\n",
       "      <td>80.0</td>\n",
       "    </tr>\n",
       "  </tbody>\n",
       "</table>\n",
       "<p>77 rows × 4 columns</p>\n",
       "</div>"
      ],
      "text/plain": [
       "             ip.src         ip.dst  tcp.srcport  tcp.dstport\n",
       "2826009  172.16.0.1  192.168.10.50      40490.0         80.0\n",
       "2826010  172.16.0.1  192.168.10.50      40490.0         80.0\n",
       "2826011  172.16.0.1  192.168.10.50      40490.0         80.0\n",
       "2826016  172.16.0.1  192.168.10.50      40490.0         80.0\n",
       "2826017  172.16.0.1  192.168.10.50      40490.0         80.0\n",
       "...             ...            ...          ...          ...\n",
       "2961115  172.16.0.1  192.168.10.50      40628.0         80.0\n",
       "2961116  172.16.0.1  192.168.10.50      40628.0         80.0\n",
       "2961117  172.16.0.1  192.168.10.50      40628.0         80.0\n",
       "2961118  172.16.0.1  192.168.10.50      40628.0         80.0\n",
       "2961141  172.16.0.1  192.168.10.50      40628.0         80.0\n",
       "\n",
       "[77 rows x 4 columns]"
      ]
     },
     "execution_count": 38,
     "metadata": {},
     "output_type": "execute_result"
    }
   ],
   "source": [
    "a"
   ]
  },
  {
   "cell_type": "code",
   "execution_count": 39,
   "metadata": {},
   "outputs": [
    {
     "data": {
      "text/plain": [
       "40504.0    13\n",
       "40500.0    11\n",
       "40490.0     9\n",
       "40620.0     7\n",
       "40622.0     7\n",
       "40556.0     7\n",
       "40628.0     7\n",
       "40494.0     4\n",
       "40502.0     4\n",
       "40492.0     4\n",
       "40626.0     4\n",
       "Name: tcp.srcport, dtype: int64"
      ]
     },
     "execution_count": 39,
     "metadata": {},
     "output_type": "execute_result"
    }
   ],
   "source": [
    "a[\"tcp.srcport\"].value_counts()"
   ]
  },
  {
   "cell_type": "code",
   "execution_count": null,
   "metadata": {},
   "outputs": [],
   "source": []
  },
  {
   "cell_type": "code",
   "execution_count": null,
   "metadata": {},
   "outputs": [],
   "source": [
    "data = pd.read_csv(r\"D:\\본선데이터셋\\test2_1st_one_way.csv\",sep=',',warn_bad_lines=False, error_bad_lines=False)"
   ]
  },
  {
   "cell_type": "code",
   "execution_count": 6,
   "metadata": {},
   "outputs": [
    {
     "name": "stdout",
     "output_type": "stream",
     "text": [
      "527 527\n"
     ]
    }
   ],
   "source": [
    "# function_61 ==> 1초 동안 통신한 패킷 개수의 평균\n",
    "def function_61(data):\n",
    "    data[\"seconds\"] = round(pd.to_timedelta(data[\"_ws.col.UTCtime\"]).dt.total_seconds())\n",
    "    time_set = sorted(list(set(data[\"seconds\"])))\n",
    "    result = []\n",
    "    for i in range(len(time_set)):\n",
    "        result.append(len(data[data[\"seconds\"] == time_set[i]]))\n",
    "    print(len(result), len(time_set))\n",
    "#     if len(result) == 0:\n",
    "#         return 0\n",
    "#     else:\n",
    "#         return sum(result)/ len(result)\n",
    "function_61(data)"
   ]
  },
  {
   "cell_type": "code",
   "execution_count": null,
   "metadata": {},
   "outputs": [],
   "source": [
    "import matplotlib.pyplot as plt"
   ]
  },
  {
   "cell_type": "code",
   "execution_count": 54,
   "metadata": {},
   "outputs": [
    {
     "name": "stdout",
     "output_type": "stream",
     "text": [
      "162 162\n"
     ]
    },
    {
     "data": {
      "image/png": "[encoded data removed]",
      "text/plain": [
       "<Figure size 432x288 with 1 Axes>"
      ]
     },
     "metadata": {
      "needs_background": "light"
     },
     "output_type": "display_data"
    }
   ],
   "source": [
    "import os\n",
    "import time\n",
    "import math\n",
    "import pickle\n",
    "import pandas as pd\n",
    "import numpy as np\n",
    "from collections import Counter\n",
    "import matplotlib.pyplot as plt\n",
    "# my_homework ==> 1초 동안 통신한 패킷 개수. 그림그리기.\n",
    "def my_homework(data):\n",
    "    data[\"seconds\"] = round(pd.to_timedelta(data[\"_ws.col.UTCtime\"]).dt.total_seconds(), -2)\n",
    "    time_set = sorted(list(set(data[\"seconds\"])))\n",
    "    result = []\n",
    "    for i in range(len(time_set)):\n",
    "        result.append(len(data[data[\"seconds\"] == time_set[i]]))\n",
    "    print(len(result), len(time_set))\n",
    "    x = time_set\n",
    "    y = result\n",
    "    plt.plot(x,y)\n",
    "    plt.xlabel('time')\n",
    "    plt.ylabel('count')\n",
    "    plt.title('영길이')\n",
    "    plt.show()\n",
    "my_homework(data)"
   ]
  },
  {
   "cell_type": "code",
   "execution_count": 9,
   "metadata": {},
   "outputs": [
    {
     "data": {
      "text/html": [
       "<div>\n",
       "<style scoped>\n",
       "    .dataframe tbody tr th:only-of-type {\n",
       "        vertical-align: middle;\n",
       "    }\n",
       "\n",
       "    .dataframe tbody tr th {\n",
       "        vertical-align: top;\n",
       "    }\n",
       "\n",
       "    .dataframe thead th {\n",
       "        text-align: right;\n",
       "    }\n",
       "</style>\n",
       "<table border=\"1\" class=\"dataframe\">\n",
       "  <thead>\n",
       "    <tr style=\"text-align: right;\">\n",
       "      <th></th>\n",
       "      <th>_ws.col.UTCtime</th>\n",
       "      <th>_ws.col.Protocol</th>\n",
       "      <th>ip.src</th>\n",
       "      <th>ip.dst</th>\n",
       "      <th>tcp.srcport</th>\n",
       "      <th>tcp.dstport</th>\n",
       "      <th>tcp.len</th>\n",
       "      <th>tcp.seq</th>\n",
       "      <th>tcp.ack</th>\n",
       "      <th>udp.srcport</th>\n",
       "      <th>...</th>\n",
       "      <th>http.request.uri</th>\n",
       "      <th>http.user_agent</th>\n",
       "      <th>http.connection</th>\n",
       "      <th>http.host</th>\n",
       "      <th>http.response.code</th>\n",
       "      <th>http.server</th>\n",
       "      <th>http.content_type</th>\n",
       "      <th>http.content_length</th>\n",
       "      <th>http.cache_control</th>\n",
       "      <th>seconds</th>\n",
       "    </tr>\n",
       "  </thead>\n",
       "  <tbody>\n",
       "    <tr>\n",
       "      <th>0</th>\n",
       "      <td>07:48:34.499147</td>\n",
       "      <td>TCP</td>\n",
       "      <td>222.104.14.117</td>\n",
       "      <td>10.89.32.47</td>\n",
       "      <td>53258.0</td>\n",
       "      <td>443.0</td>\n",
       "      <td>0.0</td>\n",
       "      <td>1.0</td>\n",
       "      <td>1.0</td>\n",
       "      <td>NaN</td>\n",
       "      <td>...</td>\n",
       "      <td>NaN</td>\n",
       "      <td>NaN</td>\n",
       "      <td>NaN</td>\n",
       "      <td>NaN</td>\n",
       "      <td>NaN</td>\n",
       "      <td>NaN</td>\n",
       "      <td>NaN</td>\n",
       "      <td>NaN</td>\n",
       "      <td>NaN</td>\n",
       "      <td>28110.0</td>\n",
       "    </tr>\n",
       "    <tr>\n",
       "      <th>1</th>\n",
       "      <td>07:48:34.499948</td>\n",
       "      <td>TCP</td>\n",
       "      <td>211.179.209.170</td>\n",
       "      <td>10.89.32.66</td>\n",
       "      <td>42707.0</td>\n",
       "      <td>443.0</td>\n",
       "      <td>0.0</td>\n",
       "      <td>0.0</td>\n",
       "      <td>0.0</td>\n",
       "      <td>NaN</td>\n",
       "      <td>...</td>\n",
       "      <td>NaN</td>\n",
       "      <td>NaN</td>\n",
       "      <td>NaN</td>\n",
       "      <td>NaN</td>\n",
       "      <td>NaN</td>\n",
       "      <td>NaN</td>\n",
       "      <td>NaN</td>\n",
       "      <td>NaN</td>\n",
       "      <td>NaN</td>\n",
       "      <td>28110.0</td>\n",
       "    </tr>\n",
       "    <tr>\n",
       "      <th>2</th>\n",
       "      <td>07:48:34.500350</td>\n",
       "      <td>TCP</td>\n",
       "      <td>222.104.14.117</td>\n",
       "      <td>10.89.32.47</td>\n",
       "      <td>53254.0</td>\n",
       "      <td>443.0</td>\n",
       "      <td>0.0</td>\n",
       "      <td>1.0</td>\n",
       "      <td>1.0</td>\n",
       "      <td>NaN</td>\n",
       "      <td>...</td>\n",
       "      <td>NaN</td>\n",
       "      <td>NaN</td>\n",
       "      <td>NaN</td>\n",
       "      <td>NaN</td>\n",
       "      <td>NaN</td>\n",
       "      <td>NaN</td>\n",
       "      <td>NaN</td>\n",
       "      <td>NaN</td>\n",
       "      <td>NaN</td>\n",
       "      <td>28110.0</td>\n",
       "    </tr>\n",
       "    <tr>\n",
       "      <th>3</th>\n",
       "      <td>07:48:34.502320</td>\n",
       "      <td>TCP</td>\n",
       "      <td>222.104.14.117</td>\n",
       "      <td>10.89.32.47</td>\n",
       "      <td>53256.0</td>\n",
       "      <td>443.0</td>\n",
       "      <td>0.0</td>\n",
       "      <td>1.0</td>\n",
       "      <td>182.0</td>\n",
       "      <td>NaN</td>\n",
       "      <td>...</td>\n",
       "      <td>NaN</td>\n",
       "      <td>NaN</td>\n",
       "      <td>NaN</td>\n",
       "      <td>NaN</td>\n",
       "      <td>NaN</td>\n",
       "      <td>NaN</td>\n",
       "      <td>NaN</td>\n",
       "      <td>NaN</td>\n",
       "      <td>NaN</td>\n",
       "      <td>28110.0</td>\n",
       "    </tr>\n",
       "    <tr>\n",
       "      <th>4</th>\n",
       "      <td>07:48:34.505378</td>\n",
       "      <td>TCP</td>\n",
       "      <td>222.104.14.117</td>\n",
       "      <td>10.89.32.47</td>\n",
       "      <td>53255.0</td>\n",
       "      <td>443.0</td>\n",
       "      <td>0.0</td>\n",
       "      <td>1.0</td>\n",
       "      <td>1.0</td>\n",
       "      <td>NaN</td>\n",
       "      <td>...</td>\n",
       "      <td>NaN</td>\n",
       "      <td>NaN</td>\n",
       "      <td>NaN</td>\n",
       "      <td>NaN</td>\n",
       "      <td>NaN</td>\n",
       "      <td>NaN</td>\n",
       "      <td>NaN</td>\n",
       "      <td>NaN</td>\n",
       "      <td>NaN</td>\n",
       "      <td>28110.0</td>\n",
       "    </tr>\n",
       "  </tbody>\n",
       "</table>\n",
       "<p>5 rows × 23 columns</p>\n",
       "</div>"
      ],
      "text/plain": [
       "   _ws.col.UTCtime _ws.col.Protocol           ip.src       ip.dst  \\\n",
       "0  07:48:34.499147              TCP   222.104.14.117  10.89.32.47   \n",
       "1  07:48:34.499948              TCP  211.179.209.170  10.89.32.66   \n",
       "2  07:48:34.500350              TCP   222.104.14.117  10.89.32.47   \n",
       "3  07:48:34.502320              TCP   222.104.14.117  10.89.32.47   \n",
       "4  07:48:34.505378              TCP   222.104.14.117  10.89.32.47   \n",
       "\n",
       "   tcp.srcport  tcp.dstport  tcp.len  tcp.seq  tcp.ack  udp.srcport  ...  \\\n",
       "0      53258.0        443.0      0.0      1.0      1.0          NaN  ...   \n",
       "1      42707.0        443.0      0.0      0.0      0.0          NaN  ...   \n",
       "2      53254.0        443.0      0.0      1.0      1.0          NaN  ...   \n",
       "3      53256.0        443.0      0.0      1.0    182.0          NaN  ...   \n",
       "4      53255.0        443.0      0.0      1.0      1.0          NaN  ...   \n",
       "\n",
       "   http.request.uri  http.user_agent http.connection http.host  \\\n",
       "0               NaN              NaN             NaN       NaN   \n",
       "1               NaN              NaN             NaN       NaN   \n",
       "2               NaN              NaN             NaN       NaN   \n",
       "3               NaN              NaN             NaN       NaN   \n",
       "4               NaN              NaN             NaN       NaN   \n",
       "\n",
       "  http.response.code http.server http.content_type  http.content_length  \\\n",
       "0                NaN         NaN               NaN                  NaN   \n",
       "1                NaN         NaN               NaN                  NaN   \n",
       "2                NaN         NaN               NaN                  NaN   \n",
       "3                NaN         NaN               NaN                  NaN   \n",
       "4                NaN         NaN               NaN                  NaN   \n",
       "\n",
       "   http.cache_control  seconds  \n",
       "0                 NaN  28110.0  \n",
       "1                 NaN  28110.0  \n",
       "2                 NaN  28110.0  \n",
       "3                 NaN  28110.0  \n",
       "4                 NaN  28110.0  \n",
       "\n",
       "[5 rows x 23 columns]"
      ]
     },
     "execution_count": 9,
     "metadata": {},
     "output_type": "execute_result"
    }
   ],
   "source": [
    "data.head()"
   ]
  },
  {
   "cell_type": "code",
   "execution_count": null,
   "metadata": {},
   "outputs": [],
   "source": [
    "data[\"seconds\"] = round(pd.to_timedelta(data[\"_ws.col.UTCtime\"]).dt.total_seconds(), -1)\n"
   ]
  },
  {
   "cell_type": "code",
   "execution_count": 14,
   "metadata": {},
   "outputs": [],
   "source": [
    "dos = data[(data[\"seconds\"] >= 28270) & (data[\"seconds\"] < 28400)]"
   ]
  },
  {
   "cell_type": "code",
   "execution_count": 15,
   "metadata": {},
   "outputs": [
    {
     "data": {
      "text/html": [
       "<div>\n",
       "<style scoped>\n",
       "    .dataframe tbody tr th:only-of-type {\n",
       "        vertical-align: middle;\n",
       "    }\n",
       "\n",
       "    .dataframe tbody tr th {\n",
       "        vertical-align: top;\n",
       "    }\n",
       "\n",
       "    .dataframe thead th {\n",
       "        text-align: right;\n",
       "    }\n",
       "</style>\n",
       "<table border=\"1\" class=\"dataframe\">\n",
       "  <thead>\n",
       "    <tr style=\"text-align: right;\">\n",
       "      <th></th>\n",
       "      <th>_ws.col.UTCtime</th>\n",
       "      <th>_ws.col.Protocol</th>\n",
       "      <th>ip.src</th>\n",
       "      <th>ip.dst</th>\n",
       "      <th>tcp.srcport</th>\n",
       "      <th>tcp.dstport</th>\n",
       "      <th>tcp.len</th>\n",
       "      <th>tcp.seq</th>\n",
       "      <th>tcp.ack</th>\n",
       "      <th>udp.srcport</th>\n",
       "      <th>...</th>\n",
       "      <th>http.request.uri</th>\n",
       "      <th>http.user_agent</th>\n",
       "      <th>http.connection</th>\n",
       "      <th>http.host</th>\n",
       "      <th>http.response.code</th>\n",
       "      <th>http.server</th>\n",
       "      <th>http.content_type</th>\n",
       "      <th>http.content_length</th>\n",
       "      <th>http.cache_control</th>\n",
       "      <th>seconds</th>\n",
       "    </tr>\n",
       "  </thead>\n",
       "  <tbody>\n",
       "    <tr>\n",
       "      <th>37325</th>\n",
       "      <td>07:51:05.006487</td>\n",
       "      <td>TCP</td>\n",
       "      <td>222.121.9.17</td>\n",
       "      <td>10.89.32.47</td>\n",
       "      <td>59066.0</td>\n",
       "      <td>443.0</td>\n",
       "      <td>0.0</td>\n",
       "      <td>38978.0</td>\n",
       "      <td>18962.0</td>\n",
       "      <td>NaN</td>\n",
       "      <td>...</td>\n",
       "      <td>NaN</td>\n",
       "      <td>NaN</td>\n",
       "      <td>NaN</td>\n",
       "      <td>NaN</td>\n",
       "      <td>NaN</td>\n",
       "      <td>NaN</td>\n",
       "      <td>NaN</td>\n",
       "      <td>NaN</td>\n",
       "      <td>NaN</td>\n",
       "      <td>28270.0</td>\n",
       "    </tr>\n",
       "    <tr>\n",
       "      <th>37326</th>\n",
       "      <td>07:51:05.039030</td>\n",
       "      <td>TLSv1.2</td>\n",
       "      <td>222.121.9.17</td>\n",
       "      <td>10.89.32.47</td>\n",
       "      <td>59066.0</td>\n",
       "      <td>443.0</td>\n",
       "      <td>723.0</td>\n",
       "      <td>38978.0</td>\n",
       "      <td>18962.0</td>\n",
       "      <td>NaN</td>\n",
       "      <td>...</td>\n",
       "      <td>NaN</td>\n",
       "      <td>NaN</td>\n",
       "      <td>NaN</td>\n",
       "      <td>NaN</td>\n",
       "      <td>NaN</td>\n",
       "      <td>NaN</td>\n",
       "      <td>NaN</td>\n",
       "      <td>NaN</td>\n",
       "      <td>NaN</td>\n",
       "      <td>28270.0</td>\n",
       "    </tr>\n",
       "    <tr>\n",
       "      <th>37327</th>\n",
       "      <td>07:51:05.044985</td>\n",
       "      <td>TLSv1.2</td>\n",
       "      <td>222.121.9.17</td>\n",
       "      <td>10.89.32.47</td>\n",
       "      <td>59068.0</td>\n",
       "      <td>443.0</td>\n",
       "      <td>725.0</td>\n",
       "      <td>35596.0</td>\n",
       "      <td>104496.0</td>\n",
       "      <td>NaN</td>\n",
       "      <td>...</td>\n",
       "      <td>NaN</td>\n",
       "      <td>NaN</td>\n",
       "      <td>NaN</td>\n",
       "      <td>NaN</td>\n",
       "      <td>NaN</td>\n",
       "      <td>NaN</td>\n",
       "      <td>NaN</td>\n",
       "      <td>NaN</td>\n",
       "      <td>NaN</td>\n",
       "      <td>28270.0</td>\n",
       "    </tr>\n",
       "    <tr>\n",
       "      <th>37328</th>\n",
       "      <td>07:51:05.058295</td>\n",
       "      <td>TCP</td>\n",
       "      <td>222.121.9.17</td>\n",
       "      <td>10.89.32.47</td>\n",
       "      <td>59066.0</td>\n",
       "      <td>443.0</td>\n",
       "      <td>0.0</td>\n",
       "      <td>39701.0</td>\n",
       "      <td>19113.0</td>\n",
       "      <td>NaN</td>\n",
       "      <td>...</td>\n",
       "      <td>NaN</td>\n",
       "      <td>NaN</td>\n",
       "      <td>NaN</td>\n",
       "      <td>NaN</td>\n",
       "      <td>NaN</td>\n",
       "      <td>NaN</td>\n",
       "      <td>NaN</td>\n",
       "      <td>NaN</td>\n",
       "      <td>NaN</td>\n",
       "      <td>28270.0</td>\n",
       "    </tr>\n",
       "    <tr>\n",
       "      <th>37329</th>\n",
       "      <td>07:51:05.058406</td>\n",
       "      <td>TLSv1.2</td>\n",
       "      <td>222.121.9.17</td>\n",
       "      <td>10.89.32.47</td>\n",
       "      <td>59066.0</td>\n",
       "      <td>443.0</td>\n",
       "      <td>733.0</td>\n",
       "      <td>39701.0</td>\n",
       "      <td>19113.0</td>\n",
       "      <td>NaN</td>\n",
       "      <td>...</td>\n",
       "      <td>NaN</td>\n",
       "      <td>NaN</td>\n",
       "      <td>NaN</td>\n",
       "      <td>NaN</td>\n",
       "      <td>NaN</td>\n",
       "      <td>NaN</td>\n",
       "      <td>NaN</td>\n",
       "      <td>NaN</td>\n",
       "      <td>NaN</td>\n",
       "      <td>28270.0</td>\n",
       "    </tr>\n",
       "    <tr>\n",
       "      <th>...</th>\n",
       "      <td>...</td>\n",
       "      <td>...</td>\n",
       "      <td>...</td>\n",
       "      <td>...</td>\n",
       "      <td>...</td>\n",
       "      <td>...</td>\n",
       "      <td>...</td>\n",
       "      <td>...</td>\n",
       "      <td>...</td>\n",
       "      <td>...</td>\n",
       "      <td>...</td>\n",
       "      <td>...</td>\n",
       "      <td>...</td>\n",
       "      <td>...</td>\n",
       "      <td>...</td>\n",
       "      <td>...</td>\n",
       "      <td>...</td>\n",
       "      <td>...</td>\n",
       "      <td>...</td>\n",
       "      <td>...</td>\n",
       "      <td>...</td>\n",
       "    </tr>\n",
       "    <tr>\n",
       "      <th>94657</th>\n",
       "      <td>07:53:14.253352</td>\n",
       "      <td>TCP</td>\n",
       "      <td>185.40.12.176</td>\n",
       "      <td>10.89.32.178</td>\n",
       "      <td>53449.0</td>\n",
       "      <td>3128.0</td>\n",
       "      <td>0.0</td>\n",
       "      <td>0.0</td>\n",
       "      <td>0.0</td>\n",
       "      <td>NaN</td>\n",
       "      <td>...</td>\n",
       "      <td>NaN</td>\n",
       "      <td>NaN</td>\n",
       "      <td>NaN</td>\n",
       "      <td>NaN</td>\n",
       "      <td>NaN</td>\n",
       "      <td>NaN</td>\n",
       "      <td>NaN</td>\n",
       "      <td>NaN</td>\n",
       "      <td>NaN</td>\n",
       "      <td>28390.0</td>\n",
       "    </tr>\n",
       "    <tr>\n",
       "      <th>94658</th>\n",
       "      <td>07:53:14.260014</td>\n",
       "      <td>TCP</td>\n",
       "      <td>185.40.15.47</td>\n",
       "      <td>10.89.32.163</td>\n",
       "      <td>45125.0</td>\n",
       "      <td>4434.0</td>\n",
       "      <td>0.0</td>\n",
       "      <td>0.0</td>\n",
       "      <td>0.0</td>\n",
       "      <td>NaN</td>\n",
       "      <td>...</td>\n",
       "      <td>NaN</td>\n",
       "      <td>NaN</td>\n",
       "      <td>NaN</td>\n",
       "      <td>NaN</td>\n",
       "      <td>NaN</td>\n",
       "      <td>NaN</td>\n",
       "      <td>NaN</td>\n",
       "      <td>NaN</td>\n",
       "      <td>NaN</td>\n",
       "      <td>28390.0</td>\n",
       "    </tr>\n",
       "    <tr>\n",
       "      <th>94659</th>\n",
       "      <td>07:53:14.266106</td>\n",
       "      <td>TCP</td>\n",
       "      <td>185.40.12.29</td>\n",
       "      <td>10.89.32.204</td>\n",
       "      <td>63245.0</td>\n",
       "      <td>4434.0</td>\n",
       "      <td>0.0</td>\n",
       "      <td>0.0</td>\n",
       "      <td>0.0</td>\n",
       "      <td>NaN</td>\n",
       "      <td>...</td>\n",
       "      <td>NaN</td>\n",
       "      <td>NaN</td>\n",
       "      <td>NaN</td>\n",
       "      <td>NaN</td>\n",
       "      <td>NaN</td>\n",
       "      <td>NaN</td>\n",
       "      <td>NaN</td>\n",
       "      <td>NaN</td>\n",
       "      <td>NaN</td>\n",
       "      <td>28390.0</td>\n",
       "    </tr>\n",
       "    <tr>\n",
       "      <th>94660</th>\n",
       "      <td>07:53:14.301929</td>\n",
       "      <td>TCP</td>\n",
       "      <td>45.82.153.34</td>\n",
       "      <td>10.89.32.96</td>\n",
       "      <td>53025.0</td>\n",
       "      <td>9089.0</td>\n",
       "      <td>0.0</td>\n",
       "      <td>0.0</td>\n",
       "      <td>0.0</td>\n",
       "      <td>NaN</td>\n",
       "      <td>...</td>\n",
       "      <td>NaN</td>\n",
       "      <td>NaN</td>\n",
       "      <td>NaN</td>\n",
       "      <td>NaN</td>\n",
       "      <td>NaN</td>\n",
       "      <td>NaN</td>\n",
       "      <td>NaN</td>\n",
       "      <td>NaN</td>\n",
       "      <td>NaN</td>\n",
       "      <td>28390.0</td>\n",
       "    </tr>\n",
       "    <tr>\n",
       "      <th>94661</th>\n",
       "      <td>07:53:14.303225</td>\n",
       "      <td>TCP</td>\n",
       "      <td>14.63.143.187</td>\n",
       "      <td>10.89.32.66</td>\n",
       "      <td>34920.0</td>\n",
       "      <td>443.0</td>\n",
       "      <td>0.0</td>\n",
       "      <td>800.0</td>\n",
       "      <td>10164.0</td>\n",
       "      <td>NaN</td>\n",
       "      <td>...</td>\n",
       "      <td>NaN</td>\n",
       "      <td>NaN</td>\n",
       "      <td>NaN</td>\n",
       "      <td>NaN</td>\n",
       "      <td>NaN</td>\n",
       "      <td>NaN</td>\n",
       "      <td>NaN</td>\n",
       "      <td>NaN</td>\n",
       "      <td>NaN</td>\n",
       "      <td>28390.0</td>\n",
       "    </tr>\n",
       "  </tbody>\n",
       "</table>\n",
       "<p>57337 rows × 23 columns</p>\n",
       "</div>"
      ],
      "text/plain": [
       "       _ws.col.UTCtime _ws.col.Protocol         ip.src        ip.dst  \\\n",
       "37325  07:51:05.006487              TCP   222.121.9.17   10.89.32.47   \n",
       "37326  07:51:05.039030          TLSv1.2   222.121.9.17   10.89.32.47   \n",
       "37327  07:51:05.044985          TLSv1.2   222.121.9.17   10.89.32.47   \n",
       "37328  07:51:05.058295              TCP   222.121.9.17   10.89.32.47   \n",
       "37329  07:51:05.058406          TLSv1.2   222.121.9.17   10.89.32.47   \n",
       "...                ...              ...            ...           ...   \n",
       "94657  07:53:14.253352              TCP  185.40.12.176  10.89.32.178   \n",
       "94658  07:53:14.260014              TCP   185.40.15.47  10.89.32.163   \n",
       "94659  07:53:14.266106              TCP   185.40.12.29  10.89.32.204   \n",
       "94660  07:53:14.301929              TCP   45.82.153.34   10.89.32.96   \n",
       "94661  07:53:14.303225              TCP  14.63.143.187   10.89.32.66   \n",
       "\n",
       "       tcp.srcport  tcp.dstport  tcp.len  tcp.seq   tcp.ack  udp.srcport  ...  \\\n",
       "37325      59066.0        443.0      0.0  38978.0   18962.0          NaN  ...   \n",
       "37326      59066.0        443.0    723.0  38978.0   18962.0          NaN  ...   \n",
       "37327      59068.0        443.0    725.0  35596.0  104496.0          NaN  ...   \n",
       "37328      59066.0        443.0      0.0  39701.0   19113.0          NaN  ...   \n",
       "37329      59066.0        443.0    733.0  39701.0   19113.0          NaN  ...   \n",
       "...            ...          ...      ...      ...       ...          ...  ...   \n",
       "94657      53449.0       3128.0      0.0      0.0       0.0          NaN  ...   \n",
       "94658      45125.0       4434.0      0.0      0.0       0.0          NaN  ...   \n",
       "94659      63245.0       4434.0      0.0      0.0       0.0          NaN  ...   \n",
       "94660      53025.0       9089.0      0.0      0.0       0.0          NaN  ...   \n",
       "94661      34920.0        443.0      0.0    800.0   10164.0          NaN  ...   \n",
       "\n",
       "       http.request.uri  http.user_agent http.connection http.host  \\\n",
       "37325               NaN              NaN             NaN       NaN   \n",
       "37326               NaN              NaN             NaN       NaN   \n",
       "37327               NaN              NaN             NaN       NaN   \n",
       "37328               NaN              NaN             NaN       NaN   \n",
       "37329               NaN              NaN             NaN       NaN   \n",
       "...                 ...              ...             ...       ...   \n",
       "94657               NaN              NaN             NaN       NaN   \n",
       "94658               NaN              NaN             NaN       NaN   \n",
       "94659               NaN              NaN             NaN       NaN   \n",
       "94660               NaN              NaN             NaN       NaN   \n",
       "94661               NaN              NaN             NaN       NaN   \n",
       "\n",
       "      http.response.code http.server http.content_type  http.content_length  \\\n",
       "37325                NaN         NaN               NaN                  NaN   \n",
       "37326                NaN         NaN               NaN                  NaN   \n",
       "37327                NaN         NaN               NaN                  NaN   \n",
       "37328                NaN         NaN               NaN                  NaN   \n",
       "37329                NaN         NaN               NaN                  NaN   \n",
       "...                  ...         ...               ...                  ...   \n",
       "94657                NaN         NaN               NaN                  NaN   \n",
       "94658                NaN         NaN               NaN                  NaN   \n",
       "94659                NaN         NaN               NaN                  NaN   \n",
       "94660                NaN         NaN               NaN                  NaN   \n",
       "94661                NaN         NaN               NaN                  NaN   \n",
       "\n",
       "       http.cache_control  seconds  \n",
       "37325                 NaN  28270.0  \n",
       "37326                 NaN  28270.0  \n",
       "37327                 NaN  28270.0  \n",
       "37328                 NaN  28270.0  \n",
       "37329                 NaN  28270.0  \n",
       "...                   ...      ...  \n",
       "94657                 NaN  28390.0  \n",
       "94658                 NaN  28390.0  \n",
       "94659                 NaN  28390.0  \n",
       "94660                 NaN  28390.0  \n",
       "94661                 NaN  28390.0  \n",
       "\n",
       "[57337 rows x 23 columns]"
      ]
     },
     "execution_count": 15,
     "metadata": {},
     "output_type": "execute_result"
    }
   ],
   "source": [
    "dos"
   ]
  },
  {
   "cell_type": "code",
   "execution_count": 18,
   "metadata": {},
   "outputs": [
    {
     "data": {
      "text/plain": [
       "222.106.53.85      9321\n",
       "14.63.143.187      6837\n",
       "211.48.238.50      3344\n",
       "147.6.1.54         3026\n",
       "211.179.209.170    2902\n",
       "                   ... \n",
       "90.188.252.123        1\n",
       "185.40.14.58          1\n",
       "185.40.14.98          1\n",
       "185.40.12.107         1\n",
       "185.40.12.92          1\n",
       "Name: ip.src, Length: 1223, dtype: int64"
      ]
     },
     "execution_count": 18,
     "metadata": {},
     "output_type": "execute_result"
    }
   ],
   "source": [
    "dos['ip.src'].value_counts()"
   ]
  },
  {
   "cell_type": "code",
   "execution_count": 20,
   "metadata": {},
   "outputs": [],
   "source": [
    "a =dos[dos['ip.src'] == '222.106.53.85']"
   ]
  },
  {
   "cell_type": "code",
   "execution_count": 21,
   "metadata": {},
   "outputs": [
    {
     "data": {
      "text/html": [
       "<div>\n",
       "<style scoped>\n",
       "    .dataframe tbody tr th:only-of-type {\n",
       "        vertical-align: middle;\n",
       "    }\n",
       "\n",
       "    .dataframe tbody tr th {\n",
       "        vertical-align: top;\n",
       "    }\n",
       "\n",
       "    .dataframe thead th {\n",
       "        text-align: right;\n",
       "    }\n",
       "</style>\n",
       "<table border=\"1\" class=\"dataframe\">\n",
       "  <thead>\n",
       "    <tr style=\"text-align: right;\">\n",
       "      <th></th>\n",
       "      <th>_ws.col.UTCtime</th>\n",
       "      <th>_ws.col.Protocol</th>\n",
       "      <th>ip.src</th>\n",
       "      <th>ip.dst</th>\n",
       "      <th>tcp.srcport</th>\n",
       "      <th>tcp.dstport</th>\n",
       "      <th>tcp.len</th>\n",
       "      <th>tcp.seq</th>\n",
       "      <th>tcp.ack</th>\n",
       "      <th>udp.srcport</th>\n",
       "      <th>...</th>\n",
       "      <th>http.request.uri</th>\n",
       "      <th>http.user_agent</th>\n",
       "      <th>http.connection</th>\n",
       "      <th>http.host</th>\n",
       "      <th>http.response.code</th>\n",
       "      <th>http.server</th>\n",
       "      <th>http.content_type</th>\n",
       "      <th>http.content_length</th>\n",
       "      <th>http.cache_control</th>\n",
       "      <th>seconds</th>\n",
       "    </tr>\n",
       "  </thead>\n",
       "  <tbody>\n",
       "    <tr>\n",
       "      <th>43027</th>\n",
       "      <td>07:51:29.943541</td>\n",
       "      <td>TCP</td>\n",
       "      <td>222.106.53.85</td>\n",
       "      <td>10.89.32.47</td>\n",
       "      <td>50640.0</td>\n",
       "      <td>443.0</td>\n",
       "      <td>0.0</td>\n",
       "      <td>0.0</td>\n",
       "      <td>0.0</td>\n",
       "      <td>NaN</td>\n",
       "      <td>...</td>\n",
       "      <td>NaN</td>\n",
       "      <td>NaN</td>\n",
       "      <td>NaN</td>\n",
       "      <td>NaN</td>\n",
       "      <td>NaN</td>\n",
       "      <td>NaN</td>\n",
       "      <td>NaN</td>\n",
       "      <td>NaN</td>\n",
       "      <td>NaN</td>\n",
       "      <td>28290.0</td>\n",
       "    </tr>\n",
       "    <tr>\n",
       "      <th>43029</th>\n",
       "      <td>07:51:29.948233</td>\n",
       "      <td>TCP</td>\n",
       "      <td>222.106.53.85</td>\n",
       "      <td>10.89.32.47</td>\n",
       "      <td>50642.0</td>\n",
       "      <td>443.0</td>\n",
       "      <td>0.0</td>\n",
       "      <td>0.0</td>\n",
       "      <td>0.0</td>\n",
       "      <td>NaN</td>\n",
       "      <td>...</td>\n",
       "      <td>NaN</td>\n",
       "      <td>NaN</td>\n",
       "      <td>NaN</td>\n",
       "      <td>NaN</td>\n",
       "      <td>NaN</td>\n",
       "      <td>NaN</td>\n",
       "      <td>NaN</td>\n",
       "      <td>NaN</td>\n",
       "      <td>NaN</td>\n",
       "      <td>28290.0</td>\n",
       "    </tr>\n",
       "    <tr>\n",
       "      <th>43032</th>\n",
       "      <td>07:51:29.953204</td>\n",
       "      <td>TCP</td>\n",
       "      <td>222.106.53.85</td>\n",
       "      <td>10.89.32.47</td>\n",
       "      <td>50644.0</td>\n",
       "      <td>443.0</td>\n",
       "      <td>0.0</td>\n",
       "      <td>0.0</td>\n",
       "      <td>0.0</td>\n",
       "      <td>NaN</td>\n",
       "      <td>...</td>\n",
       "      <td>NaN</td>\n",
       "      <td>NaN</td>\n",
       "      <td>NaN</td>\n",
       "      <td>NaN</td>\n",
       "      <td>NaN</td>\n",
       "      <td>NaN</td>\n",
       "      <td>NaN</td>\n",
       "      <td>NaN</td>\n",
       "      <td>NaN</td>\n",
       "      <td>28290.0</td>\n",
       "    </tr>\n",
       "    <tr>\n",
       "      <th>43033</th>\n",
       "      <td>07:51:29.956193</td>\n",
       "      <td>TCP</td>\n",
       "      <td>222.106.53.85</td>\n",
       "      <td>10.89.32.47</td>\n",
       "      <td>50640.0</td>\n",
       "      <td>443.0</td>\n",
       "      <td>0.0</td>\n",
       "      <td>1.0</td>\n",
       "      <td>1.0</td>\n",
       "      <td>NaN</td>\n",
       "      <td>...</td>\n",
       "      <td>NaN</td>\n",
       "      <td>NaN</td>\n",
       "      <td>NaN</td>\n",
       "      <td>NaN</td>\n",
       "      <td>NaN</td>\n",
       "      <td>NaN</td>\n",
       "      <td>NaN</td>\n",
       "      <td>NaN</td>\n",
       "      <td>NaN</td>\n",
       "      <td>28290.0</td>\n",
       "    </tr>\n",
       "    <tr>\n",
       "      <th>43035</th>\n",
       "      <td>07:51:29.956645</td>\n",
       "      <td>TLSv1</td>\n",
       "      <td>222.106.53.85</td>\n",
       "      <td>10.89.32.47</td>\n",
       "      <td>50640.0</td>\n",
       "      <td>443.0</td>\n",
       "      <td>207.0</td>\n",
       "      <td>1.0</td>\n",
       "      <td>1.0</td>\n",
       "      <td>NaN</td>\n",
       "      <td>...</td>\n",
       "      <td>NaN</td>\n",
       "      <td>NaN</td>\n",
       "      <td>NaN</td>\n",
       "      <td>NaN</td>\n",
       "      <td>NaN</td>\n",
       "      <td>NaN</td>\n",
       "      <td>NaN</td>\n",
       "      <td>NaN</td>\n",
       "      <td>NaN</td>\n",
       "      <td>28290.0</td>\n",
       "    </tr>\n",
       "    <tr>\n",
       "      <th>...</th>\n",
       "      <td>...</td>\n",
       "      <td>...</td>\n",
       "      <td>...</td>\n",
       "      <td>...</td>\n",
       "      <td>...</td>\n",
       "      <td>...</td>\n",
       "      <td>...</td>\n",
       "      <td>...</td>\n",
       "      <td>...</td>\n",
       "      <td>...</td>\n",
       "      <td>...</td>\n",
       "      <td>...</td>\n",
       "      <td>...</td>\n",
       "      <td>...</td>\n",
       "      <td>...</td>\n",
       "      <td>...</td>\n",
       "      <td>...</td>\n",
       "      <td>...</td>\n",
       "      <td>...</td>\n",
       "      <td>...</td>\n",
       "      <td>...</td>\n",
       "    </tr>\n",
       "    <tr>\n",
       "      <th>92608</th>\n",
       "      <td>07:53:06.299499</td>\n",
       "      <td>TCP</td>\n",
       "      <td>222.106.53.85</td>\n",
       "      <td>10.89.32.47</td>\n",
       "      <td>33744.0</td>\n",
       "      <td>443.0</td>\n",
       "      <td>0.0</td>\n",
       "      <td>17620.0</td>\n",
       "      <td>0.0</td>\n",
       "      <td>NaN</td>\n",
       "      <td>...</td>\n",
       "      <td>NaN</td>\n",
       "      <td>NaN</td>\n",
       "      <td>NaN</td>\n",
       "      <td>NaN</td>\n",
       "      <td>NaN</td>\n",
       "      <td>NaN</td>\n",
       "      <td>NaN</td>\n",
       "      <td>NaN</td>\n",
       "      <td>NaN</td>\n",
       "      <td>28390.0</td>\n",
       "    </tr>\n",
       "    <tr>\n",
       "      <th>92609</th>\n",
       "      <td>07:53:06.299753</td>\n",
       "      <td>TCP</td>\n",
       "      <td>222.106.53.85</td>\n",
       "      <td>10.89.32.47</td>\n",
       "      <td>33756.0</td>\n",
       "      <td>443.0</td>\n",
       "      <td>0.0</td>\n",
       "      <td>5554.0</td>\n",
       "      <td>0.0</td>\n",
       "      <td>NaN</td>\n",
       "      <td>...</td>\n",
       "      <td>NaN</td>\n",
       "      <td>NaN</td>\n",
       "      <td>NaN</td>\n",
       "      <td>NaN</td>\n",
       "      <td>NaN</td>\n",
       "      <td>NaN</td>\n",
       "      <td>NaN</td>\n",
       "      <td>NaN</td>\n",
       "      <td>NaN</td>\n",
       "      <td>28390.0</td>\n",
       "    </tr>\n",
       "    <tr>\n",
       "      <th>92610</th>\n",
       "      <td>07:53:06.299760</td>\n",
       "      <td>TCP</td>\n",
       "      <td>222.106.53.85</td>\n",
       "      <td>10.89.32.47</td>\n",
       "      <td>33756.0</td>\n",
       "      <td>443.0</td>\n",
       "      <td>0.0</td>\n",
       "      <td>5554.0</td>\n",
       "      <td>0.0</td>\n",
       "      <td>NaN</td>\n",
       "      <td>...</td>\n",
       "      <td>NaN</td>\n",
       "      <td>NaN</td>\n",
       "      <td>NaN</td>\n",
       "      <td>NaN</td>\n",
       "      <td>NaN</td>\n",
       "      <td>NaN</td>\n",
       "      <td>NaN</td>\n",
       "      <td>NaN</td>\n",
       "      <td>NaN</td>\n",
       "      <td>28390.0</td>\n",
       "    </tr>\n",
       "    <tr>\n",
       "      <th>92611</th>\n",
       "      <td>07:53:06.300648</td>\n",
       "      <td>TCP</td>\n",
       "      <td>222.106.53.85</td>\n",
       "      <td>10.89.32.47</td>\n",
       "      <td>33758.0</td>\n",
       "      <td>443.0</td>\n",
       "      <td>0.0</td>\n",
       "      <td>16092.0</td>\n",
       "      <td>0.0</td>\n",
       "      <td>NaN</td>\n",
       "      <td>...</td>\n",
       "      <td>NaN</td>\n",
       "      <td>NaN</td>\n",
       "      <td>NaN</td>\n",
       "      <td>NaN</td>\n",
       "      <td>NaN</td>\n",
       "      <td>NaN</td>\n",
       "      <td>NaN</td>\n",
       "      <td>NaN</td>\n",
       "      <td>NaN</td>\n",
       "      <td>28390.0</td>\n",
       "    </tr>\n",
       "    <tr>\n",
       "      <th>92612</th>\n",
       "      <td>07:53:06.300657</td>\n",
       "      <td>TCP</td>\n",
       "      <td>222.106.53.85</td>\n",
       "      <td>10.89.32.47</td>\n",
       "      <td>33758.0</td>\n",
       "      <td>443.0</td>\n",
       "      <td>0.0</td>\n",
       "      <td>16092.0</td>\n",
       "      <td>0.0</td>\n",
       "      <td>NaN</td>\n",
       "      <td>...</td>\n",
       "      <td>NaN</td>\n",
       "      <td>NaN</td>\n",
       "      <td>NaN</td>\n",
       "      <td>NaN</td>\n",
       "      <td>NaN</td>\n",
       "      <td>NaN</td>\n",
       "      <td>NaN</td>\n",
       "      <td>NaN</td>\n",
       "      <td>NaN</td>\n",
       "      <td>28390.0</td>\n",
       "    </tr>\n",
       "  </tbody>\n",
       "</table>\n",
       "<p>9321 rows × 23 columns</p>\n",
       "</div>"
      ],
      "text/plain": [
       "       _ws.col.UTCtime _ws.col.Protocol         ip.src       ip.dst  \\\n",
       "43027  07:51:29.943541              TCP  222.106.53.85  10.89.32.47   \n",
       "43029  07:51:29.948233              TCP  222.106.53.85  10.89.32.47   \n",
       "43032  07:51:29.953204              TCP  222.106.53.85  10.89.32.47   \n",
       "43033  07:51:29.956193              TCP  222.106.53.85  10.89.32.47   \n",
       "43035  07:51:29.956645            TLSv1  222.106.53.85  10.89.32.47   \n",
       "...                ...              ...            ...          ...   \n",
       "92608  07:53:06.299499              TCP  222.106.53.85  10.89.32.47   \n",
       "92609  07:53:06.299753              TCP  222.106.53.85  10.89.32.47   \n",
       "92610  07:53:06.299760              TCP  222.106.53.85  10.89.32.47   \n",
       "92611  07:53:06.300648              TCP  222.106.53.85  10.89.32.47   \n",
       "92612  07:53:06.300657              TCP  222.106.53.85  10.89.32.47   \n",
       "\n",
       "       tcp.srcport  tcp.dstport  tcp.len  tcp.seq  tcp.ack  udp.srcport  ...  \\\n",
       "43027      50640.0        443.0      0.0      0.0      0.0          NaN  ...   \n",
       "43029      50642.0        443.0      0.0      0.0      0.0          NaN  ...   \n",
       "43032      50644.0        443.0      0.0      0.0      0.0          NaN  ...   \n",
       "43033      50640.0        443.0      0.0      1.0      1.0          NaN  ...   \n",
       "43035      50640.0        443.0    207.0      1.0      1.0          NaN  ...   \n",
       "...            ...          ...      ...      ...      ...          ...  ...   \n",
       "92608      33744.0        443.0      0.0  17620.0      0.0          NaN  ...   \n",
       "92609      33756.0        443.0      0.0   5554.0      0.0          NaN  ...   \n",
       "92610      33756.0        443.0      0.0   5554.0      0.0          NaN  ...   \n",
       "92611      33758.0        443.0      0.0  16092.0      0.0          NaN  ...   \n",
       "92612      33758.0        443.0      0.0  16092.0      0.0          NaN  ...   \n",
       "\n",
       "       http.request.uri  http.user_agent http.connection http.host  \\\n",
       "43027               NaN              NaN             NaN       NaN   \n",
       "43029               NaN              NaN             NaN       NaN   \n",
       "43032               NaN              NaN             NaN       NaN   \n",
       "43033               NaN              NaN             NaN       NaN   \n",
       "43035               NaN              NaN             NaN       NaN   \n",
       "...                 ...              ...             ...       ...   \n",
       "92608               NaN              NaN             NaN       NaN   \n",
       "92609               NaN              NaN             NaN       NaN   \n",
       "92610               NaN              NaN             NaN       NaN   \n",
       "92611               NaN              NaN             NaN       NaN   \n",
       "92612               NaN              NaN             NaN       NaN   \n",
       "\n",
       "      http.response.code http.server http.content_type  http.content_length  \\\n",
       "43027                NaN         NaN               NaN                  NaN   \n",
       "43029                NaN         NaN               NaN                  NaN   \n",
       "43032                NaN         NaN               NaN                  NaN   \n",
       "43033                NaN         NaN               NaN                  NaN   \n",
       "43035                NaN         NaN               NaN                  NaN   \n",
       "...                  ...         ...               ...                  ...   \n",
       "92608                NaN         NaN               NaN                  NaN   \n",
       "92609                NaN         NaN               NaN                  NaN   \n",
       "92610                NaN         NaN               NaN                  NaN   \n",
       "92611                NaN         NaN               NaN                  NaN   \n",
       "92612                NaN         NaN               NaN                  NaN   \n",
       "\n",
       "       http.cache_control  seconds  \n",
       "43027                 NaN  28290.0  \n",
       "43029                 NaN  28290.0  \n",
       "43032                 NaN  28290.0  \n",
       "43033                 NaN  28290.0  \n",
       "43035                 NaN  28290.0  \n",
       "...                   ...      ...  \n",
       "92608                 NaN  28390.0  \n",
       "92609                 NaN  28390.0  \n",
       "92610                 NaN  28390.0  \n",
       "92611                 NaN  28390.0  \n",
       "92612                 NaN  28390.0  \n",
       "\n",
       "[9321 rows x 23 columns]"
      ]
     },
     "execution_count": 21,
     "metadata": {},
     "output_type": "execute_result"
    }
   ],
   "source": [
    "a"
   ]
  },
  {
   "cell_type": "code",
   "execution_count": 22,
   "metadata": {},
   "outputs": [
    {
     "data": {
      "text/plain": [
       "10.89.32.47    9321\n",
       "Name: ip.dst, dtype: int64"
      ]
     },
     "execution_count": 22,
     "metadata": {},
     "output_type": "execute_result"
    }
   ],
   "source": [
    "a['ip.dst'].value_counts()"
   ]
  },
  {
   "cell_type": "code",
   "execution_count": 24,
   "metadata": {},
   "outputs": [],
   "source": [
    "dos = a[['ip.src', 'ip.dst', 'tcp.srcport', 'tcp.dstport']]\n",
    "dos.to_csv(\"dos.csv\", index=False)"
   ]
  },
  {
   "cell_type": "markdown",
   "metadata": {},
   "source": [
    "# 3822.csv 시간별 패킷개수(그래프)"
   ]
  },
  {
   "cell_type": "code",
   "execution_count": 4,
   "metadata": {},
   "outputs": [],
   "source": [
    "import os\n",
    "import time\n",
    "import math\n",
    "import pickle\n",
    "import pandas as pd\n",
    "import numpy as np\n",
    "from collections import Counter\n",
    "import matplotlib.pyplot as plt"
   ]
  },
  {
   "cell_type": "code",
   "execution_count": 5,
   "metadata": {},
   "outputs": [],
   "source": [
    "data = pd.read_csv(r\"E:\\와이앤슈\\NIDS\\데이터셋\\본선이후\\A_test2_exTOin.csv\",sep=',',warn_bad_lines=False, error_bad_lines=False) #"
   ]
  },
  {
   "cell_type": "code",
   "execution_count": 6,
   "metadata": {},
   "outputs": [
    {
     "data": {
      "text/plain": [
       "13.107.4.50       1441752\n",
       "8.253.104.126      234365\n",
       "192.99.204.26       72693\n",
       "162.125.4.6         41393\n",
       "91.189.88.162       30959\n",
       "                   ...   \n",
       "210.140.236.10          1\n",
       "210.140.236.12          1\n",
       "69.64.147.32            1\n",
       "210.140.236.11          1\n",
       "174.129.29.90           1\n",
       "Name: ip.src, Length: 5521, dtype: int64"
      ]
     },
     "execution_count": 6,
     "metadata": {},
     "output_type": "execute_result"
    }
   ],
   "source": [
    "data['ip.src'].value_counts()"
   ]
  },
  {
   "cell_type": "code",
   "execution_count": 5,
   "metadata": {},
   "outputs": [
    {
     "name": "stdout",
     "output_type": "stream",
     "text": [
      "162 162\n"
     ]
    }
   ],
   "source": [
    "data[\"seconds\"] = round(pd.to_timedelta(data[\"_ws.col.UTCtime\"]).dt.total_seconds(), -2)\n",
    "time_set = sorted(list(set(data[\"seconds\"])))\n",
    "result = []\n",
    "for i in range(len(time_set)):\n",
    "    result.append(len(data[data[\"seconds\"] == time_set[i]]))\n",
    "print(len(result), len(time_set))"
   ]
  },
  {
   "cell_type": "code",
   "execution_count": 6,
   "metadata": {
    "scrolled": true
   },
   "outputs": [
    {
     "data": {
      "image/png": "[encoded data removed]",
      "text/plain": [
       "<Figure size 432x288 with 1 Axes>"
      ]
     },
     "metadata": {
      "needs_background": "light"
     },
     "output_type": "display_data"
    }
   ],
   "source": [
    "x = time_set\n",
    "y = result\n",
    "plt.plot(x,y,'k')\n",
    "plt.xlabel('time')\n",
    "plt.ylabel('count')\n",
    "plt.show()"
   ]
  },
  {
   "cell_type": "code",
   "execution_count": 7,
   "metadata": {},
   "outputs": [],
   "source": [
    "data1 = pd.read_csv(r\"E:\\와이앤슈\\NIDS\\데이터셋\\본선이후\\A_test2_inTOex.csv\",sep=',',warn_bad_lines=False, error_bad_lines=False) #"
   ]
  },
  {
   "cell_type": "code",
   "execution_count": 8,
   "metadata": {},
   "outputs": [
    {
     "data": {
      "text/plain": [
       "192.168.10.15    1399005\n",
       "192.168.10.5      147489\n",
       "192.168.10.25     143712\n",
       "192.168.10.9      133371\n",
       "192.168.10.12     123421\n",
       "192.168.10.14     112559\n",
       "192.168.10.16      96299\n",
       "192.168.10.19      89488\n",
       "192.168.10.17      79203\n",
       "192.168.10.8       77883\n",
       "192.168.10.51       4667\n",
       "192.168.10.3        1469\n",
       "192.168.10.50        615\n",
       "Name: ip.src, dtype: int64"
      ]
     },
     "execution_count": 8,
     "metadata": {},
     "output_type": "execute_result"
    }
   ],
   "source": [
    "data1['ip.src'].value_counts()"
   ]
  },
  {
   "cell_type": "code",
   "execution_count": 11,
   "metadata": {},
   "outputs": [
    {
     "name": "stdout",
     "output_type": "stream",
     "text": [
      "162 162\n"
     ]
    }
   ],
   "source": [
    "data[\"seconds\"] = round(pd.to_timedelta(data[\"_ws.col.UTCtime\"]).dt.total_seconds(), -2)\n",
    "time_set1 = sorted(list(set(data[\"seconds\"])))\n",
    "result1 = []\n",
    "for i in range(len(time_set1)):\n",
    "    result1.append(len(data[data[\"seconds\"] == time_set1[i]]))\n",
    "print(len(result1), len(time_set1))"
   ]
  },
  {
   "cell_type": "code",
   "execution_count": 12,
   "metadata": {},
   "outputs": [
    {
     "data": {
      "image/png": "[encoded data removed]",
      "text/plain": [
       "<Figure size 432x288 with 1 Axes>"
      ]
     },
     "metadata": {
      "needs_background": "light"
     },
     "output_type": "display_data"
    }
   ],
   "source": [
    "plt.plot(time_set1,result1,'k')\n",
    "plt.xlabel('time')\n",
    "plt.ylabel('count')\n",
    "plt.show()"
   ]
  },
  {
   "cell_type": "code",
   "execution_count": null,
   "metadata": {},
   "outputs": [],
   "source": []
  },
  {
   "cell_type": "code",
   "execution_count": null,
   "metadata": {},
   "outputs": [],
   "source": []
  },
  {
   "cell_type": "markdown",
   "metadata": {},
   "source": [
    "<B_test1_2nd_one_way.csv>"
   ]
  },
  {
   "cell_type": "code",
   "execution_count": 2,
   "metadata": {
    "scrolled": true
   },
   "outputs": [
    {
     "name": "stderr",
     "output_type": "stream",
     "text": [
      "C:\\Users\\KJH\\Anaconda3\\envs\\py36\\lib\\site-packages\\IPython\\core\\interactiveshell.py:3058: DtypeWarning: Columns (12,13,14,15,16,18,19,21) have mixed types. Specify dtype option on import or set low_memory=False.\n",
      "  interactivity=interactivity, compiler=compiler, result=result)\n"
     ]
    }
   ],
   "source": [
    "data = pd.read_csv(r\"E:\\rnddata\\one_way\\B_test1_2nd_one_way.csv\",sep=',',warn_bad_lines=False, error_bad_lines=False) #"
   ]
  },
  {
   "cell_type": "code",
   "execution_count": 3,
   "metadata": {},
   "outputs": [
    {
     "name": "stdout",
     "output_type": "stream",
     "text": [
      "224 224\n"
     ]
    }
   ],
   "source": [
    "data[\"seconds\"] = round(pd.to_timedelta(data[\"_ws.col.UTCtime\"]).dt.total_seconds())\n",
    "time_set = sorted(list(set(data[\"seconds\"])))\n",
    "result = []\n",
    "for i in range(len(time_set)):\n",
    "    result.append(len(data[data[\"seconds\"] == time_set[i]]))\n",
    "print(len(result), len(time_set))"
   ]
  },
  {
   "cell_type": "code",
   "execution_count": 4,
   "metadata": {
    "scrolled": false
   },
   "outputs": [
    {
     "data": {
      "image/png": "[encoded data removed]",
      "text/plain": [
       "<Figure size 432x288 with 1 Axes>"
      ]
     },
     "metadata": {
      "needs_background": "light"
     },
     "output_type": "display_data"
    }
   ],
   "source": [
    "x = time_set\n",
    "y = result\n",
    "plt.plot(x,y,'k')\n",
    "plt.xlabel('time')\n",
    "plt.ylabel('count')\n",
    "plt.show()"
   ]
  },
  {
   "cell_type": "markdown",
   "metadata": {},
   "source": [
    " "
   ]
  },
  {
   "cell_type": "markdown",
   "metadata": {},
   "source": [
    " "
   ]
  },
  {
   "cell_type": "markdown",
   "metadata": {},
   "source": [
    "<B_train_set2_one_way.csv>"
   ]
  },
  {
   "cell_type": "code",
   "execution_count": 5,
   "metadata": {
    "scrolled": true
   },
   "outputs": [
    {
     "name": "stderr",
     "output_type": "stream",
     "text": [
      "C:\\Users\\KJH\\Anaconda3\\envs\\py36\\lib\\site-packages\\IPython\\core\\interactiveshell.py:3058: DtypeWarning: Columns (12,13,14,15,16) have mixed types. Specify dtype option on import or set low_memory=False.\n",
      "  interactivity=interactivity, compiler=compiler, result=result)\n"
     ]
    }
   ],
   "source": [
    "B_train = pd.read_csv(r\"E:\\rnddata\\one_way\\B_train_set2_one_way.csv\",sep=',',warn_bad_lines=False, error_bad_lines=False)"
   ]
  },
  {
   "cell_type": "code",
   "execution_count": 6,
   "metadata": {},
   "outputs": [
    {
     "name": "stdout",
     "output_type": "stream",
     "text": [
      "816 816\n"
     ]
    }
   ],
   "source": [
    "B_train[\"seconds\"] = round(pd.to_timedelta(B_train[\"_ws.col.UTCtime\"]).dt.total_seconds())\n",
    "time_set = sorted(list(set(B_train[\"seconds\"])))\n",
    "result = []\n",
    "for i in range(len(time_set)):\n",
    "    result.append(len(B_train[B_train[\"seconds\"] == time_set[i]]))\n",
    "print(len(result), len(time_set))"
   ]
  },
  {
   "cell_type": "code",
   "execution_count": 7,
   "metadata": {},
   "outputs": [
    {
     "data": {
      "image/png": "[encoded data removed]",
      "text/plain": [
       "<Figure size 432x288 with 1 Axes>"
      ]
     },
     "metadata": {
      "needs_background": "light"
     },
     "output_type": "display_data"
    }
   ],
   "source": [
    "x = time_set\n",
    "y = result\n",
    "plt.plot(x,y,'k')\n",
    "plt.xlabel('time')\n",
    "plt.ylabel('count')\n",
    "plt.show()"
   ]
  },
  {
   "cell_type": "markdown",
   "metadata": {},
   "source": [
    " \n",
    "\n",
    "\n"
   ]
  },
  {
   "cell_type": "markdown",
   "metadata": {},
   "source": [
    " "
   ]
  },
  {
   "cell_type": "markdown",
   "metadata": {},
   "source": [
    "<A_attack.csv>"
   ]
  },
  {
   "cell_type": "code",
   "execution_count": 24,
   "metadata": {},
   "outputs": [
    {
     "name": "stderr",
     "output_type": "stream",
     "text": [
      "C:\\Users\\KJH\\Anaconda3\\envs\\py36\\lib\\site-packages\\IPython\\core\\interactiveshell.py:3058: DtypeWarning: Columns (12,13,14,15,16,19) have mixed types. Specify dtype option on import or set low_memory=False.\n",
      "  interactivity=interactivity, compiler=compiler, result=result)\n"
     ]
    }
   ],
   "source": [
    "A_attack = pd.read_csv(r\"E:\\rnddata\\(최종)공격통신_정상통신\\A_attack.csv\",sep=',',warn_bad_lines=False, error_bad_lines=False)"
   ]
  },
  {
   "cell_type": "code",
   "execution_count": 30,
   "metadata": {},
   "outputs": [
    {
     "data": {
      "text/plain": [
       "Index(['_ws.col.UTCtime', '_ws.col.Protocol', 'ip.src', 'ip.dst',\n",
       "       'tcp.srcport', 'tcp.dstport', 'tcp.len', 'tcp.seq', 'tcp.ack',\n",
       "       'udp.srcport', 'udp.dstport', 'udp.length', 'http.request.method',\n",
       "       'http.request.uri', 'http.user_agent', 'http.connection', 'http.host',\n",
       "       'http.response.code', 'http.server', 'http.content_type',\n",
       "       'http.content_length', 'http.cache_control', 'seconds', 'seconds1'],\n",
       "      dtype='object')"
      ]
     },
     "execution_count": 30,
     "metadata": {},
     "output_type": "execute_result"
    }
   ],
   "source": [
    "A_attack.columns"
   ]
  },
  {
   "cell_type": "code",
   "execution_count": 29,
   "metadata": {},
   "outputs": [],
   "source": [
    "A_attack[\"seconds1\"] = round(pd.to_timedelta(A_attack[\"_ws.col.UTCtime\"]).dt.total_seconds())\n",
    "time_set_attack = sorted(list(set(A_attack[\"seconds1\"])))\n",
    "result_attack = []\n",
    "for i in range(len(time_set_attack)):\n",
    "    result_attack.append(len(A_attack[A_attack[\"seconds1\"] == time_set_attack[i]]))\n",
    "# print(len(result), len(time_set))"
   ]
  },
  {
   "cell_type": "code",
   "execution_count": 31,
   "metadata": {},
   "outputs": [
    {
     "data": {
      "image/png": "[encoded data removed]",
      "text/plain": [
       "<Figure size 432x288 with 1 Axes>"
      ]
     },
     "metadata": {
      "needs_background": "light"
     },
     "output_type": "display_data"
    }
   ],
   "source": [
    "x = time_set\n",
    "y = result\n",
    "plt.plot(time_set_attack,result_attack,'k')\n",
    "plt.xlabel('time')\n",
    "plt.ylabel('count')\n",
    "plt.show()"
   ]
  },
  {
   "cell_type": "markdown",
   "metadata": {},
   "source": [
    "<A_train_set1_one_way.csv>"
   ]
  },
  {
   "cell_type": "code",
   "execution_count": 4,
   "metadata": {
    "scrolled": true
   },
   "outputs": [
    {
     "name": "stderr",
     "output_type": "stream",
     "text": [
      "C:\\Users\\KJH\\Anaconda3\\envs\\py36\\lib\\site-packages\\IPython\\core\\interactiveshell.py:3058: DtypeWarning: Columns (14,15,18,19,21) have mixed types. Specify dtype option on import or set low_memory=False.\n",
      "  interactivity=interactivity, compiler=compiler, result=result)\n"
     ]
    }
   ],
   "source": [
    "A_train = pd.read_csv(r\"E:\\rnddata\\(최종)one_way\\A_train_set1_one_way.csv\",sep=',',warn_bad_lines=False, error_bad_lines=False)"
   ]
  },
  {
   "cell_type": "code",
   "execution_count": 5,
   "metadata": {},
   "outputs": [
    {
     "name": "stdout",
     "output_type": "stream",
     "text": [
      "28333 28333\n"
     ]
    }
   ],
   "source": [
    "A_train[\"seconds\"] = round(pd.to_timedelta(A_train[\"_ws.col.UTCtime\"]).dt.total_seconds())\n",
    "time_set = sorted(list(set(A_train[\"seconds\"])))\n",
    "result = []\n",
    "for i in range(len(time_set)):\n",
    "    result.append(len(A_train[A_train[\"seconds\"] == time_set[i]]))\n",
    "print(len(result), len(time_set))"
   ]
  },
  {
   "cell_type": "code",
   "execution_count": 6,
   "metadata": {},
   "outputs": [
    {
     "data": {
      "image/png": "[encoded data removed]",
      "text/plain": [
       "<Figure size 432x288 with 1 Axes>"
      ]
     },
     "metadata": {
      "needs_background": "light"
     },
     "output_type": "display_data"
    }
   ],
   "source": [
    "x = time_set\n",
    "y = result\n",
    "plt.plot(x,y,'k')\n",
    "plt.xlabel('time')\n",
    "plt.ylabel('count')\n",
    "plt.show()"
   ]
  },
  {
   "cell_type": "code",
   "execution_count": 7,
   "metadata": {},
   "outputs": [
    {
     "name": "stdout",
     "output_type": "stream",
     "text": [
      "292 292\n"
     ]
    }
   ],
   "source": [
    "A_train[\"seconds1\"] = round(pd.to_timedelta(A_train[\"_ws.col.UTCtime\"]).dt.total_seconds(),-2)\n",
    "time_set = sorted(list(set(A_train[\"seconds1\"])))\n",
    "result = []\n",
    "for i in range(len(time_set)):\n",
    "    result.append(len(A_train[A_train[\"seconds1\"] == time_set[i]]))\n",
    "print(len(result), len(time_set))"
   ]
  },
  {
   "cell_type": "code",
   "execution_count": 8,
   "metadata": {},
   "outputs": [
    {
     "data": {
      "image/png": "[encoded data removed]",
      "text/plain": [
       "<Figure size 432x288 with 1 Axes>"
      ]
     },
     "metadata": {
      "needs_background": "light"
     },
     "output_type": "display_data"
    }
   ],
   "source": [
    "x = time_set\n",
    "y = result\n",
    "plt.plot(x,y,'k')\n",
    "plt.xlabel('time')\n",
    "plt.ylabel('count')\n",
    "plt.show()"
   ]
  },
  {
   "cell_type": "markdown",
   "metadata": {},
   "source": [
    " "
   ]
  },
  {
   "cell_type": "markdown",
   "metadata": {},
   "source": [
    " "
   ]
  },
  {
   "cell_type": "markdown",
   "metadata": {},
   "source": [
    "<A_test1_1st_one_way.csv>"
   ]
  },
  {
   "cell_type": "code",
   "execution_count": 10,
   "metadata": {},
   "outputs": [
    {
     "name": "stderr",
     "output_type": "stream",
     "text": [
      "C:\\Users\\KJH\\Anaconda3\\envs\\py36\\lib\\site-packages\\IPython\\core\\interactiveshell.py:3058: DtypeWarning: Columns (12,13,14,15,16,18,21) have mixed types. Specify dtype option on import or set low_memory=False.\n",
      "  interactivity=interactivity, compiler=compiler, result=result)\n"
     ]
    }
   ],
   "source": [
    "A_test = pd.read_csv(r\"E:\\rnddata\\(최종)one_way\\A_test1_1st_one_way.csv\",sep=',',warn_bad_lines=False, error_bad_lines=False)"
   ]
  },
  {
   "cell_type": "code",
   "execution_count": 11,
   "metadata": {},
   "outputs": [
    {
     "name": "stdout",
     "output_type": "stream",
     "text": [
      "292 292\n"
     ]
    }
   ],
   "source": [
    "A_test[\"seconds\"] = round(pd.to_timedelta(A_test[\"_ws.col.UTCtime\"]).dt.total_seconds(), -2)\n",
    "time_set_test = sorted(list(set(A_test[\"seconds\"])))\n",
    "result_test = []\n",
    "for i in range(len(time_set_test)):\n",
    "    result_test.append(len(A_test[A_test[\"seconds\"] == time_set_test[i]]))\n",
    "print(len(result_test), len(time_set_test))"
   ]
  },
  {
   "cell_type": "code",
   "execution_count": 14,
   "metadata": {},
   "outputs": [
    {
     "data": {
      "image/png": "[encoded data removed]",
      "text/plain": [
       "<Figure size 432x288 with 1 Axes>"
      ]
     },
     "metadata": {
      "needs_background": "light"
     },
     "output_type": "display_data"
    }
   ],
   "source": [
    "plt.plot(time_set_test, result_test, 'k')\n",
    "plt.xlabel('time')\n",
    "plt.ylabel('count')\n",
    "plt.show()"
   ]
  },
  {
   "cell_type": "code",
   "execution_count": 21,
   "metadata": {
    "scrolled": true
   },
   "outputs": [
    {
     "data": {
      "image/png": "[encoded data removed]",
      "text/plain": [
       "<Figure size 432x288 with 1 Axes>"
      ]
     },
     "metadata": {
      "needs_background": "light"
     },
     "output_type": "display_data"
    }
   ],
   "source": [
    "x = time_set\n",
    "y = result\n",
    "plt.plot(x,y)\n",
    "plt.plot(time_set_test, result_test)\n",
    "plt.plot(time_set_attack, result_attack)\n",
    "plt.xlabel('time')\n",
    "plt.ylabel('count')\n",
    "plt.show()"
   ]
  },
  {
   "cell_type": "code",
   "execution_count": 29,
   "metadata": {},
   "outputs": [],
   "source": [
    "a = A_test[\"seconds\"]"
   ]
  },
  {
   "cell_type": "code",
   "execution_count": 28,
   "metadata": {},
   "outputs": [],
   "source": [
    "b = A_train[\"seconds\"]"
   ]
  },
  {
   "cell_type": "code",
   "execution_count": 32,
   "metadata": {},
   "outputs": [
    {
     "data": {
      "text/plain": [
       "1881793    45709.0\n",
       "1881794    45709.0\n",
       "1881795    45709.0\n",
       "1881796    45709.0\n",
       "1881797    45709.0\n",
       "            ...   \n",
       "1882055    45709.0\n",
       "1882056    45709.0\n",
       "1882057    45709.0\n",
       "1882058    45709.0\n",
       "1882059    45709.0\n",
       "Name: seconds, Length: 267, dtype: float64"
      ]
     },
     "execution_count": 32,
     "metadata": {},
     "output_type": "execute_result"
    }
   ],
   "source": [
    "a[a  == 45709]"
   ]
  },
  {
   "cell_type": "code",
   "execution_count": 33,
   "metadata": {},
   "outputs": [
    {
     "data": {
      "text/plain": [
       "0          45709.0\n",
       "1          45709.0\n",
       "2          45709.0\n",
       "3          45709.0\n",
       "4          45709.0\n",
       "            ...   \n",
       "4848530    45709.0\n",
       "4848531    45709.0\n",
       "4848532    45709.0\n",
       "4848533    45709.0\n",
       "4848534    45709.0\n",
       "Name: seconds, Length: 2487, dtype: float64"
      ]
     },
     "execution_count": 33,
     "metadata": {},
     "output_type": "execute_result"
    }
   ],
   "source": [
    "b[b == 45709]"
   ]
  },
  {
   "cell_type": "code",
   "execution_count": null,
   "metadata": {},
   "outputs": [],
   "source": []
  },
  {
   "cell_type": "code",
   "execution_count": null,
   "metadata": {},
   "outputs": [],
   "source": []
  },
  {
   "cell_type": "code",
   "execution_count": null,
   "metadata": {},
   "outputs": [],
   "source": []
  },
  {
   "cell_type": "code",
   "execution_count": null,
   "metadata": {},
   "outputs": [],
   "source": []
  },
  {
   "cell_type": "code",
   "execution_count": 20,
   "metadata": {},
   "outputs": [],
   "source": [
    "data = pd.read_csv(\"3822.csv\",sep=',',warn_bad_lines=False, error_bad_lines=False)"
   ]
  },
  {
   "cell_type": "code",
   "execution_count": 18,
   "metadata": {},
   "outputs": [],
   "source": [
    "del data['seconds']"
   ]
  },
  {
   "cell_type": "code",
   "execution_count": 21,
   "metadata": {},
   "outputs": [
    {
     "data": {
      "text/plain": [
       "Index(['_ws.col.UTCtime', '_ws.col.Protocol', 'ip.src', 'ip.dst',\n",
       "       'tcp.srcport', 'tcp.dstport', 'tcp.len', 'tcp.seq', 'tcp.ack',\n",
       "       'udp.srcport', 'udp.dstport', 'udp.length', 'http.request.method',\n",
       "       'http.request.uri', 'http.user_agent', 'http.connection', 'http.host',\n",
       "       'http.response.code', 'http.server', 'http.content_type',\n",
       "       'http.content_length', 'http.cache_control'],\n",
       "      dtype='object')"
      ]
     },
     "execution_count": 21,
     "metadata": {},
     "output_type": "execute_result"
    }
   ],
   "source": [
    "data.columns"
   ]
  },
  {
   "cell_type": "code",
   "execution_count": 22,
   "metadata": {},
   "outputs": [
    {
     "name": "stdout",
     "output_type": "stream",
     "text": [
      "291 291\n"
     ]
    }
   ],
   "source": [
    "data[\"seconds\"] = round(pd.to_timedelta(data[\"_ws.col.UTCtime\"]).dt.total_seconds(), -2)\n",
    "time_set = sorted(list(set(data[\"seconds\"])))\n",
    "result = []\n",
    "for i in range(len(time_set)):\n",
    "    result.append(len(data[data[\"seconds\"] == time_set[i]]))\n",
    "print(len(result), len(time_set))"
   ]
  },
  {
   "cell_type": "code",
   "execution_count": null,
   "metadata": {},
   "outputs": [],
   "source": [
    "type(result)"
   ]
  },
  {
   "cell_type": "code",
   "execution_count": 23,
   "metadata": {},
   "outputs": [
    {
     "data": {
      "image/png": "[encoded data removed]",
      "text/plain": [
       "<Figure size 432x288 with 1 Axes>"
      ]
     },
     "metadata": {
      "needs_background": "light"
     },
     "output_type": "display_data"
    }
   ],
   "source": [
    "# fig = plt.figure()\n",
    "# ax.plot(x,y, 'k')\n",
    "x = time_set\n",
    "y = result\n",
    "plt.plot(x,y,'k')\n",
    "plt.xlabel('time')\n",
    "plt.ylabel('count')\n",
    "plt.show()"
   ]
  },
  {
   "cell_type": "code",
   "execution_count": null,
   "metadata": {},
   "outputs": [],
   "source": []
  },
  {
   "cell_type": "code",
   "execution_count": null,
   "metadata": {},
   "outputs": [],
   "source": []
  },
  {
   "cell_type": "code",
   "execution_count": null,
   "metadata": {},
   "outputs": [],
   "source": []
  },
  {
   "cell_type": "code",
   "execution_count": null,
   "metadata": {},
   "outputs": [],
   "source": []
  },
  {
   "cell_type": "code",
   "execution_count": null,
   "metadata": {},
   "outputs": [],
   "source": []
  },
  {
   "cell_type": "code",
   "execution_count": null,
   "metadata": {},
   "outputs": [],
   "source": []
  },
  {
   "cell_type": "code",
   "execution_count": null,
   "metadata": {},
   "outputs": [],
   "source": []
  },
  {
   "cell_type": "code",
   "execution_count": 11,
   "metadata": {
    "scrolled": true
   },
   "outputs": [
    {
     "name": "stderr",
     "output_type": "stream",
     "text": [
      "C:\\Users\\KJH\\Anaconda3\\envs\\py36\\lib\\site-packages\\IPython\\core\\interactiveshell.py:3058: DtypeWarning: Columns (12,13,14,15,16,18,21) have mixed types. Specify dtype option on import or set low_memory=False.\n",
      "  interactivity=interactivity, compiler=compiler, result=result)\n"
     ]
    }
   ],
   "source": [
    "set1 = pd.read_csv(r\"E:\\rnddata\\one_way\\A_test1_1st_one_way.csv\",sep=',',warn_bad_lines=False, error_bad_lines=False)"
   ]
  },
  {
   "cell_type": "code",
   "execution_count": 13,
   "metadata": {},
   "outputs": [
    {
     "data": {
      "text/plain": [
       "172.16.0.1    26699\n",
       "Name: ip.src, dtype: int64"
      ]
     },
     "execution_count": 13,
     "metadata": {},
     "output_type": "execute_result"
    }
   ],
   "source": [
    "set1[set1['tcp.dstport'] == 80]['ip.src'].value_counts()"
   ]
  },
  {
   "cell_type": "code",
   "execution_count": 14,
   "metadata": {},
   "outputs": [
    {
     "name": "stderr",
     "output_type": "stream",
     "text": [
      "C:\\Users\\KJH\\Anaconda3\\envs\\py36\\lib\\site-packages\\IPython\\core\\interactiveshell.py:3058: DtypeWarning: Columns (14,15,18,19,21) have mixed types. Specify dtype option on import or set low_memory=False.\n",
      "  interactivity=interactivity, compiler=compiler, result=result)\n"
     ]
    }
   ],
   "source": [
    "train1 = pd.read_csv(r\"E:\\rnddata\\one_way\\A_train_set1_one_way.csv\",sep=',',warn_bad_lines=False, error_bad_lines=False)"
   ]
  },
  {
   "cell_type": "code",
   "execution_count": 15,
   "metadata": {},
   "outputs": [
    {
     "data": {
      "text/plain": [
       "Series([], Name: ip.src, dtype: int64)"
      ]
     },
     "execution_count": 15,
     "metadata": {},
     "output_type": "execute_result"
    }
   ],
   "source": [
    "set1[set1['tcp.dstport'] == 80]['ip.src'].value_counts()"
   ]
  },
  {
   "cell_type": "code",
   "execution_count": 16,
   "metadata": {},
   "outputs": [
    {
     "name": "stderr",
     "output_type": "stream",
     "text": [
      "C:\\Users\\KJH\\Anaconda3\\envs\\py36\\lib\\site-packages\\IPython\\core\\interactiveshell.py:3058: DtypeWarning: Columns (12,13,14,15,16) have mixed types. Specify dtype option on import or set low_memory=False.\n",
      "  interactivity=interactivity, compiler=compiler, result=result)\n"
     ]
    }
   ],
   "source": [
    "set2_train = pd.read_csv(r\"E:\\rnddata\\one_way\\B_train_set2_one_way.csv\",sep=',',warn_bad_lines=False, error_bad_lines=False)"
   ]
  },
  {
   "cell_type": "code",
   "execution_count": 22,
   "metadata": {},
   "outputs": [
    {
     "data": {
      "text/plain": [
       "119.194.196.21     19484\n",
       "211.179.209.170    16477\n",
       "180.148.180.12     13808\n",
       "121.174.158.64      8254\n",
       "210.103.72.12       8235\n",
       "                   ...  \n",
       "59.3.247.192           3\n",
       "119.192.67.103         2\n",
       "168.188.32.139         2\n",
       "211.195.105.130        2\n",
       "119.192.53.101         1\n",
       "Name: ip.src, Length: 330, dtype: int64"
      ]
     },
     "execution_count": 22,
     "metadata": {},
     "output_type": "execute_result"
    }
   ],
   "source": [
    "set2_train[set2_train['tcp.dstport'] == 443]['ip.src'].value_counts()"
   ]
  },
  {
   "cell_type": "code",
   "execution_count": 23,
   "metadata": {},
   "outputs": [],
   "source": [
    "set2_test = pd.read_csv(r\"E:\\rnddata\\one_way\\B_test1_2nd_one_way.csv\",sep=',',warn_bad_lines=False, error_bad_lines=False)"
   ]
  },
  {
   "cell_type": "code",
   "execution_count": 27,
   "metadata": {},
   "outputs": [
    {
     "data": {
      "text/plain": [
       "198.108.66.120    1\n",
       "Name: ip.src, dtype: int64"
      ]
     },
     "execution_count": 27,
     "metadata": {},
     "output_type": "execute_result"
    }
   ],
   "source": [
    "set2_test[set2_test['tcp.dstport'] == 21]['ip.src'].value_counts()"
   ]
  },
  {
   "cell_type": "code",
   "execution_count": 39,
   "metadata": {},
   "outputs": [],
   "source": [
    "lst = [1,2,3,4,5,6,6]\n",
    "df = pd.DataFrame(lst)"
   ]
  },
  {
   "cell_type": "code",
   "execution_count": 40,
   "metadata": {
    "scrolled": true
   },
   "outputs": [
    {
     "data": {
      "text/html": [
       "<div>\n",
       "<style scoped>\n",
       "    .dataframe tbody tr th:only-of-type {\n",
       "        vertical-align: middle;\n",
       "    }\n",
       "\n",
       "    .dataframe tbody tr th {\n",
       "        vertical-align: top;\n",
       "    }\n",
       "\n",
       "    .dataframe thead th {\n",
       "        text-align: right;\n",
       "    }\n",
       "</style>\n",
       "<table border=\"1\" class=\"dataframe\">\n",
       "  <thead>\n",
       "    <tr style=\"text-align: right;\">\n",
       "      <th></th>\n",
       "      <th>0</th>\n",
       "    </tr>\n",
       "  </thead>\n",
       "  <tbody>\n",
       "    <tr>\n",
       "      <th>0</th>\n",
       "      <td>1</td>\n",
       "    </tr>\n",
       "    <tr>\n",
       "      <th>1</th>\n",
       "      <td>2</td>\n",
       "    </tr>\n",
       "    <tr>\n",
       "      <th>2</th>\n",
       "      <td>3</td>\n",
       "    </tr>\n",
       "    <tr>\n",
       "      <th>3</th>\n",
       "      <td>4</td>\n",
       "    </tr>\n",
       "    <tr>\n",
       "      <th>4</th>\n",
       "      <td>5</td>\n",
       "    </tr>\n",
       "    <tr>\n",
       "      <th>5</th>\n",
       "      <td>6</td>\n",
       "    </tr>\n",
       "    <tr>\n",
       "      <th>6</th>\n",
       "      <td>6</td>\n",
       "    </tr>\n",
       "  </tbody>\n",
       "</table>\n",
       "</div>"
      ],
      "text/plain": [
       "   0\n",
       "0  1\n",
       "1  2\n",
       "2  3\n",
       "3  4\n",
       "4  5\n",
       "5  6\n",
       "6  6"
      ]
     },
     "execution_count": 40,
     "metadata": {},
     "output_type": "execute_result"
    }
   ],
   "source": [
    "df"
   ]
  },
  {
   "cell_type": "code",
   "execution_count": null,
   "metadata": {},
   "outputs": [],
   "source": []
  }
 ],
 "metadata": {
  "kernelspec": {
   "display_name": "Python 3",
   "language": "python",
   "name": "python3"
  },
  "language_info": {
   "codemirror_mode": {
    "name": "ipython",
    "version": 3
   },
   "file_extension": ".py",
   "mimetype": "text/x-python",
   "name": "python",
   "nbconvert_exporter": "python",
   "pygments_lexer": "ipython3",
   "version": "3.6.9"
  }
 },
 "nbformat": 4,
 "nbformat_minor": 2
}
