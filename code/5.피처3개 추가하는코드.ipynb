{
 "cells": [
  {
   "cell_type": "markdown",
   "metadata": {},
   "source": [
    "# 피쳐 3개 추가(A네트워크/B네트워크 둘다 해야함)\n",
    "\n",
    "[feature]\n",
    "1. tcp.srcport\n",
    "2. tcp.dstport\n",
    "3. tcp.srcport:tcp.dstport 비율\n"
   ]
  },
  {
   "cell_type": "code",
   "execution_count": 1,
   "metadata": {},
   "outputs": [],
   "source": [
    "import pandas as pd\n",
    "import os"
   ]
  },
  {
   "cell_type": "code",
   "execution_count": 3,
   "metadata": {},
   "outputs": [
    {
     "name": "stdout",
     "output_type": "stream",
     "text": [
      "\n",
      "folder_path :  ./Dataset4 \n",
      "folder_dirs :  [] \n",
      "folder_files :  1\n"
     ]
    }
   ],
   "source": [
    "folder_path = r'./Dataset4'\n",
    "\n",
    "folder_path, folder_dirs, folder_files = next(os.walk(folder_path))\n",
    "print(\"\\nfolder_path : \" ,folder_path, \"\\nfolder_dirs : \",folder_dirs, \"\\nfolder_files : \",len(folder_files))\n",
    "os.mkdir(folder_path+ \"/feature10/\")\n",
    "# result = []\n",
    "# ts = time.time()\n",
    "for i in range(len(folder_files)):\n",
    "    temp = pd.read_csv(folder_path + \"/\" + folder_files[i],warn_bad_lines=False, error_bad_lines=False, low_memory=False)\n",
    "    port = temp[\"SET\"].str.rsplit(\"_\", n = 2, expand = True) \n",
    "    src_port = port[1].str.split(' ', expand = True)\n",
    "    dst_port = port[2].str.split('.', expand = True)\n",
    "    temp['tcp.srcport'] = src_port[0]\n",
    "    temp['tcp.dstport'] = dst_port[0]\n",
    "    temp['ip.src'] = port[0]\n",
    "    temp['ip.dst'] = src_port[1]\n",
    "    temp['SET2_dst'] = dst_port[0]+port[0]+src_port[1]\n",
    "    temp['SET2_src'] = src_port[0]+port[0]+src_port[1]\n",
    "    grouped1 = temp[['tcp.srcport', 'SET2_dst']]\n",
    "    grouped1.columns = ['src.num', 'SET2_dst']\n",
    "    grouped2 = temp[['tcp.dstport', 'SET2_src']]\n",
    "    grouped2.columns = ['dst.num', 'SET2_src']\n",
    "    grouped1 = grouped1.groupby(\"SET2_dst\").count().reset_index()\n",
    "    grouped2 = grouped2.groupby(\"SET2_src\").count().reset_index()\n",
    "    merge1 = temp.merge(grouped1, on=[\"SET2_dst\"], how = 'outer', suffixes=['','_'] )\n",
    "    merge2 = merge1.merge(grouped2, on=[\"SET2_src\"], how = 'outer', suffixes=['','_'] )\n",
    "    merge2['ratio'] = merge2['src.num']/merge2['dst.num']\n",
    "    merge2.to_csv(folder_path + \"/feature10/\" + folder_files[i], index = False)\n",
    "#     display(temp.head())"
   ]
  },
  {
   "cell_type": "code",
   "execution_count": null,
   "metadata": {},
   "outputs": [],
   "source": []
  }
 ],
 "metadata": {
  "kernelspec": {
   "display_name": "Python 3",
   "language": "python",
   "name": "python3"
  },
  "language_info": {
   "codemirror_mode": {
    "name": "ipython",
    "version": 3
   },
   "file_extension": ".py",
   "mimetype": "text/x-python",
   "name": "python",
   "nbconvert_exporter": "python",
   "pygments_lexer": "ipython3",
   "version": "3.6.9"
  }
 },
 "nbformat": 4,
 "nbformat_minor": 2
}
